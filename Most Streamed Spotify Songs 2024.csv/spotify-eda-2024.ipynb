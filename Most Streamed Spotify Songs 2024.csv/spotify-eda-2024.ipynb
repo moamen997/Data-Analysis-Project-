{
 "cells": [
  {
   "cell_type": "code",
   "execution_count": 1,
   "id": "5b2da2f6",
   "metadata": {
    "execution": {
     "iopub.execute_input": "2024-07-12T15:38:14.472089Z",
     "iopub.status.busy": "2024-07-12T15:38:14.471748Z",
     "iopub.status.idle": "2024-07-12T15:38:16.420374Z",
     "shell.execute_reply": "2024-07-12T15:38:16.419364Z"
    },
    "papermill": {
     "duration": 1.967,
     "end_time": "2024-07-12T15:38:16.422900",
     "exception": false,
     "start_time": "2024-07-12T15:38:14.455900",
     "status": "completed"
    },
    "tags": []
   },
   "outputs": [],
   "source": [
    "import numpy as np\n",
    "import pandas as pd\n",
    "import matplotlib.pyplot as plt\n",
    "import seaborn as sns\n",
    "palette = sns.color_palette(\"Set1\")\n",
    "%matplotlib inline\n",
    "import warnings\n",
    "warnings.simplefilter(action='ignore', category=FutureWarning)"
   ]
  },
  {
   "cell_type": "code",
   "execution_count": 2,
   "id": "fd32c41f",
   "metadata": {
    "execution": {
     "iopub.execute_input": "2024-07-12T15:38:16.451417Z",
     "iopub.status.busy": "2024-07-12T15:38:16.450923Z",
     "iopub.status.idle": "2024-07-12T15:38:16.559975Z",
     "shell.execute_reply": "2024-07-12T15:38:16.558972Z"
    },
    "papermill": {
     "duration": 0.125506,
     "end_time": "2024-07-12T15:38:16.562002",
     "exception": false,
     "start_time": "2024-07-12T15:38:16.436496",
     "status": "completed"
    },
    "tags": []
   },
   "outputs": [
    {
     "data": {
      "text/html": [
       "<div>\n",
       "<style scoped>\n",
       "    .dataframe tbody tr th:only-of-type {\n",
       "        vertical-align: middle;\n",
       "    }\n",
       "\n",
       "    .dataframe tbody tr th {\n",
       "        vertical-align: top;\n",
       "    }\n",
       "\n",
       "    .dataframe thead th {\n",
       "        text-align: right;\n",
       "    }\n",
       "</style>\n",
       "<table border=\"1\" class=\"dataframe\">\n",
       "  <thead>\n",
       "    <tr style=\"text-align: right;\">\n",
       "      <th></th>\n",
       "      <th>Track</th>\n",
       "      <th>Album Name</th>\n",
       "      <th>Artist</th>\n",
       "      <th>Release Date</th>\n",
       "      <th>ISRC</th>\n",
       "      <th>All Time Rank</th>\n",
       "      <th>Track Score</th>\n",
       "      <th>Spotify Streams</th>\n",
       "      <th>Spotify Playlist Count</th>\n",
       "      <th>Spotify Playlist Reach</th>\n",
       "      <th>...</th>\n",
       "      <th>SiriusXM Spins</th>\n",
       "      <th>Deezer Playlist Count</th>\n",
       "      <th>Deezer Playlist Reach</th>\n",
       "      <th>Amazon Playlist Count</th>\n",
       "      <th>Pandora Streams</th>\n",
       "      <th>Pandora Track Stations</th>\n",
       "      <th>Soundcloud Streams</th>\n",
       "      <th>Shazam Counts</th>\n",
       "      <th>TIDAL Popularity</th>\n",
       "      <th>Explicit Track</th>\n",
       "    </tr>\n",
       "  </thead>\n",
       "  <tbody>\n",
       "    <tr>\n",
       "      <th>0</th>\n",
       "      <td>MILLION DOLLAR BABY</td>\n",
       "      <td>Million Dollar Baby - Single</td>\n",
       "      <td>Tommy Richman</td>\n",
       "      <td>4/26/2024</td>\n",
       "      <td>QM24S2402528</td>\n",
       "      <td>1</td>\n",
       "      <td>725.4</td>\n",
       "      <td>390,470,936</td>\n",
       "      <td>30,716</td>\n",
       "      <td>196,631,588</td>\n",
       "      <td>...</td>\n",
       "      <td>684</td>\n",
       "      <td>62.0</td>\n",
       "      <td>17,598,718</td>\n",
       "      <td>114.0</td>\n",
       "      <td>18,004,655</td>\n",
       "      <td>22,931</td>\n",
       "      <td>4,818,457</td>\n",
       "      <td>2,669,262</td>\n",
       "      <td>NaN</td>\n",
       "      <td>0</td>\n",
       "    </tr>\n",
       "    <tr>\n",
       "      <th>1</th>\n",
       "      <td>Not Like Us</td>\n",
       "      <td>Not Like Us</td>\n",
       "      <td>Kendrick Lamar</td>\n",
       "      <td>5/4/2024</td>\n",
       "      <td>USUG12400910</td>\n",
       "      <td>2</td>\n",
       "      <td>545.9</td>\n",
       "      <td>323,703,884</td>\n",
       "      <td>28,113</td>\n",
       "      <td>174,597,137</td>\n",
       "      <td>...</td>\n",
       "      <td>3</td>\n",
       "      <td>67.0</td>\n",
       "      <td>10,422,430</td>\n",
       "      <td>111.0</td>\n",
       "      <td>7,780,028</td>\n",
       "      <td>28,444</td>\n",
       "      <td>6,623,075</td>\n",
       "      <td>1,118,279</td>\n",
       "      <td>NaN</td>\n",
       "      <td>1</td>\n",
       "    </tr>\n",
       "    <tr>\n",
       "      <th>2</th>\n",
       "      <td>i like the way you kiss me</td>\n",
       "      <td>I like the way you kiss me</td>\n",
       "      <td>Artemas</td>\n",
       "      <td>3/19/2024</td>\n",
       "      <td>QZJ842400387</td>\n",
       "      <td>3</td>\n",
       "      <td>538.4</td>\n",
       "      <td>601,309,283</td>\n",
       "      <td>54,331</td>\n",
       "      <td>211,607,669</td>\n",
       "      <td>...</td>\n",
       "      <td>536</td>\n",
       "      <td>136.0</td>\n",
       "      <td>36,321,847</td>\n",
       "      <td>172.0</td>\n",
       "      <td>5,022,621</td>\n",
       "      <td>5,639</td>\n",
       "      <td>7,208,651</td>\n",
       "      <td>5,285,340</td>\n",
       "      <td>NaN</td>\n",
       "      <td>0</td>\n",
       "    </tr>\n",
       "    <tr>\n",
       "      <th>3</th>\n",
       "      <td>Flowers</td>\n",
       "      <td>Flowers - Single</td>\n",
       "      <td>Miley Cyrus</td>\n",
       "      <td>1/12/2023</td>\n",
       "      <td>USSM12209777</td>\n",
       "      <td>4</td>\n",
       "      <td>444.9</td>\n",
       "      <td>2,031,280,633</td>\n",
       "      <td>269,802</td>\n",
       "      <td>136,569,078</td>\n",
       "      <td>...</td>\n",
       "      <td>2,182</td>\n",
       "      <td>264.0</td>\n",
       "      <td>24,684,248</td>\n",
       "      <td>210.0</td>\n",
       "      <td>190,260,277</td>\n",
       "      <td>203,384</td>\n",
       "      <td>NaN</td>\n",
       "      <td>11,822,942</td>\n",
       "      <td>NaN</td>\n",
       "      <td>0</td>\n",
       "    </tr>\n",
       "    <tr>\n",
       "      <th>4</th>\n",
       "      <td>Houdini</td>\n",
       "      <td>Houdini</td>\n",
       "      <td>Eminem</td>\n",
       "      <td>5/31/2024</td>\n",
       "      <td>USUG12403398</td>\n",
       "      <td>5</td>\n",
       "      <td>423.3</td>\n",
       "      <td>107,034,922</td>\n",
       "      <td>7,223</td>\n",
       "      <td>151,469,874</td>\n",
       "      <td>...</td>\n",
       "      <td>1</td>\n",
       "      <td>82.0</td>\n",
       "      <td>17,660,624</td>\n",
       "      <td>105.0</td>\n",
       "      <td>4,493,884</td>\n",
       "      <td>7,006</td>\n",
       "      <td>207,179</td>\n",
       "      <td>457,017</td>\n",
       "      <td>NaN</td>\n",
       "      <td>1</td>\n",
       "    </tr>\n",
       "  </tbody>\n",
       "</table>\n",
       "<p>5 rows × 29 columns</p>\n",
       "</div>"
      ],
      "text/plain": [
       "                        Track                    Album Name          Artist  \\\n",
       "0         MILLION DOLLAR BABY  Million Dollar Baby - Single   Tommy Richman   \n",
       "1                 Not Like Us                   Not Like Us  Kendrick Lamar   \n",
       "2  i like the way you kiss me    I like the way you kiss me         Artemas   \n",
       "3                     Flowers              Flowers - Single     Miley Cyrus   \n",
       "4                     Houdini                       Houdini          Eminem   \n",
       "\n",
       "  Release Date          ISRC All Time Rank  Track Score Spotify Streams  \\\n",
       "0    4/26/2024  QM24S2402528             1        725.4     390,470,936   \n",
       "1     5/4/2024  USUG12400910             2        545.9     323,703,884   \n",
       "2    3/19/2024  QZJ842400387             3        538.4     601,309,283   \n",
       "3    1/12/2023  USSM12209777             4        444.9   2,031,280,633   \n",
       "4    5/31/2024  USUG12403398             5        423.3     107,034,922   \n",
       "\n",
       "  Spotify Playlist Count Spotify Playlist Reach  ...  SiriusXM Spins  \\\n",
       "0                 30,716            196,631,588  ...             684   \n",
       "1                 28,113            174,597,137  ...               3   \n",
       "2                 54,331            211,607,669  ...             536   \n",
       "3                269,802            136,569,078  ...           2,182   \n",
       "4                  7,223            151,469,874  ...               1   \n",
       "\n",
       "  Deezer Playlist Count Deezer Playlist Reach Amazon Playlist Count  \\\n",
       "0                  62.0            17,598,718                 114.0   \n",
       "1                  67.0            10,422,430                 111.0   \n",
       "2                 136.0            36,321,847                 172.0   \n",
       "3                 264.0            24,684,248                 210.0   \n",
       "4                  82.0            17,660,624                 105.0   \n",
       "\n",
       "  Pandora Streams Pandora Track Stations Soundcloud Streams  Shazam Counts  \\\n",
       "0      18,004,655                 22,931          4,818,457      2,669,262   \n",
       "1       7,780,028                 28,444          6,623,075      1,118,279   \n",
       "2       5,022,621                  5,639          7,208,651      5,285,340   \n",
       "3     190,260,277                203,384                NaN     11,822,942   \n",
       "4       4,493,884                  7,006            207,179        457,017   \n",
       "\n",
       "  TIDAL Popularity Explicit Track  \n",
       "0              NaN              0  \n",
       "1              NaN              1  \n",
       "2              NaN              0  \n",
       "3              NaN              0  \n",
       "4              NaN              1  \n",
       "\n",
       "[5 rows x 29 columns]"
      ]
     },
     "execution_count": 2,
     "metadata": {},
     "output_type": "execute_result"
    }
   ],
   "source": [
    "spotify= pd.read_csv('/kaggle/input/most-streamed-spotify-songs-2024/Most Streamed Spotify Songs 2024.csv', encoding='latin-1')\n",
    "spotify.head(5)"
   ]
  },
  {
   "cell_type": "markdown",
   "id": "5acf23ed",
   "metadata": {
    "papermill": {
     "duration": 0.013356,
     "end_time": "2024-07-12T15:38:16.589154",
     "exception": false,
     "start_time": "2024-07-12T15:38:16.575798",
     "status": "completed"
    },
    "tags": []
   },
   "source": [
    "# **Data Exploration**"
   ]
  },
  {
   "cell_type": "code",
   "execution_count": 3,
   "id": "75c540bf",
   "metadata": {
    "execution": {
     "iopub.execute_input": "2024-07-12T15:38:16.619080Z",
     "iopub.status.busy": "2024-07-12T15:38:16.618222Z",
     "iopub.status.idle": "2024-07-12T15:38:16.642586Z",
     "shell.execute_reply": "2024-07-12T15:38:16.641664Z"
    },
    "papermill": {
     "duration": 0.041505,
     "end_time": "2024-07-12T15:38:16.644949",
     "exception": false,
     "start_time": "2024-07-12T15:38:16.603444",
     "status": "completed"
    },
    "tags": []
   },
   "outputs": [
    {
     "name": "stdout",
     "output_type": "stream",
     "text": [
      "<class 'pandas.core.frame.DataFrame'>\n",
      "RangeIndex: 4600 entries, 0 to 4599\n",
      "Data columns (total 29 columns):\n",
      " #   Column                      Non-Null Count  Dtype  \n",
      "---  ------                      --------------  -----  \n",
      " 0   Track                       4600 non-null   object \n",
      " 1   Album Name                  4600 non-null   object \n",
      " 2   Artist                      4595 non-null   object \n",
      " 3   Release Date                4600 non-null   object \n",
      " 4   ISRC                        4600 non-null   object \n",
      " 5   All Time Rank               4600 non-null   object \n",
      " 6   Track Score                 4600 non-null   float64\n",
      " 7   Spotify Streams             4487 non-null   object \n",
      " 8   Spotify Playlist Count      4530 non-null   object \n",
      " 9   Spotify Playlist Reach      4528 non-null   object \n",
      " 10  Spotify Popularity          3796 non-null   float64\n",
      " 11  YouTube Views               4292 non-null   object \n",
      " 12  YouTube Likes               4285 non-null   object \n",
      " 13  TikTok Posts                3427 non-null   object \n",
      " 14  TikTok Likes                3620 non-null   object \n",
      " 15  TikTok Views                3619 non-null   object \n",
      " 16  YouTube Playlist Reach      3591 non-null   object \n",
      " 17  Apple Music Playlist Count  4039 non-null   float64\n",
      " 18  AirPlay Spins               4102 non-null   object \n",
      " 19  SiriusXM Spins              2477 non-null   object \n",
      " 20  Deezer Playlist Count       3679 non-null   float64\n",
      " 21  Deezer Playlist Reach       3672 non-null   object \n",
      " 22  Amazon Playlist Count       3545 non-null   float64\n",
      " 23  Pandora Streams             3494 non-null   object \n",
      " 24  Pandora Track Stations      3332 non-null   object \n",
      " 25  Soundcloud Streams          1267 non-null   object \n",
      " 26  Shazam Counts               4023 non-null   object \n",
      " 27  TIDAL Popularity            0 non-null      float64\n",
      " 28  Explicit Track              4600 non-null   int64  \n",
      "dtypes: float64(6), int64(1), object(22)\n",
      "memory usage: 1.0+ MB\n"
     ]
    }
   ],
   "source": [
    "spotify.info()"
   ]
  },
  {
   "cell_type": "code",
   "execution_count": 4,
   "id": "085d7b76",
   "metadata": {
    "execution": {
     "iopub.execute_input": "2024-07-12T15:38:16.674086Z",
     "iopub.status.busy": "2024-07-12T15:38:16.673751Z",
     "iopub.status.idle": "2024-07-12T15:38:16.686865Z",
     "shell.execute_reply": "2024-07-12T15:38:16.685993Z"
    },
    "papermill": {
     "duration": 0.030036,
     "end_time": "2024-07-12T15:38:16.688862",
     "exception": false,
     "start_time": "2024-07-12T15:38:16.658826",
     "status": "completed"
    },
    "tags": []
   },
   "outputs": [
    {
     "data": {
      "text/plain": [
       "Track                            0\n",
       "Album Name                       0\n",
       "Artist                           5\n",
       "Release Date                     0\n",
       "ISRC                             0\n",
       "All Time Rank                    0\n",
       "Track Score                      0\n",
       "Spotify Streams                113\n",
       "Spotify Playlist Count          70\n",
       "Spotify Playlist Reach          72\n",
       "Spotify Popularity             804\n",
       "YouTube Views                  308\n",
       "YouTube Likes                  315\n",
       "TikTok Posts                  1173\n",
       "TikTok Likes                   980\n",
       "TikTok Views                   981\n",
       "YouTube Playlist Reach        1009\n",
       "Apple Music Playlist Count     561\n",
       "AirPlay Spins                  498\n",
       "SiriusXM Spins                2123\n",
       "Deezer Playlist Count          921\n",
       "Deezer Playlist Reach          928\n",
       "Amazon Playlist Count         1055\n",
       "Pandora Streams               1106\n",
       "Pandora Track Stations        1268\n",
       "Soundcloud Streams            3333\n",
       "Shazam Counts                  577\n",
       "TIDAL Popularity              4600\n",
       "Explicit Track                   0\n",
       "dtype: int64"
      ]
     },
     "execution_count": 4,
     "metadata": {},
     "output_type": "execute_result"
    }
   ],
   "source": [
    "spotify.isnull().sum()"
   ]
  },
  {
   "cell_type": "code",
   "execution_count": 5,
   "id": "22ed08b9",
   "metadata": {
    "execution": {
     "iopub.execute_input": "2024-07-12T15:38:16.720027Z",
     "iopub.status.busy": "2024-07-12T15:38:16.719685Z",
     "iopub.status.idle": "2024-07-12T15:38:16.744435Z",
     "shell.execute_reply": "2024-07-12T15:38:16.743477Z"
    },
    "papermill": {
     "duration": 0.043864,
     "end_time": "2024-07-12T15:38:16.746631",
     "exception": false,
     "start_time": "2024-07-12T15:38:16.702767",
     "status": "completed"
    },
    "tags": []
   },
   "outputs": [
    {
     "data": {
      "text/plain": [
       "2"
      ]
     },
     "execution_count": 5,
     "metadata": {},
     "output_type": "execute_result"
    }
   ],
   "source": [
    "spotify.duplicated().sum()"
   ]
  },
  {
   "cell_type": "code",
   "execution_count": 6,
   "id": "1a153252",
   "metadata": {
    "execution": {
     "iopub.execute_input": "2024-07-12T15:38:16.777010Z",
     "iopub.status.busy": "2024-07-12T15:38:16.776144Z",
     "iopub.status.idle": "2024-07-12T15:38:16.782569Z",
     "shell.execute_reply": "2024-07-12T15:38:16.781690Z"
    },
    "papermill": {
     "duration": 0.023597,
     "end_time": "2024-07-12T15:38:16.784606",
     "exception": false,
     "start_time": "2024-07-12T15:38:16.761009",
     "status": "completed"
    },
    "tags": []
   },
   "outputs": [
    {
     "data": {
      "text/plain": [
       "Index(['Track', 'Album Name', 'Artist', 'Release Date', 'ISRC',\n",
       "       'All Time Rank', 'Track Score', 'Spotify Streams',\n",
       "       'Spotify Playlist Count', 'Spotify Playlist Reach',\n",
       "       'Spotify Popularity', 'YouTube Views', 'YouTube Likes', 'TikTok Posts',\n",
       "       'TikTok Likes', 'TikTok Views', 'YouTube Playlist Reach',\n",
       "       'Apple Music Playlist Count', 'AirPlay Spins', 'SiriusXM Spins',\n",
       "       'Deezer Playlist Count', 'Deezer Playlist Reach',\n",
       "       'Amazon Playlist Count', 'Pandora Streams', 'Pandora Track Stations',\n",
       "       'Soundcloud Streams', 'Shazam Counts', 'TIDAL Popularity',\n",
       "       'Explicit Track'],\n",
       "      dtype='object')"
      ]
     },
     "execution_count": 6,
     "metadata": {},
     "output_type": "execute_result"
    }
   ],
   "source": [
    "spotify.columns"
   ]
  },
  {
   "cell_type": "markdown",
   "id": "0c9e85c9",
   "metadata": {
    "papermill": {
     "duration": 0.013757,
     "end_time": "2024-07-12T15:38:16.812507",
     "exception": false,
     "start_time": "2024-07-12T15:38:16.798750",
     "status": "completed"
    },
    "tags": []
   },
   "source": [
    "# **Data Cleaning**"
   ]
  },
  {
   "cell_type": "code",
   "execution_count": 7,
   "id": "c2435f84",
   "metadata": {
    "execution": {
     "iopub.execute_input": "2024-07-12T15:38:16.842546Z",
     "iopub.status.busy": "2024-07-12T15:38:16.842174Z",
     "iopub.status.idle": "2024-07-12T15:38:16.865902Z",
     "shell.execute_reply": "2024-07-12T15:38:16.864927Z"
    },
    "papermill": {
     "duration": 0.041478,
     "end_time": "2024-07-12T15:38:16.868068",
     "exception": false,
     "start_time": "2024-07-12T15:38:16.826590",
     "status": "completed"
    },
    "tags": []
   },
   "outputs": [
    {
     "data": {
      "text/plain": [
       "2"
      ]
     },
     "execution_count": 7,
     "metadata": {},
     "output_type": "execute_result"
    }
   ],
   "source": [
    "spotify.duplicated().sum()"
   ]
  },
  {
   "cell_type": "markdown",
   "id": "ea2e7e06",
   "metadata": {
    "papermill": {
     "duration": 0.013807,
     "end_time": "2024-07-12T15:38:16.896017",
     "exception": false,
     "start_time": "2024-07-12T15:38:16.882210",
     "status": "completed"
    },
    "tags": []
   },
   "source": [
    "**I will analyze the year 2024 so I will not need the rest of the years**"
   ]
  },
  {
   "cell_type": "markdown",
   "id": "f3e781ea",
   "metadata": {
    "papermill": {
     "duration": 0.0138,
     "end_time": "2024-07-12T15:38:16.924139",
     "exception": false,
     "start_time": "2024-07-12T15:38:16.910339",
     "status": "completed"
    },
    "tags": []
   },
   "source": [
    "**convert to Year**\n"
   ]
  },
  {
   "cell_type": "code",
   "execution_count": 8,
   "id": "6debea9b",
   "metadata": {
    "execution": {
     "iopub.execute_input": "2024-07-12T15:38:16.953932Z",
     "iopub.status.busy": "2024-07-12T15:38:16.953596Z",
     "iopub.status.idle": "2024-07-12T15:38:16.993331Z",
     "shell.execute_reply": "2024-07-12T15:38:16.992403Z"
    },
    "papermill": {
     "duration": 0.057333,
     "end_time": "2024-07-12T15:38:16.995646",
     "exception": false,
     "start_time": "2024-07-12T15:38:16.938313",
     "status": "completed"
    },
    "tags": []
   },
   "outputs": [],
   "source": [
    "spotify['Year'] = pd.to_datetime(spotify['Release Date']).dt.year\n",
    "spotify['Month'] = pd.to_datetime(spotify['Release Date']).dt.month_name()\n",
    "spotify=spotify[spotify['Year'] == 2024] # Data for 2024 only"
   ]
  },
  {
   "cell_type": "code",
   "execution_count": 9,
   "id": "919dd416",
   "metadata": {
    "execution": {
     "iopub.execute_input": "2024-07-12T15:38:17.025922Z",
     "iopub.status.busy": "2024-07-12T15:38:17.025308Z",
     "iopub.status.idle": "2024-07-12T15:38:17.034612Z",
     "shell.execute_reply": "2024-07-12T15:38:17.033740Z"
    },
    "papermill": {
     "duration": 0.026656,
     "end_time": "2024-07-12T15:38:17.036701",
     "exception": false,
     "start_time": "2024-07-12T15:38:17.010045",
     "status": "completed"
    },
    "tags": []
   },
   "outputs": [
    {
     "data": {
      "text/plain": [
       "Track                           0\n",
       "Album Name                      0\n",
       "Artist                          5\n",
       "Release Date                    0\n",
       "ISRC                            0\n",
       "All Time Rank                   0\n",
       "Track Score                     0\n",
       "Spotify Streams                24\n",
       "Spotify Playlist Count         21\n",
       "Spotify Playlist Reach         22\n",
       "Spotify Popularity            323\n",
       "YouTube Views                 126\n",
       "YouTube Likes                 126\n",
       "TikTok Posts                  597\n",
       "TikTok Likes                  505\n",
       "TikTok Views                  505\n",
       "YouTube Playlist Reach        308\n",
       "Apple Music Playlist Count    109\n",
       "AirPlay Spins                 153\n",
       "SiriusXM Spins                469\n",
       "Deezer Playlist Count         205\n",
       "Deezer Playlist Reach         205\n",
       "Amazon Playlist Count         203\n",
       "Pandora Streams               240\n",
       "Pandora Track Stations        269\n",
       "Soundcloud Streams            478\n",
       "Shazam Counts                 126\n",
       "TIDAL Popularity              693\n",
       "Explicit Track                  0\n",
       "Year                            0\n",
       "Month                           0\n",
       "dtype: int64"
      ]
     },
     "execution_count": 9,
     "metadata": {},
     "output_type": "execute_result"
    }
   ],
   "source": [
    "spotify.isnull().sum()"
   ]
  },
  {
   "cell_type": "code",
   "execution_count": 10,
   "id": "a8e03377",
   "metadata": {
    "execution": {
     "iopub.execute_input": "2024-07-12T15:38:17.067728Z",
     "iopub.status.busy": "2024-07-12T15:38:17.067048Z",
     "iopub.status.idle": "2024-07-12T15:38:17.085092Z",
     "shell.execute_reply": "2024-07-12T15:38:17.084144Z"
    },
    "papermill": {
     "duration": 0.035883,
     "end_time": "2024-07-12T15:38:17.087143",
     "exception": false,
     "start_time": "2024-07-12T15:38:17.051260",
     "status": "completed"
    },
    "tags": []
   },
   "outputs": [
    {
     "data": {
      "text/html": [
       "<div>\n",
       "<style scoped>\n",
       "    .dataframe tbody tr th:only-of-type {\n",
       "        vertical-align: middle;\n",
       "    }\n",
       "\n",
       "    .dataframe tbody tr th {\n",
       "        vertical-align: top;\n",
       "    }\n",
       "\n",
       "    .dataframe thead th {\n",
       "        text-align: right;\n",
       "    }\n",
       "</style>\n",
       "<table border=\"1\" class=\"dataframe\">\n",
       "  <thead>\n",
       "    <tr style=\"text-align: right;\">\n",
       "      <th></th>\n",
       "      <th>Track</th>\n",
       "      <th>Album Name</th>\n",
       "      <th>Artist</th>\n",
       "      <th>Release Date</th>\n",
       "      <th>All Time Rank</th>\n",
       "      <th>Track Score</th>\n",
       "      <th>Spotify Streams</th>\n",
       "      <th>Spotify Playlist Count</th>\n",
       "      <th>Spotify Playlist Reach</th>\n",
       "      <th>Spotify Popularity</th>\n",
       "      <th>Year</th>\n",
       "      <th>Month</th>\n",
       "    </tr>\n",
       "  </thead>\n",
       "  <tbody>\n",
       "    <tr>\n",
       "      <th>0</th>\n",
       "      <td>MILLION DOLLAR BABY</td>\n",
       "      <td>Million Dollar Baby - Single</td>\n",
       "      <td>Tommy Richman</td>\n",
       "      <td>4/26/2024</td>\n",
       "      <td>1</td>\n",
       "      <td>725.4</td>\n",
       "      <td>390,470,936</td>\n",
       "      <td>30,716</td>\n",
       "      <td>196,631,588</td>\n",
       "      <td>92.0</td>\n",
       "      <td>2024</td>\n",
       "      <td>April</td>\n",
       "    </tr>\n",
       "    <tr>\n",
       "      <th>1</th>\n",
       "      <td>Not Like Us</td>\n",
       "      <td>Not Like Us</td>\n",
       "      <td>Kendrick Lamar</td>\n",
       "      <td>5/4/2024</td>\n",
       "      <td>2</td>\n",
       "      <td>545.9</td>\n",
       "      <td>323,703,884</td>\n",
       "      <td>28,113</td>\n",
       "      <td>174,597,137</td>\n",
       "      <td>92.0</td>\n",
       "      <td>2024</td>\n",
       "      <td>May</td>\n",
       "    </tr>\n",
       "  </tbody>\n",
       "</table>\n",
       "</div>"
      ],
      "text/plain": [
       "                 Track                    Album Name          Artist  \\\n",
       "0  MILLION DOLLAR BABY  Million Dollar Baby - Single   Tommy Richman   \n",
       "1          Not Like Us                   Not Like Us  Kendrick Lamar   \n",
       "\n",
       "  Release Date All Time Rank  Track Score Spotify Streams  \\\n",
       "0    4/26/2024             1        725.4     390,470,936   \n",
       "1     5/4/2024             2        545.9     323,703,884   \n",
       "\n",
       "  Spotify Playlist Count Spotify Playlist Reach  Spotify Popularity  Year  \\\n",
       "0                 30,716            196,631,588                92.0  2024   \n",
       "1                 28,113            174,597,137                92.0  2024   \n",
       "\n",
       "   Month  \n",
       "0  April  \n",
       "1    May  "
      ]
     },
     "execution_count": 10,
     "metadata": {},
     "output_type": "execute_result"
    }
   ],
   "source": [
    "spotify = spotify.drop([ 'ISRC','YouTube Views', 'YouTube Likes', 'TikTok Posts',\n",
    "       'TikTok Likes', 'TikTok Views', 'YouTube Playlist Reach',\n",
    "       'Apple Music Playlist Count', 'AirPlay Spins', 'SiriusXM Spins',\n",
    "       'Deezer Playlist Count', 'Deezer Playlist Reach',\n",
    "       'Amazon Playlist Count', 'Pandora Streams', 'Pandora Track Stations',\n",
    "       'Soundcloud Streams', 'Shazam Counts', 'TIDAL Popularity',\n",
    "       'Explicit Track'\n",
    "             ],axis='columns')\n",
    "              \n",
    "spotify.head(2)"
   ]
  },
  {
   "cell_type": "code",
   "execution_count": 11,
   "id": "d56b8650",
   "metadata": {
    "execution": {
     "iopub.execute_input": "2024-07-12T15:38:17.118703Z",
     "iopub.status.busy": "2024-07-12T15:38:17.118330Z",
     "iopub.status.idle": "2024-07-12T15:38:17.125842Z",
     "shell.execute_reply": "2024-07-12T15:38:17.124711Z"
    },
    "papermill": {
     "duration": 0.025934,
     "end_time": "2024-07-12T15:38:17.127946",
     "exception": false,
     "start_time": "2024-07-12T15:38:17.102012",
     "status": "completed"
    },
    "tags": []
   },
   "outputs": [],
   "source": [
    "spotify['Spotify Popularity'].fillna(method='ffill', inplace=True)"
   ]
  },
  {
   "cell_type": "code",
   "execution_count": 12,
   "id": "b60e7ab5",
   "metadata": {
    "execution": {
     "iopub.execute_input": "2024-07-12T15:38:17.158949Z",
     "iopub.status.busy": "2024-07-12T15:38:17.158104Z",
     "iopub.status.idle": "2024-07-12T15:38:17.166600Z",
     "shell.execute_reply": "2024-07-12T15:38:17.165603Z"
    },
    "papermill": {
     "duration": 0.026131,
     "end_time": "2024-07-12T15:38:17.168668",
     "exception": false,
     "start_time": "2024-07-12T15:38:17.142537",
     "status": "completed"
    },
    "tags": []
   },
   "outputs": [
    {
     "data": {
      "text/plain": [
       "Track                      0\n",
       "Album Name                 0\n",
       "Artist                     5\n",
       "Release Date               0\n",
       "All Time Rank              0\n",
       "Track Score                0\n",
       "Spotify Streams           24\n",
       "Spotify Playlist Count    21\n",
       "Spotify Playlist Reach    22\n",
       "Spotify Popularity         0\n",
       "Year                       0\n",
       "Month                      0\n",
       "dtype: int64"
      ]
     },
     "execution_count": 12,
     "metadata": {},
     "output_type": "execute_result"
    }
   ],
   "source": [
    "spotify.isnull().sum()"
   ]
  },
  {
   "cell_type": "code",
   "execution_count": 13,
   "id": "d011f6bb",
   "metadata": {
    "execution": {
     "iopub.execute_input": "2024-07-12T15:38:17.200947Z",
     "iopub.status.busy": "2024-07-12T15:38:17.200178Z",
     "iopub.status.idle": "2024-07-12T15:38:17.216909Z",
     "shell.execute_reply": "2024-07-12T15:38:17.215926Z"
    },
    "papermill": {
     "duration": 0.035252,
     "end_time": "2024-07-12T15:38:17.218961",
     "exception": false,
     "start_time": "2024-07-12T15:38:17.183709",
     "status": "completed"
    },
    "tags": []
   },
   "outputs": [
    {
     "data": {
      "text/html": [
       "<div>\n",
       "<style scoped>\n",
       "    .dataframe tbody tr th:only-of-type {\n",
       "        vertical-align: middle;\n",
       "    }\n",
       "\n",
       "    .dataframe tbody tr th {\n",
       "        vertical-align: top;\n",
       "    }\n",
       "\n",
       "    .dataframe thead th {\n",
       "        text-align: right;\n",
       "    }\n",
       "</style>\n",
       "<table border=\"1\" class=\"dataframe\">\n",
       "  <thead>\n",
       "    <tr style=\"text-align: right;\">\n",
       "      <th></th>\n",
       "      <th>Track</th>\n",
       "      <th>Album Name</th>\n",
       "      <th>Artist</th>\n",
       "      <th>Release Date</th>\n",
       "      <th>All Time Rank</th>\n",
       "      <th>Track Score</th>\n",
       "      <th>Spotify Streams</th>\n",
       "      <th>Spotify Playlist Count</th>\n",
       "      <th>Spotify Playlist Reach</th>\n",
       "      <th>Spotify Popularity</th>\n",
       "      <th>Year</th>\n",
       "      <th>Month</th>\n",
       "    </tr>\n",
       "  </thead>\n",
       "  <tbody>\n",
       "    <tr>\n",
       "      <th>311</th>\n",
       "      <td>Cool</td>\n",
       "      <td>JnD Mix</td>\n",
       "      <td>NaN</td>\n",
       "      <td>5/25/2024</td>\n",
       "      <td>311</td>\n",
       "      <td>86.5</td>\n",
       "      <td>NaN</td>\n",
       "      <td>NaN</td>\n",
       "      <td>NaN</td>\n",
       "      <td>84.0</td>\n",
       "      <td>2024</td>\n",
       "      <td>May</td>\n",
       "    </tr>\n",
       "    <tr>\n",
       "      <th>480</th>\n",
       "      <td>I Wanna Party</td>\n",
       "      <td>I Wanna Party - Single</td>\n",
       "      <td>NaN</td>\n",
       "      <td>5/31/2024</td>\n",
       "      <td>482</td>\n",
       "      <td>70.3</td>\n",
       "      <td>NaN</td>\n",
       "      <td>NaN</td>\n",
       "      <td>NaN</td>\n",
       "      <td>84.0</td>\n",
       "      <td>2024</td>\n",
       "      <td>May</td>\n",
       "    </tr>\n",
       "    <tr>\n",
       "      <th>1345</th>\n",
       "      <td>Marlboro Remix</td>\n",
       "      <td>Marlboro Remix - Single</td>\n",
       "      <td>NaN</td>\n",
       "      <td>6/7/2024</td>\n",
       "      <td>1,343</td>\n",
       "      <td>40.6</td>\n",
       "      <td>NaN</td>\n",
       "      <td>NaN</td>\n",
       "      <td>NaN</td>\n",
       "      <td>77.0</td>\n",
       "      <td>2024</td>\n",
       "      <td>June</td>\n",
       "    </tr>\n",
       "    <tr>\n",
       "      <th>1561</th>\n",
       "      <td>Melting</td>\n",
       "      <td>Melting - Single</td>\n",
       "      <td>NaN</td>\n",
       "      <td>6/10/2024</td>\n",
       "      <td>1,553</td>\n",
       "      <td>37.2</td>\n",
       "      <td>NaN</td>\n",
       "      <td>NaN</td>\n",
       "      <td>NaN</td>\n",
       "      <td>77.0</td>\n",
       "      <td>2024</td>\n",
       "      <td>June</td>\n",
       "    </tr>\n",
       "    <tr>\n",
       "      <th>3402</th>\n",
       "      <td>La ï¿½ï¿½ltima Vez (Yo Te Per</td>\n",
       "      <td>La ï¿½ï¿½ltima Vez (Yo Te Perdï¿½ï¿½)</td>\n",
       "      <td>NaN</td>\n",
       "      <td>5/2/2024</td>\n",
       "      <td>3,381</td>\n",
       "      <td>23.6</td>\n",
       "      <td>NaN</td>\n",
       "      <td>NaN</td>\n",
       "      <td>NaN</td>\n",
       "      <td>67.0</td>\n",
       "      <td>2024</td>\n",
       "      <td>May</td>\n",
       "    </tr>\n",
       "  </tbody>\n",
       "</table>\n",
       "</div>"
      ],
      "text/plain": [
       "                              Track                              Album Name  \\\n",
       "311                            Cool                                 JnD Mix   \n",
       "480                   I Wanna Party                  I Wanna Party - Single   \n",
       "1345                 Marlboro Remix                 Marlboro Remix - Single   \n",
       "1561                        Melting                        Melting - Single   \n",
       "3402  La ï¿½ï¿½ltima Vez (Yo Te Per  La ï¿½ï¿½ltima Vez (Yo Te Perdï¿½ï¿½)    \n",
       "\n",
       "     Artist Release Date All Time Rank  Track Score Spotify Streams  \\\n",
       "311     NaN    5/25/2024           311         86.5             NaN   \n",
       "480     NaN    5/31/2024           482         70.3             NaN   \n",
       "1345    NaN     6/7/2024         1,343         40.6             NaN   \n",
       "1561    NaN    6/10/2024         1,553         37.2             NaN   \n",
       "3402    NaN     5/2/2024         3,381         23.6             NaN   \n",
       "\n",
       "     Spotify Playlist Count Spotify Playlist Reach  Spotify Popularity  Year  \\\n",
       "311                     NaN                    NaN                84.0  2024   \n",
       "480                     NaN                    NaN                84.0  2024   \n",
       "1345                    NaN                    NaN                77.0  2024   \n",
       "1561                    NaN                    NaN                77.0  2024   \n",
       "3402                    NaN                    NaN                67.0  2024   \n",
       "\n",
       "     Month  \n",
       "311    May  \n",
       "480    May  \n",
       "1345  June  \n",
       "1561  June  \n",
       "3402   May  "
      ]
     },
     "execution_count": 13,
     "metadata": {},
     "output_type": "execute_result"
    }
   ],
   "source": [
    "artists_with_nan = spotify[spotify['Artist'].isna()]\n",
    "artists_with_nan"
   ]
  },
  {
   "cell_type": "code",
   "execution_count": 14,
   "id": "b050ecba",
   "metadata": {
    "execution": {
     "iopub.execute_input": "2024-07-12T15:38:17.250652Z",
     "iopub.status.busy": "2024-07-12T15:38:17.249988Z",
     "iopub.status.idle": "2024-07-12T15:38:17.264497Z",
     "shell.execute_reply": "2024-07-12T15:38:17.263550Z"
    },
    "papermill": {
     "duration": 0.032518,
     "end_time": "2024-07-12T15:38:17.266524",
     "exception": false,
     "start_time": "2024-07-12T15:38:17.234006",
     "status": "completed"
    },
    "tags": []
   },
   "outputs": [
    {
     "data": {
      "text/html": [
       "<div>\n",
       "<style scoped>\n",
       "    .dataframe tbody tr th:only-of-type {\n",
       "        vertical-align: middle;\n",
       "    }\n",
       "\n",
       "    .dataframe tbody tr th {\n",
       "        vertical-align: top;\n",
       "    }\n",
       "\n",
       "    .dataframe thead th {\n",
       "        text-align: right;\n",
       "    }\n",
       "</style>\n",
       "<table border=\"1\" class=\"dataframe\">\n",
       "  <thead>\n",
       "    <tr style=\"text-align: right;\">\n",
       "      <th></th>\n",
       "      <th>Track</th>\n",
       "      <th>Album Name</th>\n",
       "      <th>Artist</th>\n",
       "      <th>Release Date</th>\n",
       "      <th>All Time Rank</th>\n",
       "      <th>Track Score</th>\n",
       "      <th>Spotify Streams</th>\n",
       "      <th>Spotify Playlist Count</th>\n",
       "      <th>Spotify Playlist Reach</th>\n",
       "      <th>Spotify Popularity</th>\n",
       "      <th>Year</th>\n",
       "      <th>Month</th>\n",
       "    </tr>\n",
       "  </thead>\n",
       "  <tbody>\n",
       "    <tr>\n",
       "      <th>311</th>\n",
       "      <td>Cool</td>\n",
       "      <td>JnD Mix</td>\n",
       "      <td>NaN</td>\n",
       "      <td>5/25/2024</td>\n",
       "      <td>311</td>\n",
       "      <td>86.5</td>\n",
       "      <td>NaN</td>\n",
       "      <td>NaN</td>\n",
       "      <td>NaN</td>\n",
       "      <td>84.0</td>\n",
       "      <td>2024</td>\n",
       "      <td>May</td>\n",
       "    </tr>\n",
       "  </tbody>\n",
       "</table>\n",
       "</div>"
      ],
      "text/plain": [
       "    Track Album Name Artist Release Date All Time Rank  Track Score  \\\n",
       "311  Cool    JnD Mix    NaN    5/25/2024           311         86.5   \n",
       "\n",
       "    Spotify Streams Spotify Playlist Count Spotify Playlist Reach  \\\n",
       "311             NaN                    NaN                    NaN   \n",
       "\n",
       "     Spotify Popularity  Year Month  \n",
       "311                84.0  2024   May  "
      ]
     },
     "execution_count": 14,
     "metadata": {},
     "output_type": "execute_result"
    }
   ],
   "source": [
    "spotify[spotify['Album Name']== 'JnD Mix']"
   ]
  },
  {
   "cell_type": "code",
   "execution_count": 15,
   "id": "98609268",
   "metadata": {
    "execution": {
     "iopub.execute_input": "2024-07-12T15:38:17.298674Z",
     "iopub.status.busy": "2024-07-12T15:38:17.298289Z",
     "iopub.status.idle": "2024-07-12T15:38:17.305875Z",
     "shell.execute_reply": "2024-07-12T15:38:17.304922Z"
    },
    "papermill": {
     "duration": 0.026139,
     "end_time": "2024-07-12T15:38:17.307943",
     "exception": false,
     "start_time": "2024-07-12T15:38:17.281804",
     "status": "completed"
    },
    "tags": []
   },
   "outputs": [],
   "source": [
    "spotify.dropna(subset=['Artist'], inplace=True)"
   ]
  },
  {
   "cell_type": "code",
   "execution_count": 16,
   "id": "1c620d85",
   "metadata": {
    "execution": {
     "iopub.execute_input": "2024-07-12T15:38:17.339913Z",
     "iopub.status.busy": "2024-07-12T15:38:17.339296Z",
     "iopub.status.idle": "2024-07-12T15:38:17.347630Z",
     "shell.execute_reply": "2024-07-12T15:38:17.346687Z"
    },
    "papermill": {
     "duration": 0.026641,
     "end_time": "2024-07-12T15:38:17.349705",
     "exception": false,
     "start_time": "2024-07-12T15:38:17.323064",
     "status": "completed"
    },
    "tags": []
   },
   "outputs": [
    {
     "data": {
      "text/plain": [
       "Track                      0\n",
       "Album Name                 0\n",
       "Artist                     0\n",
       "Release Date               0\n",
       "All Time Rank              0\n",
       "Track Score                0\n",
       "Spotify Streams           19\n",
       "Spotify Playlist Count    16\n",
       "Spotify Playlist Reach    17\n",
       "Spotify Popularity         0\n",
       "Year                       0\n",
       "Month                      0\n",
       "dtype: int64"
      ]
     },
     "execution_count": 16,
     "metadata": {},
     "output_type": "execute_result"
    }
   ],
   "source": [
    "spotify.isnull().sum()"
   ]
  },
  {
   "cell_type": "markdown",
   "id": "f8de4d38",
   "metadata": {
    "papermill": {
     "duration": 0.014907,
     "end_time": "2024-07-12T15:38:17.379722",
     "exception": false,
     "start_time": "2024-07-12T15:38:17.364815",
     "status": "completed"
    },
    "tags": []
   },
   "source": [
    "**Convert Object to float**"
   ]
  },
  {
   "cell_type": "code",
   "execution_count": 17,
   "id": "facf1d67",
   "metadata": {
    "execution": {
     "iopub.execute_input": "2024-07-12T15:38:17.458338Z",
     "iopub.status.busy": "2024-07-12T15:38:17.457973Z",
     "iopub.status.idle": "2024-07-12T15:38:17.468156Z",
     "shell.execute_reply": "2024-07-12T15:38:17.467243Z"
    },
    "papermill": {
     "duration": 0.075647,
     "end_time": "2024-07-12T15:38:17.470263",
     "exception": false,
     "start_time": "2024-07-12T15:38:17.394616",
     "status": "completed"
    },
    "tags": []
   },
   "outputs": [],
   "source": [
    "spotify['Spotify Streams'] = pd.to_numeric(spotify['Spotify Streams'].str.replace(',', ''), errors='coerce')\n",
    "spotify['Spotify Playlist Count'] = pd.to_numeric(spotify['Spotify Playlist Count'].str.replace(',', ''), errors='coerce')\n",
    "spotify['Spotify Playlist Reach'] = pd.to_numeric(spotify['Spotify Playlist Reach'].str.replace(',', ''), errors='coerce')"
   ]
  },
  {
   "cell_type": "code",
   "execution_count": 18,
   "id": "11b316bc",
   "metadata": {
    "execution": {
     "iopub.execute_input": "2024-07-12T15:38:17.503341Z",
     "iopub.status.busy": "2024-07-12T15:38:17.502685Z",
     "iopub.status.idle": "2024-07-12T15:38:17.514265Z",
     "shell.execute_reply": "2024-07-12T15:38:17.513341Z"
    },
    "papermill": {
     "duration": 0.030099,
     "end_time": "2024-07-12T15:38:17.516597",
     "exception": false,
     "start_time": "2024-07-12T15:38:17.486498",
     "status": "completed"
    },
    "tags": []
   },
   "outputs": [
    {
     "name": "stdout",
     "output_type": "stream",
     "text": [
      "<class 'pandas.core.frame.DataFrame'>\n",
      "Index: 688 entries, 0 to 4594\n",
      "Data columns (total 12 columns):\n",
      " #   Column                  Non-Null Count  Dtype  \n",
      "---  ------                  --------------  -----  \n",
      " 0   Track                   688 non-null    object \n",
      " 1   Album Name              688 non-null    object \n",
      " 2   Artist                  688 non-null    object \n",
      " 3   Release Date            688 non-null    object \n",
      " 4   All Time Rank           688 non-null    object \n",
      " 5   Track Score             688 non-null    float64\n",
      " 6   Spotify Streams         669 non-null    float64\n",
      " 7   Spotify Playlist Count  672 non-null    float64\n",
      " 8   Spotify Playlist Reach  671 non-null    float64\n",
      " 9   Spotify Popularity      688 non-null    float64\n",
      " 10  Year                    688 non-null    int32  \n",
      " 11  Month                   688 non-null    object \n",
      "dtypes: float64(5), int32(1), object(6)\n",
      "memory usage: 67.2+ KB\n"
     ]
    }
   ],
   "source": [
    "spotify.info()"
   ]
  },
  {
   "cell_type": "code",
   "execution_count": 19,
   "id": "35dcf46a",
   "metadata": {
    "execution": {
     "iopub.execute_input": "2024-07-12T15:38:17.550436Z",
     "iopub.status.busy": "2024-07-12T15:38:17.549603Z",
     "iopub.status.idle": "2024-07-12T15:38:17.573161Z",
     "shell.execute_reply": "2024-07-12T15:38:17.572200Z"
    },
    "papermill": {
     "duration": 0.042633,
     "end_time": "2024-07-12T15:38:17.575263",
     "exception": false,
     "start_time": "2024-07-12T15:38:17.532630",
     "status": "completed"
    },
    "tags": []
   },
   "outputs": [
    {
     "data": {
      "text/html": [
       "<div>\n",
       "<style scoped>\n",
       "    .dataframe tbody tr th:only-of-type {\n",
       "        vertical-align: middle;\n",
       "    }\n",
       "\n",
       "    .dataframe tbody tr th {\n",
       "        vertical-align: top;\n",
       "    }\n",
       "\n",
       "    .dataframe thead th {\n",
       "        text-align: right;\n",
       "    }\n",
       "</style>\n",
       "<table border=\"1\" class=\"dataframe\">\n",
       "  <thead>\n",
       "    <tr style=\"text-align: right;\">\n",
       "      <th></th>\n",
       "      <th>Track</th>\n",
       "      <th>Album Name</th>\n",
       "      <th>Artist</th>\n",
       "      <th>Release Date</th>\n",
       "      <th>All Time Rank</th>\n",
       "      <th>Track Score</th>\n",
       "      <th>Spotify Streams</th>\n",
       "      <th>Spotify Playlist Count</th>\n",
       "      <th>Spotify Playlist Reach</th>\n",
       "      <th>Spotify Popularity</th>\n",
       "      <th>Year</th>\n",
       "      <th>Month</th>\n",
       "    </tr>\n",
       "  </thead>\n",
       "  <tbody>\n",
       "    <tr>\n",
       "      <th>24</th>\n",
       "      <td>Future</td>\n",
       "      <td>Future</td>\n",
       "      <td>official sound studio</td>\n",
       "      <td>1/10/2024</td>\n",
       "      <td>25</td>\n",
       "      <td>277.5</td>\n",
       "      <td>NaN</td>\n",
       "      <td>1.0</td>\n",
       "      <td>2.0</td>\n",
       "      <td>86.0</td>\n",
       "      <td>2024</td>\n",
       "      <td>January</td>\n",
       "    </tr>\n",
       "    <tr>\n",
       "      <th>57</th>\n",
       "      <td>Dona Felicidade</td>\n",
       "      <td>Dona Felicidade</td>\n",
       "      <td>Patati Patatï¿</td>\n",
       "      <td>6/4/2024</td>\n",
       "      <td>58</td>\n",
       "      <td>190.0</td>\n",
       "      <td>NaN</td>\n",
       "      <td>2.0</td>\n",
       "      <td>41206.0</td>\n",
       "      <td>86.0</td>\n",
       "      <td>2024</td>\n",
       "      <td>June</td>\n",
       "    </tr>\n",
       "    <tr>\n",
       "      <th>60</th>\n",
       "      <td>Stereo Love - Melodic</td>\n",
       "      <td>Stereo Love Deluxe (feat. Vika Jigulina)</td>\n",
       "      <td>Edward Maya</td>\n",
       "      <td>6/5/2024</td>\n",
       "      <td>61</td>\n",
       "      <td>187.9</td>\n",
       "      <td>NaN</td>\n",
       "      <td>2.0</td>\n",
       "      <td>135.0</td>\n",
       "      <td>9.0</td>\n",
       "      <td>2024</td>\n",
       "      <td>June</td>\n",
       "    </tr>\n",
       "    <tr>\n",
       "      <th>117</th>\n",
       "      <td>Chegou a Hora de Ir para Cama (Playback)</td>\n",
       "      <td>3 Palavrinhas Vol.9 (Playback)</td>\n",
       "      <td>3 Palavrinhas</td>\n",
       "      <td>6/4/2024</td>\n",
       "      <td>118</td>\n",
       "      <td>142.4</td>\n",
       "      <td>NaN</td>\n",
       "      <td>NaN</td>\n",
       "      <td>NaN</td>\n",
       "      <td>87.0</td>\n",
       "      <td>2024</td>\n",
       "      <td>June</td>\n",
       "    </tr>\n",
       "    <tr>\n",
       "      <th>141</th>\n",
       "      <td>Jedag Jedug Capcut 2024</td>\n",
       "      <td>Jedag Jedug Capcut 2024</td>\n",
       "      <td>Afrian Af</td>\n",
       "      <td>1/5/2024</td>\n",
       "      <td>142</td>\n",
       "      <td>127.4</td>\n",
       "      <td>NaN</td>\n",
       "      <td>1.0</td>\n",
       "      <td>47.0</td>\n",
       "      <td>74.0</td>\n",
       "      <td>2024</td>\n",
       "      <td>January</td>\n",
       "    </tr>\n",
       "    <tr>\n",
       "      <th>316</th>\n",
       "      <td>Pretty Green Eyes (Sunset Ibiza Mix)</td>\n",
       "      <td>Pretty Green Eyes (Sunset Ibiza Mix)</td>\n",
       "      <td>KETTAMA</td>\n",
       "      <td>6/14/2024</td>\n",
       "      <td>316</td>\n",
       "      <td>85.9</td>\n",
       "      <td>NaN</td>\n",
       "      <td>5.0</td>\n",
       "      <td>3277306.0</td>\n",
       "      <td>80.0</td>\n",
       "      <td>2024</td>\n",
       "      <td>June</td>\n",
       "    </tr>\n",
       "    <tr>\n",
       "      <th>391</th>\n",
       "      <td>The Girl From Ipanema</td>\n",
       "      <td>Instrumental Bossa Nova</td>\n",
       "      <td>Stan Getz</td>\n",
       "      <td>6/6/2024</td>\n",
       "      <td>391</td>\n",
       "      <td>77.2</td>\n",
       "      <td>NaN</td>\n",
       "      <td>NaN</td>\n",
       "      <td>NaN</td>\n",
       "      <td>84.0</td>\n",
       "      <td>2024</td>\n",
       "      <td>June</td>\n",
       "    </tr>\n",
       "    <tr>\n",
       "      <th>539</th>\n",
       "      <td>Cuando Te Amï¿</td>\n",
       "      <td>Cuando Te Amï¿½ï¿½ - Si</td>\n",
       "      <td>Cupula Roja</td>\n",
       "      <td>6/8/2024</td>\n",
       "      <td>537</td>\n",
       "      <td>66.3</td>\n",
       "      <td>NaN</td>\n",
       "      <td>NaN</td>\n",
       "      <td>NaN</td>\n",
       "      <td>82.0</td>\n",
       "      <td>2024</td>\n",
       "      <td>June</td>\n",
       "    </tr>\n",
       "    <tr>\n",
       "      <th>758</th>\n",
       "      <td>Swalla (feat. Nicki Minaj &amp; Ty Dolla $ign)</td>\n",
       "      <td>Nu King</td>\n",
       "      <td>Jason Derulo</td>\n",
       "      <td>2/16/2024</td>\n",
       "      <td>755</td>\n",
       "      <td>55.9</td>\n",
       "      <td>NaN</td>\n",
       "      <td>NaN</td>\n",
       "      <td>NaN</td>\n",
       "      <td>80.0</td>\n",
       "      <td>2024</td>\n",
       "      <td>February</td>\n",
       "    </tr>\n",
       "    <tr>\n",
       "      <th>1325</th>\n",
       "      <td>Take You Dancing</td>\n",
       "      <td>Nu King</td>\n",
       "      <td>Jason Derulo</td>\n",
       "      <td>2/16/2024</td>\n",
       "      <td>1,317</td>\n",
       "      <td>41.0</td>\n",
       "      <td>NaN</td>\n",
       "      <td>NaN</td>\n",
       "      <td>NaN</td>\n",
       "      <td>77.0</td>\n",
       "      <td>2024</td>\n",
       "      <td>February</td>\n",
       "    </tr>\n",
       "    <tr>\n",
       "      <th>1361</th>\n",
       "      <td>one of wun</td>\n",
       "      <td>One of Wun</td>\n",
       "      <td>Gunna</td>\n",
       "      <td>5/10/2024</td>\n",
       "      <td>1,356</td>\n",
       "      <td>40.3</td>\n",
       "      <td>NaN</td>\n",
       "      <td>NaN</td>\n",
       "      <td>NaN</td>\n",
       "      <td>72.0</td>\n",
       "      <td>2024</td>\n",
       "      <td>May</td>\n",
       "    </tr>\n",
       "    <tr>\n",
       "      <th>1492</th>\n",
       "      <td>Show Time</td>\n",
       "      <td>Show Time</td>\n",
       "      <td>SUPER JUNIOR</td>\n",
       "      <td>6/11/2024</td>\n",
       "      <td>1,491</td>\n",
       "      <td>38.0</td>\n",
       "      <td>NaN</td>\n",
       "      <td>31.0</td>\n",
       "      <td>2988530.0</td>\n",
       "      <td>39.0</td>\n",
       "      <td>2024</td>\n",
       "      <td>June</td>\n",
       "    </tr>\n",
       "    <tr>\n",
       "      <th>1648</th>\n",
       "      <td>Sarï¿½ï¿½ Perchï¿½ï¿</td>\n",
       "      <td>Viva Italia</td>\n",
       "      <td>Esteriore Brothers</td>\n",
       "      <td>6/7/2024</td>\n",
       "      <td>1,638</td>\n",
       "      <td>36.1</td>\n",
       "      <td>NaN</td>\n",
       "      <td>NaN</td>\n",
       "      <td>NaN</td>\n",
       "      <td>18.0</td>\n",
       "      <td>2024</td>\n",
       "      <td>June</td>\n",
       "    </tr>\n",
       "    <tr>\n",
       "      <th>2383</th>\n",
       "      <td>ýýýý ýýýý ýýýýýýýý</td>\n",
       "      <td>ýýýý ýýýý ýýýýýýýý - Single</td>\n",
       "      <td>ýýýýýýýý ýýýýýýýýýýýý</td>\n",
       "      <td>5/2/2024</td>\n",
       "      <td>2,374</td>\n",
       "      <td>29.3</td>\n",
       "      <td>NaN</td>\n",
       "      <td>NaN</td>\n",
       "      <td>NaN</td>\n",
       "      <td>67.0</td>\n",
       "      <td>2024</td>\n",
       "      <td>May</td>\n",
       "    </tr>\n",
       "    <tr>\n",
       "      <th>3086</th>\n",
       "      <td>Get Involved (feat. Q-Tip) [Mixed]</td>\n",
       "      <td>Joe Kay: welcome to the aprtment (DJ Mix)</td>\n",
       "      <td>Raphael Saadiq</td>\n",
       "      <td>6/7/2024</td>\n",
       "      <td>3,069</td>\n",
       "      <td>25.0</td>\n",
       "      <td>NaN</td>\n",
       "      <td>NaN</td>\n",
       "      <td>NaN</td>\n",
       "      <td>66.0</td>\n",
       "      <td>2024</td>\n",
       "      <td>June</td>\n",
       "    </tr>\n",
       "    <tr>\n",
       "      <th>3579</th>\n",
       "      <td>Tell Me What You Want</td>\n",
       "      <td>Tell Me What You Want - Single</td>\n",
       "      <td>Oden &amp; Fatzo</td>\n",
       "      <td>6/14/2024</td>\n",
       "      <td>3,546</td>\n",
       "      <td>22.8</td>\n",
       "      <td>NaN</td>\n",
       "      <td>8.0</td>\n",
       "      <td>3490536.0</td>\n",
       "      <td>74.0</td>\n",
       "      <td>2024</td>\n",
       "      <td>June</td>\n",
       "    </tr>\n",
       "    <tr>\n",
       "      <th>4345</th>\n",
       "      <td>Tip Toe (feat. French Montana)</td>\n",
       "      <td>Nu King</td>\n",
       "      <td>Jason Derulo</td>\n",
       "      <td>2/16/2024</td>\n",
       "      <td>4,340</td>\n",
       "      <td>20.2</td>\n",
       "      <td>NaN</td>\n",
       "      <td>NaN</td>\n",
       "      <td>NaN</td>\n",
       "      <td>67.0</td>\n",
       "      <td>2024</td>\n",
       "      <td>February</td>\n",
       "    </tr>\n",
       "    <tr>\n",
       "      <th>4534</th>\n",
       "      <td>Mast Malang Jhoom (From \"Bade Miyan Chote Miya...</td>\n",
       "      <td>Mast Malang Jhoom (From \"Bade Miyan Chote Miya...</td>\n",
       "      <td>Vishal Mishra</td>\n",
       "      <td>3/1/2024</td>\n",
       "      <td>4,506</td>\n",
       "      <td>19.6</td>\n",
       "      <td>NaN</td>\n",
       "      <td>NaN</td>\n",
       "      <td>NaN</td>\n",
       "      <td>75.0</td>\n",
       "      <td>2024</td>\n",
       "      <td>March</td>\n",
       "    </tr>\n",
       "    <tr>\n",
       "      <th>4541</th>\n",
       "      <td>Hood By Air Freestyle</td>\n",
       "      <td>Hood By Air Freestyle - Single</td>\n",
       "      <td>Baby Flaco</td>\n",
       "      <td>4/26/2024</td>\n",
       "      <td>4,498</td>\n",
       "      <td>19.6</td>\n",
       "      <td>NaN</td>\n",
       "      <td>NaN</td>\n",
       "      <td>NaN</td>\n",
       "      <td>62.0</td>\n",
       "      <td>2024</td>\n",
       "      <td>April</td>\n",
       "    </tr>\n",
       "  </tbody>\n",
       "</table>\n",
       "</div>"
      ],
      "text/plain": [
       "                                                  Track  \\\n",
       "24                                               Future   \n",
       "57                                      Dona Felicidade   \n",
       "60                                Stereo Love - Melodic   \n",
       "117            Chegou a Hora de Ir para Cama (Playback)   \n",
       "141                             Jedag Jedug Capcut 2024   \n",
       "316                Pretty Green Eyes (Sunset Ibiza Mix)   \n",
       "391                               The Girl From Ipanema   \n",
       "539                                      Cuando Te Amï¿   \n",
       "758          Swalla (feat. Nicki Minaj & Ty Dolla $ign)   \n",
       "1325                                   Take You Dancing   \n",
       "1361                                         one of wun   \n",
       "1492                                          Show Time   \n",
       "1648                               Sarï¿½ï¿½ Perchï¿½ï¿   \n",
       "2383                                 ýýýý ýýýý ýýýýýýýý   \n",
       "3086                 Get Involved (feat. Q-Tip) [Mixed]   \n",
       "3579                              Tell Me What You Want   \n",
       "4345                     Tip Toe (feat. French Montana)   \n",
       "4534  Mast Malang Jhoom (From \"Bade Miyan Chote Miya...   \n",
       "4541                              Hood By Air Freestyle   \n",
       "\n",
       "                                             Album Name  \\\n",
       "24                                               Future   \n",
       "57                                      Dona Felicidade   \n",
       "60             Stereo Love Deluxe (feat. Vika Jigulina)   \n",
       "117                      3 Palavrinhas Vol.9 (Playback)   \n",
       "141                             Jedag Jedug Capcut 2024   \n",
       "316                Pretty Green Eyes (Sunset Ibiza Mix)   \n",
       "391                             Instrumental Bossa Nova   \n",
       "539                             Cuando Te Amï¿½ï¿½ - Si   \n",
       "758                                             Nu King   \n",
       "1325                                            Nu King   \n",
       "1361                                         One of Wun   \n",
       "1492                                          Show Time   \n",
       "1648                                        Viva Italia   \n",
       "2383                        ýýýý ýýýý ýýýýýýýý - Single   \n",
       "3086          Joe Kay: welcome to the aprtment (DJ Mix)   \n",
       "3579                     Tell Me What You Want - Single   \n",
       "4345                                            Nu King   \n",
       "4534  Mast Malang Jhoom (From \"Bade Miyan Chote Miya...   \n",
       "4541                     Hood By Air Freestyle - Single   \n",
       "\n",
       "                     Artist Release Date All Time Rank  Track Score  \\\n",
       "24    official sound studio    1/10/2024            25        277.5   \n",
       "57           Patati Patatï¿     6/4/2024            58        190.0   \n",
       "60              Edward Maya     6/5/2024            61        187.9   \n",
       "117           3 Palavrinhas     6/4/2024           118        142.4   \n",
       "141               Afrian Af     1/5/2024           142        127.4   \n",
       "316                 KETTAMA    6/14/2024           316         85.9   \n",
       "391               Stan Getz     6/6/2024           391         77.2   \n",
       "539             Cupula Roja     6/8/2024           537         66.3   \n",
       "758            Jason Derulo    2/16/2024           755         55.9   \n",
       "1325           Jason Derulo    2/16/2024         1,317         41.0   \n",
       "1361                  Gunna    5/10/2024         1,356         40.3   \n",
       "1492           SUPER JUNIOR    6/11/2024         1,491         38.0   \n",
       "1648     Esteriore Brothers     6/7/2024         1,638         36.1   \n",
       "2383  ýýýýýýýý ýýýýýýýýýýýý     5/2/2024         2,374         29.3   \n",
       "3086         Raphael Saadiq     6/7/2024         3,069         25.0   \n",
       "3579           Oden & Fatzo    6/14/2024         3,546         22.8   \n",
       "4345           Jason Derulo    2/16/2024         4,340         20.2   \n",
       "4534          Vishal Mishra     3/1/2024         4,506         19.6   \n",
       "4541             Baby Flaco    4/26/2024         4,498         19.6   \n",
       "\n",
       "      Spotify Streams  Spotify Playlist Count  Spotify Playlist Reach  \\\n",
       "24                NaN                     1.0                     2.0   \n",
       "57                NaN                     2.0                 41206.0   \n",
       "60                NaN                     2.0                   135.0   \n",
       "117               NaN                     NaN                     NaN   \n",
       "141               NaN                     1.0                    47.0   \n",
       "316               NaN                     5.0               3277306.0   \n",
       "391               NaN                     NaN                     NaN   \n",
       "539               NaN                     NaN                     NaN   \n",
       "758               NaN                     NaN                     NaN   \n",
       "1325              NaN                     NaN                     NaN   \n",
       "1361              NaN                     NaN                     NaN   \n",
       "1492              NaN                    31.0               2988530.0   \n",
       "1648              NaN                     NaN                     NaN   \n",
       "2383              NaN                     NaN                     NaN   \n",
       "3086              NaN                     NaN                     NaN   \n",
       "3579              NaN                     8.0               3490536.0   \n",
       "4345              NaN                     NaN                     NaN   \n",
       "4534              NaN                     NaN                     NaN   \n",
       "4541              NaN                     NaN                     NaN   \n",
       "\n",
       "      Spotify Popularity  Year     Month  \n",
       "24                  86.0  2024   January  \n",
       "57                  86.0  2024      June  \n",
       "60                   9.0  2024      June  \n",
       "117                 87.0  2024      June  \n",
       "141                 74.0  2024   January  \n",
       "316                 80.0  2024      June  \n",
       "391                 84.0  2024      June  \n",
       "539                 82.0  2024      June  \n",
       "758                 80.0  2024  February  \n",
       "1325                77.0  2024  February  \n",
       "1361                72.0  2024       May  \n",
       "1492                39.0  2024      June  \n",
       "1648                18.0  2024      June  \n",
       "2383                67.0  2024       May  \n",
       "3086                66.0  2024      June  \n",
       "3579                74.0  2024      June  \n",
       "4345                67.0  2024  February  \n",
       "4534                75.0  2024     March  \n",
       "4541                62.0  2024     April  "
      ]
     },
     "execution_count": 19,
     "metadata": {},
     "output_type": "execute_result"
    }
   ],
   "source": [
    "artists_with_nan_streams = spotify[spotify['Spotify Streams'].isna()]\n",
    "artists_with_nan_streams.head(19)"
   ]
  },
  {
   "cell_type": "code",
   "execution_count": 20,
   "id": "f648d52e",
   "metadata": {
    "execution": {
     "iopub.execute_input": "2024-07-12T15:38:17.609082Z",
     "iopub.status.busy": "2024-07-12T15:38:17.608474Z",
     "iopub.status.idle": "2024-07-12T15:38:17.622712Z",
     "shell.execute_reply": "2024-07-12T15:38:17.621757Z"
    },
    "papermill": {
     "duration": 0.033154,
     "end_time": "2024-07-12T15:38:17.624597",
     "exception": false,
     "start_time": "2024-07-12T15:38:17.591443",
     "status": "completed"
    },
    "tags": []
   },
   "outputs": [
    {
     "data": {
      "text/html": [
       "<div>\n",
       "<style scoped>\n",
       "    .dataframe tbody tr th:only-of-type {\n",
       "        vertical-align: middle;\n",
       "    }\n",
       "\n",
       "    .dataframe tbody tr th {\n",
       "        vertical-align: top;\n",
       "    }\n",
       "\n",
       "    .dataframe thead th {\n",
       "        text-align: right;\n",
       "    }\n",
       "</style>\n",
       "<table border=\"1\" class=\"dataframe\">\n",
       "  <thead>\n",
       "    <tr style=\"text-align: right;\">\n",
       "      <th></th>\n",
       "      <th>Track</th>\n",
       "      <th>Album Name</th>\n",
       "      <th>Artist</th>\n",
       "      <th>Release Date</th>\n",
       "      <th>All Time Rank</th>\n",
       "      <th>Track Score</th>\n",
       "      <th>Spotify Streams</th>\n",
       "      <th>Spotify Playlist Count</th>\n",
       "      <th>Spotify Playlist Reach</th>\n",
       "      <th>Spotify Popularity</th>\n",
       "      <th>Year</th>\n",
       "      <th>Month</th>\n",
       "    </tr>\n",
       "  </thead>\n",
       "  <tbody>\n",
       "    <tr>\n",
       "      <th>4431</th>\n",
       "      <td>Oye</td>\n",
       "      <td>Oye</td>\n",
       "      <td>LuckReaper</td>\n",
       "      <td>5/15/2024</td>\n",
       "      <td>4,879</td>\n",
       "      <td>19.9</td>\n",
       "      <td>47151307.0</td>\n",
       "      <td>NaN</td>\n",
       "      <td>NaN</td>\n",
       "      <td>59.0</td>\n",
       "      <td>2024</td>\n",
       "      <td>May</td>\n",
       "    </tr>\n",
       "  </tbody>\n",
       "</table>\n",
       "</div>"
      ],
      "text/plain": [
       "     Track Album Name      Artist Release Date All Time Rank  Track Score  \\\n",
       "4431   Oye        Oye  LuckReaper    5/15/2024         4,879         19.9   \n",
       "\n",
       "      Spotify Streams  Spotify Playlist Count  Spotify Playlist Reach  \\\n",
       "4431       47151307.0                     NaN                     NaN   \n",
       "\n",
       "      Spotify Popularity  Year Month  \n",
       "4431                59.0  2024   May  "
      ]
     },
     "execution_count": 20,
     "metadata": {},
     "output_type": "execute_result"
    }
   ],
   "source": [
    "spotify[spotify['Artist']=='LuckReaper']"
   ]
  },
  {
   "cell_type": "code",
   "execution_count": 21,
   "id": "463c4e56",
   "metadata": {
    "execution": {
     "iopub.execute_input": "2024-07-12T15:38:17.658036Z",
     "iopub.status.busy": "2024-07-12T15:38:17.657711Z",
     "iopub.status.idle": "2024-07-12T15:38:17.679633Z",
     "shell.execute_reply": "2024-07-12T15:38:17.678633Z"
    },
    "papermill": {
     "duration": 0.041601,
     "end_time": "2024-07-12T15:38:17.682139",
     "exception": false,
     "start_time": "2024-07-12T15:38:17.640538",
     "status": "completed"
    },
    "tags": []
   },
   "outputs": [
    {
     "data": {
      "text/html": [
       "<div>\n",
       "<style scoped>\n",
       "    .dataframe tbody tr th:only-of-type {\n",
       "        vertical-align: middle;\n",
       "    }\n",
       "\n",
       "    .dataframe tbody tr th {\n",
       "        vertical-align: top;\n",
       "    }\n",
       "\n",
       "    .dataframe thead th {\n",
       "        text-align: right;\n",
       "    }\n",
       "</style>\n",
       "<table border=\"1\" class=\"dataframe\">\n",
       "  <thead>\n",
       "    <tr style=\"text-align: right;\">\n",
       "      <th></th>\n",
       "      <th>Track</th>\n",
       "      <th>Album Name</th>\n",
       "      <th>Artist</th>\n",
       "      <th>Release Date</th>\n",
       "      <th>All Time Rank</th>\n",
       "      <th>Track Score</th>\n",
       "      <th>Spotify Streams</th>\n",
       "      <th>Spotify Playlist Count</th>\n",
       "      <th>Spotify Playlist Reach</th>\n",
       "      <th>Spotify Popularity</th>\n",
       "      <th>Year</th>\n",
       "      <th>Month</th>\n",
       "    </tr>\n",
       "  </thead>\n",
       "  <tbody>\n",
       "    <tr>\n",
       "      <th>30</th>\n",
       "      <td>Danza Kuduro - Cover</td>\n",
       "      <td>ýýýýýýýýýýýýýýýýýýýýýýýýýýý ýýýýýýýýýýýýýýýýýý...</td>\n",
       "      <td>LOVE BGM JPN</td>\n",
       "      <td>5/14/2024</td>\n",
       "      <td>31</td>\n",
       "      <td>249.8</td>\n",
       "      <td>1.645079e+09</td>\n",
       "      <td>NaN</td>\n",
       "      <td>NaN</td>\n",
       "      <td>87.0</td>\n",
       "      <td>2024</td>\n",
       "      <td>May</td>\n",
       "    </tr>\n",
       "    <tr>\n",
       "      <th>117</th>\n",
       "      <td>Chegou a Hora de Ir para Cama (Playback)</td>\n",
       "      <td>3 Palavrinhas Vol.9 (Playback)</td>\n",
       "      <td>3 Palavrinhas</td>\n",
       "      <td>6/4/2024</td>\n",
       "      <td>118</td>\n",
       "      <td>142.4</td>\n",
       "      <td>NaN</td>\n",
       "      <td>NaN</td>\n",
       "      <td>NaN</td>\n",
       "      <td>87.0</td>\n",
       "      <td>2024</td>\n",
       "      <td>June</td>\n",
       "    </tr>\n",
       "    <tr>\n",
       "      <th>391</th>\n",
       "      <td>The Girl From Ipanema</td>\n",
       "      <td>Instrumental Bossa Nova</td>\n",
       "      <td>Stan Getz</td>\n",
       "      <td>6/6/2024</td>\n",
       "      <td>391</td>\n",
       "      <td>77.2</td>\n",
       "      <td>NaN</td>\n",
       "      <td>NaN</td>\n",
       "      <td>NaN</td>\n",
       "      <td>84.0</td>\n",
       "      <td>2024</td>\n",
       "      <td>June</td>\n",
       "    </tr>\n",
       "    <tr>\n",
       "      <th>539</th>\n",
       "      <td>Cuando Te Amï¿</td>\n",
       "      <td>Cuando Te Amï¿½ï¿½ - Si</td>\n",
       "      <td>Cupula Roja</td>\n",
       "      <td>6/8/2024</td>\n",
       "      <td>537</td>\n",
       "      <td>66.3</td>\n",
       "      <td>NaN</td>\n",
       "      <td>NaN</td>\n",
       "      <td>NaN</td>\n",
       "      <td>82.0</td>\n",
       "      <td>2024</td>\n",
       "      <td>June</td>\n",
       "    </tr>\n",
       "    <tr>\n",
       "      <th>758</th>\n",
       "      <td>Swalla (feat. Nicki Minaj &amp; Ty Dolla $ign)</td>\n",
       "      <td>Nu King</td>\n",
       "      <td>Jason Derulo</td>\n",
       "      <td>2/16/2024</td>\n",
       "      <td>755</td>\n",
       "      <td>55.9</td>\n",
       "      <td>NaN</td>\n",
       "      <td>NaN</td>\n",
       "      <td>NaN</td>\n",
       "      <td>80.0</td>\n",
       "      <td>2024</td>\n",
       "      <td>February</td>\n",
       "    </tr>\n",
       "    <tr>\n",
       "      <th>1325</th>\n",
       "      <td>Take You Dancing</td>\n",
       "      <td>Nu King</td>\n",
       "      <td>Jason Derulo</td>\n",
       "      <td>2/16/2024</td>\n",
       "      <td>1,317</td>\n",
       "      <td>41.0</td>\n",
       "      <td>NaN</td>\n",
       "      <td>NaN</td>\n",
       "      <td>NaN</td>\n",
       "      <td>77.0</td>\n",
       "      <td>2024</td>\n",
       "      <td>February</td>\n",
       "    </tr>\n",
       "    <tr>\n",
       "      <th>1361</th>\n",
       "      <td>one of wun</td>\n",
       "      <td>One of Wun</td>\n",
       "      <td>Gunna</td>\n",
       "      <td>5/10/2024</td>\n",
       "      <td>1,356</td>\n",
       "      <td>40.3</td>\n",
       "      <td>NaN</td>\n",
       "      <td>NaN</td>\n",
       "      <td>NaN</td>\n",
       "      <td>72.0</td>\n",
       "      <td>2024</td>\n",
       "      <td>May</td>\n",
       "    </tr>\n",
       "    <tr>\n",
       "      <th>1648</th>\n",
       "      <td>Sarï¿½ï¿½ Perchï¿½ï¿</td>\n",
       "      <td>Viva Italia</td>\n",
       "      <td>Esteriore Brothers</td>\n",
       "      <td>6/7/2024</td>\n",
       "      <td>1,638</td>\n",
       "      <td>36.1</td>\n",
       "      <td>NaN</td>\n",
       "      <td>NaN</td>\n",
       "      <td>NaN</td>\n",
       "      <td>18.0</td>\n",
       "      <td>2024</td>\n",
       "      <td>June</td>\n",
       "    </tr>\n",
       "    <tr>\n",
       "      <th>2383</th>\n",
       "      <td>ýýýý ýýýý ýýýýýýýý</td>\n",
       "      <td>ýýýý ýýýý ýýýýýýýý - Single</td>\n",
       "      <td>ýýýýýýýý ýýýýýýýýýýýý</td>\n",
       "      <td>5/2/2024</td>\n",
       "      <td>2,374</td>\n",
       "      <td>29.3</td>\n",
       "      <td>NaN</td>\n",
       "      <td>NaN</td>\n",
       "      <td>NaN</td>\n",
       "      <td>67.0</td>\n",
       "      <td>2024</td>\n",
       "      <td>May</td>\n",
       "    </tr>\n",
       "    <tr>\n",
       "      <th>2912</th>\n",
       "      <td>Funk Estranho</td>\n",
       "      <td>Funk Estranho - Single</td>\n",
       "      <td>prod.67</td>\n",
       "      <td>5/31/2024</td>\n",
       "      <td>2,902</td>\n",
       "      <td>25.9</td>\n",
       "      <td>3.589000e+03</td>\n",
       "      <td>NaN</td>\n",
       "      <td>NaN</td>\n",
       "      <td>15.0</td>\n",
       "      <td>2024</td>\n",
       "      <td>May</td>\n",
       "    </tr>\n",
       "    <tr>\n",
       "      <th>3086</th>\n",
       "      <td>Get Involved (feat. Q-Tip) [Mixed]</td>\n",
       "      <td>Joe Kay: welcome to the aprtment (DJ Mix)</td>\n",
       "      <td>Raphael Saadiq</td>\n",
       "      <td>6/7/2024</td>\n",
       "      <td>3,069</td>\n",
       "      <td>25.0</td>\n",
       "      <td>NaN</td>\n",
       "      <td>NaN</td>\n",
       "      <td>NaN</td>\n",
       "      <td>66.0</td>\n",
       "      <td>2024</td>\n",
       "      <td>June</td>\n",
       "    </tr>\n",
       "    <tr>\n",
       "      <th>3355</th>\n",
       "      <td>Girls Just Wanna Have Some</td>\n",
       "      <td>Girls Just Wanna Have Some</td>\n",
       "      <td>dreamsoda</td>\n",
       "      <td>5/30/2024</td>\n",
       "      <td>3,440</td>\n",
       "      <td>23.7</td>\n",
       "      <td>5.103564e+07</td>\n",
       "      <td>NaN</td>\n",
       "      <td>NaN</td>\n",
       "      <td>67.0</td>\n",
       "      <td>2024</td>\n",
       "      <td>May</td>\n",
       "    </tr>\n",
       "    <tr>\n",
       "      <th>4345</th>\n",
       "      <td>Tip Toe (feat. French Montana)</td>\n",
       "      <td>Nu King</td>\n",
       "      <td>Jason Derulo</td>\n",
       "      <td>2/16/2024</td>\n",
       "      <td>4,340</td>\n",
       "      <td>20.2</td>\n",
       "      <td>NaN</td>\n",
       "      <td>NaN</td>\n",
       "      <td>NaN</td>\n",
       "      <td>67.0</td>\n",
       "      <td>2024</td>\n",
       "      <td>February</td>\n",
       "    </tr>\n",
       "    <tr>\n",
       "      <th>4431</th>\n",
       "      <td>Oye</td>\n",
       "      <td>Oye</td>\n",
       "      <td>LuckReaper</td>\n",
       "      <td>5/15/2024</td>\n",
       "      <td>4,879</td>\n",
       "      <td>19.9</td>\n",
       "      <td>4.715131e+07</td>\n",
       "      <td>NaN</td>\n",
       "      <td>NaN</td>\n",
       "      <td>59.0</td>\n",
       "      <td>2024</td>\n",
       "      <td>May</td>\n",
       "    </tr>\n",
       "    <tr>\n",
       "      <th>4534</th>\n",
       "      <td>Mast Malang Jhoom (From \"Bade Miyan Chote Miya...</td>\n",
       "      <td>Mast Malang Jhoom (From \"Bade Miyan Chote Miya...</td>\n",
       "      <td>Vishal Mishra</td>\n",
       "      <td>3/1/2024</td>\n",
       "      <td>4,506</td>\n",
       "      <td>19.6</td>\n",
       "      <td>NaN</td>\n",
       "      <td>NaN</td>\n",
       "      <td>NaN</td>\n",
       "      <td>75.0</td>\n",
       "      <td>2024</td>\n",
       "      <td>March</td>\n",
       "    </tr>\n",
       "    <tr>\n",
       "      <th>4541</th>\n",
       "      <td>Hood By Air Freestyle</td>\n",
       "      <td>Hood By Air Freestyle - Single</td>\n",
       "      <td>Baby Flaco</td>\n",
       "      <td>4/26/2024</td>\n",
       "      <td>4,498</td>\n",
       "      <td>19.6</td>\n",
       "      <td>NaN</td>\n",
       "      <td>NaN</td>\n",
       "      <td>NaN</td>\n",
       "      <td>62.0</td>\n",
       "      <td>2024</td>\n",
       "      <td>April</td>\n",
       "    </tr>\n",
       "  </tbody>\n",
       "</table>\n",
       "</div>"
      ],
      "text/plain": [
       "                                                  Track  \\\n",
       "30                                 Danza Kuduro - Cover   \n",
       "117            Chegou a Hora de Ir para Cama (Playback)   \n",
       "391                               The Girl From Ipanema   \n",
       "539                                      Cuando Te Amï¿   \n",
       "758          Swalla (feat. Nicki Minaj & Ty Dolla $ign)   \n",
       "1325                                   Take You Dancing   \n",
       "1361                                         one of wun   \n",
       "1648                               Sarï¿½ï¿½ Perchï¿½ï¿   \n",
       "2383                                 ýýýý ýýýý ýýýýýýýý   \n",
       "2912                                      Funk Estranho   \n",
       "3086                 Get Involved (feat. Q-Tip) [Mixed]   \n",
       "3355                         Girls Just Wanna Have Some   \n",
       "4345                     Tip Toe (feat. French Montana)   \n",
       "4431                                                Oye   \n",
       "4534  Mast Malang Jhoom (From \"Bade Miyan Chote Miya...   \n",
       "4541                              Hood By Air Freestyle   \n",
       "\n",
       "                                             Album Name  \\\n",
       "30    ýýýýýýýýýýýýýýýýýýýýýýýýýýý ýýýýýýýýýýýýýýýýýý...   \n",
       "117                      3 Palavrinhas Vol.9 (Playback)   \n",
       "391                             Instrumental Bossa Nova   \n",
       "539                             Cuando Te Amï¿½ï¿½ - Si   \n",
       "758                                             Nu King   \n",
       "1325                                            Nu King   \n",
       "1361                                         One of Wun   \n",
       "1648                                        Viva Italia   \n",
       "2383                        ýýýý ýýýý ýýýýýýýý - Single   \n",
       "2912                             Funk Estranho - Single   \n",
       "3086          Joe Kay: welcome to the aprtment (DJ Mix)   \n",
       "3355                         Girls Just Wanna Have Some   \n",
       "4345                                            Nu King   \n",
       "4431                                                Oye   \n",
       "4534  Mast Malang Jhoom (From \"Bade Miyan Chote Miya...   \n",
       "4541                     Hood By Air Freestyle - Single   \n",
       "\n",
       "                     Artist Release Date All Time Rank  Track Score  \\\n",
       "30             LOVE BGM JPN    5/14/2024            31        249.8   \n",
       "117           3 Palavrinhas     6/4/2024           118        142.4   \n",
       "391               Stan Getz     6/6/2024           391         77.2   \n",
       "539             Cupula Roja     6/8/2024           537         66.3   \n",
       "758            Jason Derulo    2/16/2024           755         55.9   \n",
       "1325           Jason Derulo    2/16/2024         1,317         41.0   \n",
       "1361                  Gunna    5/10/2024         1,356         40.3   \n",
       "1648     Esteriore Brothers     6/7/2024         1,638         36.1   \n",
       "2383  ýýýýýýýý ýýýýýýýýýýýý     5/2/2024         2,374         29.3   \n",
       "2912                prod.67    5/31/2024         2,902         25.9   \n",
       "3086         Raphael Saadiq     6/7/2024         3,069         25.0   \n",
       "3355              dreamsoda    5/30/2024         3,440         23.7   \n",
       "4345           Jason Derulo    2/16/2024         4,340         20.2   \n",
       "4431             LuckReaper    5/15/2024         4,879         19.9   \n",
       "4534          Vishal Mishra     3/1/2024         4,506         19.6   \n",
       "4541             Baby Flaco    4/26/2024         4,498         19.6   \n",
       "\n",
       "      Spotify Streams  Spotify Playlist Count  Spotify Playlist Reach  \\\n",
       "30       1.645079e+09                     NaN                     NaN   \n",
       "117               NaN                     NaN                     NaN   \n",
       "391               NaN                     NaN                     NaN   \n",
       "539               NaN                     NaN                     NaN   \n",
       "758               NaN                     NaN                     NaN   \n",
       "1325              NaN                     NaN                     NaN   \n",
       "1361              NaN                     NaN                     NaN   \n",
       "1648              NaN                     NaN                     NaN   \n",
       "2383              NaN                     NaN                     NaN   \n",
       "2912     3.589000e+03                     NaN                     NaN   \n",
       "3086              NaN                     NaN                     NaN   \n",
       "3355     5.103564e+07                     NaN                     NaN   \n",
       "4345              NaN                     NaN                     NaN   \n",
       "4431     4.715131e+07                     NaN                     NaN   \n",
       "4534              NaN                     NaN                     NaN   \n",
       "4541              NaN                     NaN                     NaN   \n",
       "\n",
       "      Spotify Popularity  Year     Month  \n",
       "30                  87.0  2024       May  \n",
       "117                 87.0  2024      June  \n",
       "391                 84.0  2024      June  \n",
       "539                 82.0  2024      June  \n",
       "758                 80.0  2024  February  \n",
       "1325                77.0  2024  February  \n",
       "1361                72.0  2024       May  \n",
       "1648                18.0  2024      June  \n",
       "2383                67.0  2024       May  \n",
       "2912                15.0  2024       May  \n",
       "3086                66.0  2024      June  \n",
       "3355                67.0  2024       May  \n",
       "4345                67.0  2024  February  \n",
       "4431                59.0  2024       May  \n",
       "4534                75.0  2024     March  \n",
       "4541                62.0  2024     April  "
      ]
     },
     "execution_count": 21,
     "metadata": {},
     "output_type": "execute_result"
    }
   ],
   "source": [
    "artists_with_nan_streams = spotify[spotify['Spotify Playlist Count'].isna()]\n",
    "artists_with_nan_streams.head(16)"
   ]
  },
  {
   "cell_type": "code",
   "execution_count": 22,
   "id": "aac57cd9",
   "metadata": {
    "execution": {
     "iopub.execute_input": "2024-07-12T15:38:17.719577Z",
     "iopub.status.busy": "2024-07-12T15:38:17.718780Z",
     "iopub.status.idle": "2024-07-12T15:38:17.727160Z",
     "shell.execute_reply": "2024-07-12T15:38:17.726230Z"
    },
    "papermill": {
     "duration": 0.029745,
     "end_time": "2024-07-12T15:38:17.729209",
     "exception": false,
     "start_time": "2024-07-12T15:38:17.699464",
     "status": "completed"
    },
    "tags": []
   },
   "outputs": [
    {
     "data": {
      "text/plain": [
       "Track                      0\n",
       "Album Name                 0\n",
       "Artist                     0\n",
       "Release Date               0\n",
       "All Time Rank              0\n",
       "Track Score                0\n",
       "Spotify Streams           19\n",
       "Spotify Playlist Count    16\n",
       "Spotify Playlist Reach    17\n",
       "Spotify Popularity         0\n",
       "Year                       0\n",
       "Month                      0\n",
       "dtype: int64"
      ]
     },
     "execution_count": 22,
     "metadata": {},
     "output_type": "execute_result"
    }
   ],
   "source": [
    "spotify.isnull().sum()"
   ]
  },
  {
   "cell_type": "markdown",
   "id": "c7601e84",
   "metadata": {
    "papermill": {
     "duration": 0.016921,
     "end_time": "2024-07-12T15:38:17.763228",
     "exception": false,
     "start_time": "2024-07-12T15:38:17.746307",
     "status": "completed"
    },
    "tags": []
   },
   "source": [
    "**convert to int**"
   ]
  },
  {
   "cell_type": "code",
   "execution_count": 23,
   "id": "f7ea6d1c",
   "metadata": {
    "execution": {
     "iopub.execute_input": "2024-07-12T15:38:17.798975Z",
     "iopub.status.busy": "2024-07-12T15:38:17.798083Z",
     "iopub.status.idle": "2024-07-12T15:38:17.805502Z",
     "shell.execute_reply": "2024-07-12T15:38:17.804648Z"
    },
    "papermill": {
     "duration": 0.027317,
     "end_time": "2024-07-12T15:38:17.807446",
     "exception": false,
     "start_time": "2024-07-12T15:38:17.780129",
     "status": "completed"
    },
    "tags": []
   },
   "outputs": [],
   "source": [
    "spotify['Spotify Streams'] =spotify['Spotify Streams'].fillna(0).astype(int)\n",
    "spotify['Spotify Playlist Count'] =spotify['Spotify Playlist Count'].fillna(0).astype(int)\n",
    "spotify['Spotify Playlist Reach'] =spotify['Spotify Playlist Reach'].fillna(0).astype(int)"
   ]
  },
  {
   "cell_type": "markdown",
   "id": "640d8f14",
   "metadata": {
    "papermill": {
     "duration": 0.016743,
     "end_time": "2024-07-12T15:38:17.840812",
     "exception": false,
     "start_time": "2024-07-12T15:38:17.824069",
     "status": "completed"
    },
    "tags": []
   },
   "source": [
    "# **Data Preprocessing & Data Visualisation**"
   ]
  },
  {
   "cell_type": "code",
   "execution_count": 24,
   "id": "3b0fb542",
   "metadata": {
    "execution": {
     "iopub.execute_input": "2024-07-12T15:38:17.875807Z",
     "iopub.status.busy": "2024-07-12T15:38:17.875471Z",
     "iopub.status.idle": "2024-07-12T15:38:17.889534Z",
     "shell.execute_reply": "2024-07-12T15:38:17.888596Z"
    },
    "papermill": {
     "duration": 0.034145,
     "end_time": "2024-07-12T15:38:17.891476",
     "exception": false,
     "start_time": "2024-07-12T15:38:17.857331",
     "status": "completed"
    },
    "tags": []
   },
   "outputs": [
    {
     "name": "stdout",
     "output_type": "stream",
     "text": [
      "Artist with the Most Tracks:\n"
     ]
    },
    {
     "data": {
      "text/html": [
       "<div>\n",
       "<style scoped>\n",
       "    .dataframe tbody tr th:only-of-type {\n",
       "        vertical-align: middle;\n",
       "    }\n",
       "\n",
       "    .dataframe tbody tr th {\n",
       "        vertical-align: top;\n",
       "    }\n",
       "\n",
       "    .dataframe thead th {\n",
       "        text-align: right;\n",
       "    }\n",
       "</style>\n",
       "<table border=\"1\" class=\"dataframe\">\n",
       "  <thead>\n",
       "    <tr style=\"text-align: right;\">\n",
       "      <th></th>\n",
       "      <th>Artist</th>\n",
       "      <th>Track</th>\n",
       "    </tr>\n",
       "  </thead>\n",
       "  <tbody>\n",
       "    <tr>\n",
       "      <th>0</th>\n",
       "      <td>Taylor Swift</td>\n",
       "      <td>24</td>\n",
       "    </tr>\n",
       "    <tr>\n",
       "      <th>1</th>\n",
       "      <td>Future</td>\n",
       "      <td>15</td>\n",
       "    </tr>\n",
       "    <tr>\n",
       "      <th>2</th>\n",
       "      <td>Linkin Park</td>\n",
       "      <td>11</td>\n",
       "    </tr>\n",
       "    <tr>\n",
       "      <th>3</th>\n",
       "      <td>Billie Eilish</td>\n",
       "      <td>10</td>\n",
       "    </tr>\n",
       "    <tr>\n",
       "      <th>4</th>\n",
       "      <td>21 Savage</td>\n",
       "      <td>10</td>\n",
       "    </tr>\n",
       "    <tr>\n",
       "      <th>5</th>\n",
       "      <td>Ariana Grande</td>\n",
       "      <td>7</td>\n",
       "    </tr>\n",
       "    <tr>\n",
       "      <th>6</th>\n",
       "      <td>Selena</td>\n",
       "      <td>7</td>\n",
       "    </tr>\n",
       "    <tr>\n",
       "      <th>7</th>\n",
       "      <td>Gunna</td>\n",
       "      <td>6</td>\n",
       "    </tr>\n",
       "    <tr>\n",
       "      <th>8</th>\n",
       "      <td>Beyoncï¿</td>\n",
       "      <td>5</td>\n",
       "    </tr>\n",
       "    <tr>\n",
       "      <th>9</th>\n",
       "      <td>Kanye West</td>\n",
       "      <td>5</td>\n",
       "    </tr>\n",
       "  </tbody>\n",
       "</table>\n",
       "</div>"
      ],
      "text/plain": [
       "          Artist  Track\n",
       "0   Taylor Swift     24\n",
       "1         Future     15\n",
       "2    Linkin Park     11\n",
       "3  Billie Eilish     10\n",
       "4      21 Savage     10\n",
       "5  Ariana Grande      7\n",
       "6         Selena      7\n",
       "7          Gunna      6\n",
       "8       Beyoncï¿      5\n",
       "9     Kanye West      5"
      ]
     },
     "execution_count": 24,
     "metadata": {},
     "output_type": "execute_result"
    }
   ],
   "source": [
    "artist_track_counts = (spotify.groupby('Artist')['Track'].count().reset_index(name='Track').sort_values(by='Track', ascending=False).head(10))\n",
    "artist_track_counts=artist_track_counts.reset_index(drop=True)\n",
    "print(\"Artist with the Most Tracks:\")\n",
    "artist_track_counts"
   ]
  },
  {
   "cell_type": "code",
   "execution_count": 25,
   "id": "b00fd0f8",
   "metadata": {
    "execution": {
     "iopub.execute_input": "2024-07-12T15:38:17.926954Z",
     "iopub.status.busy": "2024-07-12T15:38:17.926607Z",
     "iopub.status.idle": "2024-07-12T15:38:18.385157Z",
     "shell.execute_reply": "2024-07-12T15:38:18.384174Z"
    },
    "papermill": {
     "duration": 0.478718,
     "end_time": "2024-07-12T15:38:18.387371",
     "exception": false,
     "start_time": "2024-07-12T15:38:17.908653",
     "status": "completed"
    },
    "tags": []
   },
   "outputs": [
    {
     "name": "stdout",
     "output_type": "stream",
     "text": [
      "Taylor Swift: 24 tracks\n"
     ]
    },
    {
     "data": {
      "image/png": "[encoded data removed]",
      "text/plain": [
       "<Figure size 1000x600 with 1 Axes>"
      ]
     },
     "metadata": {},
     "output_type": "display_data"
    }
   ],
   "source": [
    "most_tracks_artist = artist_track_counts.iloc[0]['Artist']\n",
    "most_tracks_count = artist_track_counts.iloc[0]['Track']\n",
    "plt.figure(figsize=(10, 6)) \n",
    "plt.bar(artist_track_counts['Artist'], artist_track_counts['Track'], color=palette )\n",
    "plt.xlabel('Artist')\n",
    "plt.ylabel('Track Count')\n",
    "plt.title('Artists with Most Tracks (Top 10)')\n",
    "plt.xticks(rotation=45, ha='right') \n",
    "plt.tight_layout()\n",
    "print(f\"{most_tracks_artist}: {most_tracks_count} tracks\")"
   ]
  },
  {
   "cell_type": "code",
   "execution_count": 26,
   "id": "a47c21af",
   "metadata": {
    "execution": {
     "iopub.execute_input": "2024-07-12T15:38:18.425041Z",
     "iopub.status.busy": "2024-07-12T15:38:18.424674Z",
     "iopub.status.idle": "2024-07-12T15:38:18.442300Z",
     "shell.execute_reply": "2024-07-12T15:38:18.441289Z"
    },
    "papermill": {
     "duration": 0.038925,
     "end_time": "2024-07-12T15:38:18.444451",
     "exception": false,
     "start_time": "2024-07-12T15:38:18.405526",
     "status": "completed"
    },
    "tags": []
   },
   "outputs": [
    {
     "name": "stdout",
     "output_type": "stream",
     "text": [
      "Album with the Most Tracks:\n"
     ]
    },
    {
     "data": {
      "text/html": [
       "<div>\n",
       "<style scoped>\n",
       "    .dataframe tbody tr th:only-of-type {\n",
       "        vertical-align: middle;\n",
       "    }\n",
       "\n",
       "    .dataframe tbody tr th {\n",
       "        vertical-align: top;\n",
       "    }\n",
       "\n",
       "    .dataframe thead th {\n",
       "        text-align: right;\n",
       "    }\n",
       "</style>\n",
       "<table border=\"1\" class=\"dataframe\">\n",
       "  <thead>\n",
       "    <tr style=\"text-align: right;\">\n",
       "      <th></th>\n",
       "      <th>Artist</th>\n",
       "      <th>Album Name</th>\n",
       "      <th>Track</th>\n",
       "    </tr>\n",
       "  </thead>\n",
       "  <tbody>\n",
       "    <tr>\n",
       "      <th>0</th>\n",
       "      <td>Taylor Swift</td>\n",
       "      <td>THE TORTURED POETS DEPARTMENT</td>\n",
       "      <td>18</td>\n",
       "    </tr>\n",
       "    <tr>\n",
       "      <th>1</th>\n",
       "      <td>Future</td>\n",
       "      <td>WE DON'T TRUST YOU</td>\n",
       "      <td>11</td>\n",
       "    </tr>\n",
       "    <tr>\n",
       "      <th>2</th>\n",
       "      <td>Billie Eilish</td>\n",
       "      <td>HIT ME HARD AND SOFT</td>\n",
       "      <td>10</td>\n",
       "    </tr>\n",
       "    <tr>\n",
       "      <th>3</th>\n",
       "      <td>Linkin Park</td>\n",
       "      <td>Papercuts</td>\n",
       "      <td>10</td>\n",
       "    </tr>\n",
       "    <tr>\n",
       "      <th>4</th>\n",
       "      <td>Selena</td>\n",
       "      <td>Amor Prohibido (Remasterizado 2024/30th Annive...</td>\n",
       "      <td>7</td>\n",
       "    </tr>\n",
       "    <tr>\n",
       "      <th>5</th>\n",
       "      <td>Taylor Swift</td>\n",
       "      <td>THE TORTURED POETS DEPARTMENT: THE ANTHOLOGY</td>\n",
       "      <td>6</td>\n",
       "    </tr>\n",
       "    <tr>\n",
       "      <th>6</th>\n",
       "      <td>Ariana Grande</td>\n",
       "      <td>eternal sunshine</td>\n",
       "      <td>5</td>\n",
       "    </tr>\n",
       "    <tr>\n",
       "      <th>7</th>\n",
       "      <td>21 Savage</td>\n",
       "      <td>american dream</td>\n",
       "      <td>5</td>\n",
       "    </tr>\n",
       "    <tr>\n",
       "      <th>8</th>\n",
       "      <td>Future</td>\n",
       "      <td>WE STILL DON'T TRUST YOU</td>\n",
       "      <td>4</td>\n",
       "    </tr>\n",
       "    <tr>\n",
       "      <th>9</th>\n",
       "      <td>Kanye West</td>\n",
       "      <td>VULTURES 1</td>\n",
       "      <td>4</td>\n",
       "    </tr>\n",
       "  </tbody>\n",
       "</table>\n",
       "</div>"
      ],
      "text/plain": [
       "          Artist                                         Album Name  Track\n",
       "0   Taylor Swift                      THE TORTURED POETS DEPARTMENT     18\n",
       "1         Future                                 WE DON'T TRUST YOU     11\n",
       "2  Billie Eilish                               HIT ME HARD AND SOFT     10\n",
       "3    Linkin Park                                          Papercuts     10\n",
       "4         Selena  Amor Prohibido (Remasterizado 2024/30th Annive...      7\n",
       "5   Taylor Swift       THE TORTURED POETS DEPARTMENT: THE ANTHOLOGY      6\n",
       "6  Ariana Grande                                   eternal sunshine      5\n",
       "7      21 Savage                                     american dream      5\n",
       "8         Future                           WE STILL DON'T TRUST YOU      4\n",
       "9     Kanye West                                         VULTURES 1      4"
      ]
     },
     "execution_count": 26,
     "metadata": {},
     "output_type": "execute_result"
    }
   ],
   "source": [
    "album_most_track = (spotify.groupby(['Artist','Album Name'])['Track'].count().reset_index(name='Track').sort_values(by='Track', ascending=False).head(10))\n",
    "album_most_track=album_most_track.reset_index(drop=True)\n",
    "print(\"Album with the Most Tracks:\")\n",
    "album_most_track"
   ]
  },
  {
   "cell_type": "code",
   "execution_count": 27,
   "id": "bb35bc59",
   "metadata": {
    "execution": {
     "iopub.execute_input": "2024-07-12T15:38:18.482889Z",
     "iopub.status.busy": "2024-07-12T15:38:18.482167Z",
     "iopub.status.idle": "2024-07-12T15:38:18.945521Z",
     "shell.execute_reply": "2024-07-12T15:38:18.944529Z"
    },
    "papermill": {
     "duration": 0.4849,
     "end_time": "2024-07-12T15:38:18.947736",
     "exception": false,
     "start_time": "2024-07-12T15:38:18.462836",
     "status": "completed"
    },
    "tags": []
   },
   "outputs": [
    {
     "name": "stdout",
     "output_type": "stream",
     "text": [
      "The Album have Most Track THE TORTURED POETS DEPARTMENT for Taylor Swift have 18 track\n"
     ]
    },
    {
     "data": {
      "image/png": "[encoded data removed]",
      "text/plain": [
       "<Figure size 1600x800 with 1 Axes>"
      ]
     },
     "metadata": {},
     "output_type": "display_data"
    }
   ],
   "source": [
    "plt.figure(figsize=(16, 8)) \n",
    "plt.bar(album_most_track['Album Name'],album_most_track['Track'], color=palette)\n",
    "plt.xlabel('Album Name)')  \n",
    "plt.ylabel('Track Count')\n",
    "plt.title('Top 10 Albums with Most Tracks')\n",
    "plt.xticks(rotation=45, ha='right')  \n",
    "plt.tight_layout()\n",
    "print('The Album have Most Track',album_most_track['Album Name'][0],'for',album_most_track['Artist'][0],'have',album_most_track['Track'][0],'track')"
   ]
  },
  {
   "cell_type": "code",
   "execution_count": 28,
   "id": "325ec865",
   "metadata": {
    "execution": {
     "iopub.execute_input": "2024-07-12T15:38:18.988714Z",
     "iopub.status.busy": "2024-07-12T15:38:18.988358Z",
     "iopub.status.idle": "2024-07-12T15:38:18.997019Z",
     "shell.execute_reply": "2024-07-12T15:38:18.996060Z"
    },
    "papermill": {
     "duration": 0.031528,
     "end_time": "2024-07-12T15:38:18.999163",
     "exception": false,
     "start_time": "2024-07-12T15:38:18.967635",
     "status": "completed"
    },
    "tags": []
   },
   "outputs": [],
   "source": [
    "artist_album_counts = (\n",
    "    spotify.groupby('Artist')['Album Name'].nunique()  \n",
    "    .reset_index(name='Album Count')\n",
    "    .sort_values(by='Album Count', ascending=False)\n",
    "    .reset_index(drop=True)  \n",
    ").head(10)"
   ]
  },
  {
   "cell_type": "code",
   "execution_count": 29,
   "id": "f34ff4fe",
   "metadata": {
    "execution": {
     "iopub.execute_input": "2024-07-12T15:38:19.040706Z",
     "iopub.status.busy": "2024-07-12T15:38:19.040046Z",
     "iopub.status.idle": "2024-07-12T15:38:19.049085Z",
     "shell.execute_reply": "2024-07-12T15:38:19.048137Z"
    },
    "papermill": {
     "duration": 0.032131,
     "end_time": "2024-07-12T15:38:19.051182",
     "exception": false,
     "start_time": "2024-07-12T15:38:19.019051",
     "status": "completed"
    },
    "tags": []
   },
   "outputs": [
    {
     "data": {
      "text/html": [
       "<div>\n",
       "<style scoped>\n",
       "    .dataframe tbody tr th:only-of-type {\n",
       "        vertical-align: middle;\n",
       "    }\n",
       "\n",
       "    .dataframe tbody tr th {\n",
       "        vertical-align: top;\n",
       "    }\n",
       "\n",
       "    .dataframe thead th {\n",
       "        text-align: right;\n",
       "    }\n",
       "</style>\n",
       "<table border=\"1\" class=\"dataframe\">\n",
       "  <thead>\n",
       "    <tr style=\"text-align: right;\">\n",
       "      <th></th>\n",
       "      <th>Artist</th>\n",
       "      <th>Album Count</th>\n",
       "    </tr>\n",
       "  </thead>\n",
       "  <tbody>\n",
       "    <tr>\n",
       "      <th>0</th>\n",
       "      <td>21 Savage</td>\n",
       "      <td>6</td>\n",
       "    </tr>\n",
       "    <tr>\n",
       "      <th>1</th>\n",
       "      <td>FloyyMenor</td>\n",
       "      <td>4</td>\n",
       "    </tr>\n",
       "    <tr>\n",
       "      <th>2</th>\n",
       "      <td>MUSIC LAB JPN</td>\n",
       "      <td>4</td>\n",
       "    </tr>\n",
       "    <tr>\n",
       "      <th>3</th>\n",
       "      <td>Bizarrap</td>\n",
       "      <td>3</td>\n",
       "    </tr>\n",
       "    <tr>\n",
       "      <th>4</th>\n",
       "      <td>Don Toliver</td>\n",
       "      <td>3</td>\n",
       "    </tr>\n",
       "    <tr>\n",
       "      <th>5</th>\n",
       "      <td>Dua Lipa</td>\n",
       "      <td>3</td>\n",
       "    </tr>\n",
       "    <tr>\n",
       "      <th>6</th>\n",
       "      <td>Kendrick Lamar</td>\n",
       "      <td>3</td>\n",
       "    </tr>\n",
       "    <tr>\n",
       "      <th>7</th>\n",
       "      <td>$uicideboy$</td>\n",
       "      <td>3</td>\n",
       "    </tr>\n",
       "    <tr>\n",
       "      <th>8</th>\n",
       "      <td>Shubh</td>\n",
       "      <td>3</td>\n",
       "    </tr>\n",
       "    <tr>\n",
       "      <th>9</th>\n",
       "      <td>Central Cee</td>\n",
       "      <td>3</td>\n",
       "    </tr>\n",
       "  </tbody>\n",
       "</table>\n",
       "</div>"
      ],
      "text/plain": [
       "           Artist  Album Count\n",
       "0       21 Savage            6\n",
       "1      FloyyMenor            4\n",
       "2   MUSIC LAB JPN            4\n",
       "3        Bizarrap            3\n",
       "4     Don Toliver            3\n",
       "5        Dua Lipa            3\n",
       "6  Kendrick Lamar            3\n",
       "7     $uicideboy$            3\n",
       "8           Shubh            3\n",
       "9     Central Cee            3"
      ]
     },
     "execution_count": 29,
     "metadata": {},
     "output_type": "execute_result"
    }
   ],
   "source": [
    "artist_album_counts"
   ]
  },
  {
   "cell_type": "code",
   "execution_count": 30,
   "id": "21c4f173",
   "metadata": {
    "execution": {
     "iopub.execute_input": "2024-07-12T15:38:19.093563Z",
     "iopub.status.busy": "2024-07-12T15:38:19.092687Z",
     "iopub.status.idle": "2024-07-12T15:38:19.110882Z",
     "shell.execute_reply": "2024-07-12T15:38:19.109945Z"
    },
    "papermill": {
     "duration": 0.0415,
     "end_time": "2024-07-12T15:38:19.113053",
     "exception": false,
     "start_time": "2024-07-12T15:38:19.071553",
     "status": "completed"
    },
    "tags": []
   },
   "outputs": [
    {
     "data": {
      "text/html": [
       "<div>\n",
       "<style scoped>\n",
       "    .dataframe tbody tr th:only-of-type {\n",
       "        vertical-align: middle;\n",
       "    }\n",
       "\n",
       "    .dataframe tbody tr th {\n",
       "        vertical-align: top;\n",
       "    }\n",
       "\n",
       "    .dataframe thead th {\n",
       "        text-align: right;\n",
       "    }\n",
       "</style>\n",
       "<table border=\"1\" class=\"dataframe\">\n",
       "  <thead>\n",
       "    <tr style=\"text-align: right;\">\n",
       "      <th></th>\n",
       "      <th>Track</th>\n",
       "      <th>Album Name</th>\n",
       "      <th>Artist</th>\n",
       "      <th>Release Date</th>\n",
       "      <th>All Time Rank</th>\n",
       "      <th>Track Score</th>\n",
       "      <th>Spotify Streams</th>\n",
       "      <th>Spotify Playlist Count</th>\n",
       "      <th>Spotify Playlist Reach</th>\n",
       "      <th>Spotify Popularity</th>\n",
       "      <th>Year</th>\n",
       "      <th>Month</th>\n",
       "    </tr>\n",
       "  </thead>\n",
       "  <tbody>\n",
       "    <tr>\n",
       "      <th>86</th>\n",
       "      <td>redrum</td>\n",
       "      <td>american dream</td>\n",
       "      <td>21 Savage</td>\n",
       "      <td>1/12/2024</td>\n",
       "      <td>87</td>\n",
       "      <td>164.8</td>\n",
       "      <td>428233003</td>\n",
       "      <td>57311</td>\n",
       "      <td>144298748</td>\n",
       "      <td>90.0</td>\n",
       "      <td>2024</td>\n",
       "      <td>January</td>\n",
       "    </tr>\n",
       "    <tr>\n",
       "      <th>656</th>\n",
       "      <td>nï¿½ï¿½e</td>\n",
       "      <td>nï¿½ï¿½e</td>\n",
       "      <td>21 Savage</td>\n",
       "      <td>1/10/2024</td>\n",
       "      <td>652</td>\n",
       "      <td>59.4</td>\n",
       "      <td>150203467</td>\n",
       "      <td>33551</td>\n",
       "      <td>52062674</td>\n",
       "      <td>81.0</td>\n",
       "      <td>2024</td>\n",
       "      <td>January</td>\n",
       "    </tr>\n",
       "    <tr>\n",
       "      <th>1287</th>\n",
       "      <td>all of me</td>\n",
       "      <td>american dream</td>\n",
       "      <td>21 Savage</td>\n",
       "      <td>1/12/2024</td>\n",
       "      <td>1,283</td>\n",
       "      <td>41.6</td>\n",
       "      <td>87111207</td>\n",
       "      <td>20380</td>\n",
       "      <td>29657028</td>\n",
       "      <td>76.0</td>\n",
       "      <td>2024</td>\n",
       "      <td>January</td>\n",
       "    </tr>\n",
       "    <tr>\n",
       "      <th>1386</th>\n",
       "      <td>prove it</td>\n",
       "      <td>prove it</td>\n",
       "      <td>21 Savage</td>\n",
       "      <td>1/10/2024</td>\n",
       "      <td>1,388</td>\n",
       "      <td>39.8</td>\n",
       "      <td>88224186</td>\n",
       "      <td>19035</td>\n",
       "      <td>10935183</td>\n",
       "      <td>78.0</td>\n",
       "      <td>2024</td>\n",
       "      <td>January</td>\n",
       "    </tr>\n",
       "    <tr>\n",
       "      <th>2457</th>\n",
       "      <td>n.h.i.e.</td>\n",
       "      <td>n.h.i.e.</td>\n",
       "      <td>21 Savage</td>\n",
       "      <td>1/10/2024</td>\n",
       "      <td>2,459</td>\n",
       "      <td>28.8</td>\n",
       "      <td>102829758</td>\n",
       "      <td>16786</td>\n",
       "      <td>13717188</td>\n",
       "      <td>75.0</td>\n",
       "      <td>2024</td>\n",
       "      <td>January</td>\n",
       "    </tr>\n",
       "    <tr>\n",
       "      <th>3007</th>\n",
       "      <td>sneaky</td>\n",
       "      <td>american dream</td>\n",
       "      <td>21 Savage</td>\n",
       "      <td>1/12/2024</td>\n",
       "      <td>3,005</td>\n",
       "      <td>25.4</td>\n",
       "      <td>54062895</td>\n",
       "      <td>14363</td>\n",
       "      <td>8542239</td>\n",
       "      <td>71.0</td>\n",
       "      <td>2024</td>\n",
       "      <td>January</td>\n",
       "    </tr>\n",
       "    <tr>\n",
       "      <th>3205</th>\n",
       "      <td>should've wore a bonnet</td>\n",
       "      <td>should've wore a bonnet</td>\n",
       "      <td>21 Savage</td>\n",
       "      <td>1/10/2024</td>\n",
       "      <td>3,200</td>\n",
       "      <td>24.4</td>\n",
       "      <td>51365907</td>\n",
       "      <td>12559</td>\n",
       "      <td>6817443</td>\n",
       "      <td>8.0</td>\n",
       "      <td>2024</td>\n",
       "      <td>January</td>\n",
       "    </tr>\n",
       "    <tr>\n",
       "      <th>3407</th>\n",
       "      <td>dangerous</td>\n",
       "      <td>dangerous</td>\n",
       "      <td>21 Savage</td>\n",
       "      <td>1/10/2024</td>\n",
       "      <td>3,407</td>\n",
       "      <td>23.5</td>\n",
       "      <td>47098347</td>\n",
       "      <td>15845</td>\n",
       "      <td>17899427</td>\n",
       "      <td>67.0</td>\n",
       "      <td>2024</td>\n",
       "      <td>January</td>\n",
       "    </tr>\n",
       "    <tr>\n",
       "      <th>4301</th>\n",
       "      <td>redrum</td>\n",
       "      <td>american dream</td>\n",
       "      <td>21 Savage</td>\n",
       "      <td>1/12/2024</td>\n",
       "      <td>4,257</td>\n",
       "      <td>20.4</td>\n",
       "      <td>428233003</td>\n",
       "      <td>2814</td>\n",
       "      <td>926379</td>\n",
       "      <td>67.0</td>\n",
       "      <td>2024</td>\n",
       "      <td>January</td>\n",
       "    </tr>\n",
       "    <tr>\n",
       "      <th>4453</th>\n",
       "      <td>red sky</td>\n",
       "      <td>american dream</td>\n",
       "      <td>21 Savage</td>\n",
       "      <td>1/12/2024</td>\n",
       "      <td>4,450</td>\n",
       "      <td>19.8</td>\n",
       "      <td>38445811</td>\n",
       "      <td>12924</td>\n",
       "      <td>1883136</td>\n",
       "      <td>11.0</td>\n",
       "      <td>2024</td>\n",
       "      <td>January</td>\n",
       "    </tr>\n",
       "  </tbody>\n",
       "</table>\n",
       "</div>"
      ],
      "text/plain": [
       "                        Track               Album Name     Artist  \\\n",
       "86                     redrum           american dream  21 Savage   \n",
       "656                  nï¿½ï¿½e                 nï¿½ï¿½e  21 Savage   \n",
       "1287                all of me           american dream  21 Savage   \n",
       "1386                 prove it                 prove it  21 Savage   \n",
       "2457                 n.h.i.e.                 n.h.i.e.  21 Savage   \n",
       "3007                   sneaky           american dream  21 Savage   \n",
       "3205  should've wore a bonnet  should've wore a bonnet  21 Savage   \n",
       "3407                dangerous                dangerous  21 Savage   \n",
       "4301                   redrum           american dream  21 Savage   \n",
       "4453                  red sky           american dream  21 Savage   \n",
       "\n",
       "     Release Date All Time Rank  Track Score  Spotify Streams  \\\n",
       "86      1/12/2024            87        164.8        428233003   \n",
       "656     1/10/2024           652         59.4        150203467   \n",
       "1287    1/12/2024         1,283         41.6         87111207   \n",
       "1386    1/10/2024         1,388         39.8         88224186   \n",
       "2457    1/10/2024         2,459         28.8        102829758   \n",
       "3007    1/12/2024         3,005         25.4         54062895   \n",
       "3205    1/10/2024         3,200         24.4         51365907   \n",
       "3407    1/10/2024         3,407         23.5         47098347   \n",
       "4301    1/12/2024         4,257         20.4        428233003   \n",
       "4453    1/12/2024         4,450         19.8         38445811   \n",
       "\n",
       "      Spotify Playlist Count  Spotify Playlist Reach  Spotify Popularity  \\\n",
       "86                     57311               144298748                90.0   \n",
       "656                    33551                52062674                81.0   \n",
       "1287                   20380                29657028                76.0   \n",
       "1386                   19035                10935183                78.0   \n",
       "2457                   16786                13717188                75.0   \n",
       "3007                   14363                 8542239                71.0   \n",
       "3205                   12559                 6817443                 8.0   \n",
       "3407                   15845                17899427                67.0   \n",
       "4301                    2814                  926379                67.0   \n",
       "4453                   12924                 1883136                11.0   \n",
       "\n",
       "      Year    Month  \n",
       "86    2024  January  \n",
       "656   2024  January  \n",
       "1287  2024  January  \n",
       "1386  2024  January  \n",
       "2457  2024  January  \n",
       "3007  2024  January  \n",
       "3205  2024  January  \n",
       "3407  2024  January  \n",
       "4301  2024  January  \n",
       "4453  2024  January  "
      ]
     },
     "execution_count": 30,
     "metadata": {},
     "output_type": "execute_result"
    }
   ],
   "source": [
    "spotify[spotify['Artist']=='21 Savage']"
   ]
  },
  {
   "cell_type": "markdown",
   "id": "d997fedf",
   "metadata": {
    "papermill": {
     "duration": 0.020415,
     "end_time": "2024-07-12T15:38:19.153865",
     "exception": false,
     "start_time": "2024-07-12T15:38:19.133450",
     "status": "completed"
    },
    "tags": []
   },
   "source": [
    "**This indicates that any single song released by any artist is classified by the Spotify platform as an album, and this is what happened because 21 Savage has an album consisting of 5 songs and the rest are single songs.**"
   ]
  },
  {
   "cell_type": "code",
   "execution_count": 31,
   "id": "ba306e1b",
   "metadata": {
    "execution": {
     "iopub.execute_input": "2024-07-12T15:38:19.197237Z",
     "iopub.status.busy": "2024-07-12T15:38:19.196417Z",
     "iopub.status.idle": "2024-07-12T15:38:19.214692Z",
     "shell.execute_reply": "2024-07-12T15:38:19.213773Z"
    },
    "papermill": {
     "duration": 0.042299,
     "end_time": "2024-07-12T15:38:19.216860",
     "exception": false,
     "start_time": "2024-07-12T15:38:19.174561",
     "status": "completed"
    },
    "tags": []
   },
   "outputs": [
    {
     "name": "stdout",
     "output_type": "stream",
     "text": [
      "Album with the Most Streams:\n"
     ]
    },
    {
     "data": {
      "text/html": [
       "<div>\n",
       "<style scoped>\n",
       "    .dataframe tbody tr th:only-of-type {\n",
       "        vertical-align: middle;\n",
       "    }\n",
       "\n",
       "    .dataframe tbody tr th {\n",
       "        vertical-align: top;\n",
       "    }\n",
       "\n",
       "    .dataframe thead th {\n",
       "        text-align: right;\n",
       "    }\n",
       "</style>\n",
       "<table border=\"1\" class=\"dataframe\">\n",
       "  <thead>\n",
       "    <tr style=\"text-align: right;\">\n",
       "      <th></th>\n",
       "      <th>Artist</th>\n",
       "      <th>Album Name</th>\n",
       "      <th>Month</th>\n",
       "      <th>Spotify Streams</th>\n",
       "    </tr>\n",
       "  </thead>\n",
       "  <tbody>\n",
       "    <tr>\n",
       "      <th>0</th>\n",
       "      <td>Linkin Park</td>\n",
       "      <td>Papercuts</td>\n",
       "      <td>April</td>\n",
       "      <td>6167890522</td>\n",
       "    </tr>\n",
       "    <tr>\n",
       "      <th>1</th>\n",
       "      <td>Taylor Swift</td>\n",
       "      <td>THE TORTURED POETS DEPARTMENT</td>\n",
       "      <td>April</td>\n",
       "      <td>3058241238</td>\n",
       "    </tr>\n",
       "    <tr>\n",
       "      <th>2</th>\n",
       "      <td>MUSIC LAB JPN</td>\n",
       "      <td>YOUGAKU MORIMORI CLUB MEDLEY</td>\n",
       "      <td>April</td>\n",
       "      <td>1655575417</td>\n",
       "    </tr>\n",
       "    <tr>\n",
       "      <th>3</th>\n",
       "      <td>MUSIC LAB JPN</td>\n",
       "      <td>GEKIATU BEST AGE SONG - CLUB SONG</td>\n",
       "      <td>May</td>\n",
       "      <td>1655575417</td>\n",
       "    </tr>\n",
       "    <tr>\n",
       "      <th>4</th>\n",
       "      <td>MUSIC LAB JPN</td>\n",
       "      <td>CLUB DE YOKUKIKU YOUGAKU MEDLEY</td>\n",
       "      <td>May</td>\n",
       "      <td>1655575417</td>\n",
       "    </tr>\n",
       "    <tr>\n",
       "      <th>5</th>\n",
       "      <td>MUSIC LAB JPN</td>\n",
       "      <td>ýýýýýýýýýýýýýýýýýýýýý - ýýýýýýýýýýýýýýýýýý -</td>\n",
       "      <td>June</td>\n",
       "      <td>1653018119</td>\n",
       "    </tr>\n",
       "    <tr>\n",
       "      <th>6</th>\n",
       "      <td>LOVE BGM JPN</td>\n",
       "      <td>ýýýýýýýýýýýýýýýýýýýýýýýýýýý ýýýýýýýýýýýýýýýýýý...</td>\n",
       "      <td>May</td>\n",
       "      <td>1645079292</td>\n",
       "    </tr>\n",
       "    <tr>\n",
       "      <th>7</th>\n",
       "      <td>Sabrina Carpenter</td>\n",
       "      <td>Espresso</td>\n",
       "      <td>April</td>\n",
       "      <td>1621855787</td>\n",
       "    </tr>\n",
       "    <tr>\n",
       "      <th>8</th>\n",
       "      <td>DJ Laxman</td>\n",
       "      <td>Calm Down Baby - Single</td>\n",
       "      <td>January</td>\n",
       "      <td>1389772733</td>\n",
       "    </tr>\n",
       "    <tr>\n",
       "      <th>9</th>\n",
       "      <td>Future</td>\n",
       "      <td>WE DON'T TRUST YOU</td>\n",
       "      <td>March</td>\n",
       "      <td>1327243308</td>\n",
       "    </tr>\n",
       "  </tbody>\n",
       "</table>\n",
       "</div>"
      ],
      "text/plain": [
       "              Artist                                         Album Name  \\\n",
       "0        Linkin Park                                          Papercuts   \n",
       "1       Taylor Swift                      THE TORTURED POETS DEPARTMENT   \n",
       "2      MUSIC LAB JPN                       YOUGAKU MORIMORI CLUB MEDLEY   \n",
       "3      MUSIC LAB JPN                  GEKIATU BEST AGE SONG - CLUB SONG   \n",
       "4      MUSIC LAB JPN                    CLUB DE YOKUKIKU YOUGAKU MEDLEY   \n",
       "5      MUSIC LAB JPN       ýýýýýýýýýýýýýýýýýýýýý - ýýýýýýýýýýýýýýýýýý -   \n",
       "6       LOVE BGM JPN  ýýýýýýýýýýýýýýýýýýýýýýýýýýý ýýýýýýýýýýýýýýýýýý...   \n",
       "7  Sabrina Carpenter                                           Espresso   \n",
       "8          DJ Laxman                            Calm Down Baby - Single   \n",
       "9             Future                                 WE DON'T TRUST YOU   \n",
       "\n",
       "     Month  Spotify Streams  \n",
       "0    April       6167890522  \n",
       "1    April       3058241238  \n",
       "2    April       1655575417  \n",
       "3      May       1655575417  \n",
       "4      May       1655575417  \n",
       "5     June       1653018119  \n",
       "6      May       1645079292  \n",
       "7    April       1621855787  \n",
       "8  January       1389772733  \n",
       "9    March       1327243308  "
      ]
     },
     "execution_count": 31,
     "metadata": {},
     "output_type": "execute_result"
    }
   ],
   "source": [
    "album_most_streams = (spotify.groupby(['Artist','Album Name','Month'])['Spotify Streams'].sum().reset_index(name='Spotify Streams').sort_values(by='Spotify Streams', ascending=False).head(10))\n",
    "album_most_streams=album_most_streams.reset_index(drop=True)\n",
    "print(\"Album with the Most Streams:\")\n",
    "album_most_streams"
   ]
  },
  {
   "cell_type": "code",
   "execution_count": 32,
   "id": "8eba8a15",
   "metadata": {
    "execution": {
     "iopub.execute_input": "2024-07-12T15:38:19.260094Z",
     "iopub.status.busy": "2024-07-12T15:38:19.259245Z",
     "iopub.status.idle": "2024-07-12T15:38:19.738635Z",
     "shell.execute_reply": "2024-07-12T15:38:19.737611Z"
    },
    "papermill": {
     "duration": 0.504558,
     "end_time": "2024-07-12T15:38:19.742146",
     "exception": false,
     "start_time": "2024-07-12T15:38:19.237588",
     "status": "completed"
    },
    "tags": []
   },
   "outputs": [
    {
     "data": {
      "image/png": "[encoded data removed]",
      "text/plain": [
       "<Figure size 1600x800 with 1 Axes>"
      ]
     },
     "metadata": {},
     "output_type": "display_data"
    }
   ],
   "source": [
    "plt.figure(figsize=(16, 8))\n",
    "artists = album_most_streams['Artist'].to_numpy()\n",
    "albums = album_most_streams['Album Name'].to_numpy()\n",
    "total_streams = album_most_streams['Spotify Streams'].to_numpy()\n",
    "sns.barplot(x=albums, y=total_streams) \n",
    "plt.xlabel('Album Name')\n",
    "plt.ylabel('Total Streams')\n",
    "plt.title('Top 10 Albums with Most Streams ')\n",
    "for i, (album, artist, streams) in enumerate(zip(albums, artists, total_streams)):\n",
    "    plt.text(i, streams + 50, f\"{artist}\", ha='center', va='bottom', fontsize=10, rotation=45)  \n",
    "plt.xticks(rotation=40,ha='right')  \n",
    "plt.tight_layout()\n",
    "plt.show()"
   ]
  },
  {
   "cell_type": "code",
   "execution_count": 33,
   "id": "ed8cf7fb",
   "metadata": {
    "execution": {
     "iopub.execute_input": "2024-07-12T15:38:19.792008Z",
     "iopub.status.busy": "2024-07-12T15:38:19.791042Z",
     "iopub.status.idle": "2024-07-12T15:38:19.806545Z",
     "shell.execute_reply": "2024-07-12T15:38:19.805631Z"
    },
    "papermill": {
     "duration": 0.042305,
     "end_time": "2024-07-12T15:38:19.808546",
     "exception": false,
     "start_time": "2024-07-12T15:38:19.766241",
     "status": "completed"
    },
    "tags": []
   },
   "outputs": [
    {
     "data": {
      "text/html": [
       "<div>\n",
       "<style scoped>\n",
       "    .dataframe tbody tr th:only-of-type {\n",
       "        vertical-align: middle;\n",
       "    }\n",
       "\n",
       "    .dataframe tbody tr th {\n",
       "        vertical-align: top;\n",
       "    }\n",
       "\n",
       "    .dataframe thead th {\n",
       "        text-align: right;\n",
       "    }\n",
       "</style>\n",
       "<table border=\"1\" class=\"dataframe\">\n",
       "  <thead>\n",
       "    <tr style=\"text-align: right;\">\n",
       "      <th></th>\n",
       "      <th>Track</th>\n",
       "      <th>Album Name</th>\n",
       "      <th>Artist</th>\n",
       "      <th>Release Date</th>\n",
       "      <th>All Time Rank</th>\n",
       "      <th>Track Score</th>\n",
       "      <th>Spotify Streams</th>\n",
       "      <th>Spotify Playlist Count</th>\n",
       "      <th>Spotify Playlist Reach</th>\n",
       "      <th>Spotify Popularity</th>\n",
       "      <th>Year</th>\n",
       "      <th>Month</th>\n",
       "    </tr>\n",
       "  </thead>\n",
       "  <tbody>\n",
       "    <tr>\n",
       "      <th>8</th>\n",
       "      <td>Danza Kuduro - Cover</td>\n",
       "      <td>ýýýýýýýýýýýýýýýýýýýýý - ýýýýýýýýýýýýýýýýýý -</td>\n",
       "      <td>MUSIC LAB JPN</td>\n",
       "      <td>6/9/2024</td>\n",
       "      <td>9</td>\n",
       "      <td>355.7</td>\n",
       "      <td>1653018119</td>\n",
       "      <td>1</td>\n",
       "      <td>15</td>\n",
       "      <td>92.0</td>\n",
       "      <td>2024</td>\n",
       "      <td>June</td>\n",
       "    </tr>\n",
       "    <tr>\n",
       "      <th>22</th>\n",
       "      <td>Danza Kuduro - Cover</td>\n",
       "      <td>CLUB DE YOKUKIKU YOUGAKU MEDLEY</td>\n",
       "      <td>MUSIC LAB JPN</td>\n",
       "      <td>5/21/2024</td>\n",
       "      <td>23</td>\n",
       "      <td>279.0</td>\n",
       "      <td>1655575417</td>\n",
       "      <td>10</td>\n",
       "      <td>655</td>\n",
       "      <td>95.0</td>\n",
       "      <td>2024</td>\n",
       "      <td>May</td>\n",
       "    </tr>\n",
       "    <tr>\n",
       "      <th>47</th>\n",
       "      <td>Danza Kuduro - Cover</td>\n",
       "      <td>GEKIATU BEST AGE SONG - CLUB SONG</td>\n",
       "      <td>MUSIC LAB JPN</td>\n",
       "      <td>5/2/2024</td>\n",
       "      <td>48</td>\n",
       "      <td>204.4</td>\n",
       "      <td>1655575417</td>\n",
       "      <td>9</td>\n",
       "      <td>85</td>\n",
       "      <td>83.0</td>\n",
       "      <td>2024</td>\n",
       "      <td>May</td>\n",
       "    </tr>\n",
       "    <tr>\n",
       "      <th>58</th>\n",
       "      <td>Danza Kuduro - Cover</td>\n",
       "      <td>YOUGAKU MORIMORI CLUB MEDLEY</td>\n",
       "      <td>MUSIC LAB JPN</td>\n",
       "      <td>4/29/2024</td>\n",
       "      <td>59</td>\n",
       "      <td>190.0</td>\n",
       "      <td>1655575417</td>\n",
       "      <td>1</td>\n",
       "      <td>3</td>\n",
       "      <td>86.0</td>\n",
       "      <td>2024</td>\n",
       "      <td>April</td>\n",
       "    </tr>\n",
       "  </tbody>\n",
       "</table>\n",
       "</div>"
      ],
      "text/plain": [
       "                   Track                                    Album Name  \\\n",
       "8   Danza Kuduro - Cover  ýýýýýýýýýýýýýýýýýýýýý - ýýýýýýýýýýýýýýýýýý -   \n",
       "22  Danza Kuduro - Cover               CLUB DE YOKUKIKU YOUGAKU MEDLEY   \n",
       "47  Danza Kuduro - Cover             GEKIATU BEST AGE SONG - CLUB SONG   \n",
       "58  Danza Kuduro - Cover                  YOUGAKU MORIMORI CLUB MEDLEY   \n",
       "\n",
       "           Artist Release Date All Time Rank  Track Score  Spotify Streams  \\\n",
       "8   MUSIC LAB JPN     6/9/2024             9        355.7       1653018119   \n",
       "22  MUSIC LAB JPN    5/21/2024            23        279.0       1655575417   \n",
       "47  MUSIC LAB JPN     5/2/2024            48        204.4       1655575417   \n",
       "58  MUSIC LAB JPN    4/29/2024            59        190.0       1655575417   \n",
       "\n",
       "    Spotify Playlist Count  Spotify Playlist Reach  Spotify Popularity  Year  \\\n",
       "8                        1                      15                92.0  2024   \n",
       "22                      10                     655                95.0  2024   \n",
       "47                       9                      85                83.0  2024   \n",
       "58                       1                       3                86.0  2024   \n",
       "\n",
       "    Month  \n",
       "8    June  \n",
       "22    May  \n",
       "47    May  \n",
       "58  April  "
      ]
     },
     "execution_count": 33,
     "metadata": {},
     "output_type": "execute_result"
    }
   ],
   "source": [
    "spotify[spotify['Artist']=='MUSIC LAB JPN']"
   ]
  },
  {
   "cell_type": "markdown",
   "id": "e9cc5254",
   "metadata": {
    "papermill": {
     "duration": 0.022496,
     "end_time": "2024-07-12T15:38:19.854099",
     "exception": false,
     "start_time": "2024-07-12T15:38:19.831603",
     "status": "completed"
    },
    "tags": []
   },
   "source": [
    "**The four single tracks were also made into four albums for MUSIC LAB JPN** "
   ]
  },
  {
   "cell_type": "code",
   "execution_count": 34,
   "id": "be58f0e8",
   "metadata": {
    "execution": {
     "iopub.execute_input": "2024-07-12T15:38:19.901222Z",
     "iopub.status.busy": "2024-07-12T15:38:19.900860Z",
     "iopub.status.idle": "2024-07-12T15:38:19.922199Z",
     "shell.execute_reply": "2024-07-12T15:38:19.921255Z"
    },
    "papermill": {
     "duration": 0.047208,
     "end_time": "2024-07-12T15:38:19.924229",
     "exception": false,
     "start_time": "2024-07-12T15:38:19.877021",
     "status": "completed"
    },
    "tags": []
   },
   "outputs": [
    {
     "name": "stdout",
     "output_type": "stream",
     "text": [
      "Artist with the Most Streams:\n"
     ]
    },
    {
     "data": {
      "text/html": [
       "<div>\n",
       "<style scoped>\n",
       "    .dataframe tbody tr th:only-of-type {\n",
       "        vertical-align: middle;\n",
       "    }\n",
       "\n",
       "    .dataframe tbody tr th {\n",
       "        vertical-align: top;\n",
       "    }\n",
       "\n",
       "    .dataframe thead th {\n",
       "        text-align: right;\n",
       "    }\n",
       "</style>\n",
       "<table border=\"1\" class=\"dataframe\">\n",
       "  <thead>\n",
       "    <tr style=\"text-align: right;\">\n",
       "      <th></th>\n",
       "      <th>Artist</th>\n",
       "      <th>Total_Streams</th>\n",
       "      <th>Track_Count</th>\n",
       "    </tr>\n",
       "  </thead>\n",
       "  <tbody>\n",
       "    <tr>\n",
       "      <th>0</th>\n",
       "      <td>MUSIC LAB JPN</td>\n",
       "      <td>6619744370</td>\n",
       "      <td>4</td>\n",
       "    </tr>\n",
       "    <tr>\n",
       "      <th>1</th>\n",
       "      <td>Linkin Park</td>\n",
       "      <td>6195495729</td>\n",
       "      <td>11</td>\n",
       "    </tr>\n",
       "    <tr>\n",
       "      <th>2</th>\n",
       "      <td>Taylor Swift</td>\n",
       "      <td>3545613606</td>\n",
       "      <td>24</td>\n",
       "    </tr>\n",
       "    <tr>\n",
       "      <th>3</th>\n",
       "      <td>Ariana Grande</td>\n",
       "      <td>2056932352</td>\n",
       "      <td>7</td>\n",
       "    </tr>\n",
       "    <tr>\n",
       "      <th>4</th>\n",
       "      <td>ati2x06</td>\n",
       "      <td>1812548791</td>\n",
       "      <td>2</td>\n",
       "    </tr>\n",
       "    <tr>\n",
       "      <th>5</th>\n",
       "      <td>Sabrina Carpenter</td>\n",
       "      <td>1681170228</td>\n",
       "      <td>4</td>\n",
       "    </tr>\n",
       "    <tr>\n",
       "      <th>6</th>\n",
       "      <td>LOVE BGM JPN</td>\n",
       "      <td>1645079292</td>\n",
       "      <td>1</td>\n",
       "    </tr>\n",
       "    <tr>\n",
       "      <th>7</th>\n",
       "      <td>21 Savage</td>\n",
       "      <td>1475807584</td>\n",
       "      <td>10</td>\n",
       "    </tr>\n",
       "    <tr>\n",
       "      <th>8</th>\n",
       "      <td>Future</td>\n",
       "      <td>1452788578</td>\n",
       "      <td>15</td>\n",
       "    </tr>\n",
       "    <tr>\n",
       "      <th>9</th>\n",
       "      <td>DJ Laxman</td>\n",
       "      <td>1389772733</td>\n",
       "      <td>1</td>\n",
       "    </tr>\n",
       "  </tbody>\n",
       "</table>\n",
       "</div>"
      ],
      "text/plain": [
       "              Artist  Total_Streams  Track_Count\n",
       "0      MUSIC LAB JPN     6619744370            4\n",
       "1        Linkin Park     6195495729           11\n",
       "2       Taylor Swift     3545613606           24\n",
       "3      Ariana Grande     2056932352            7\n",
       "4            ati2x06     1812548791            2\n",
       "5  Sabrina Carpenter     1681170228            4\n",
       "6       LOVE BGM JPN     1645079292            1\n",
       "7          21 Savage     1475807584           10\n",
       "8             Future     1452788578           15\n",
       "9          DJ Laxman     1389772733            1"
      ]
     },
     "execution_count": 34,
     "metadata": {},
     "output_type": "execute_result"
    }
   ],
   "source": [
    "artist_most_streams = (spotify.groupby(['Artist'])\n",
    "                       .agg(Total_Streams=('Spotify Streams', 'sum'), Track_Count=('Track', 'count'))\n",
    "                       .reset_index()\n",
    "                       .sort_values(by='Total_Streams', ascending=False).head(10))\n",
    "artist_most_streams=artist_most_streams.reset_index(drop=True)\n",
    "print(\"Artist with the Most Streams:\")\n",
    "artist_most_streams"
   ]
  },
  {
   "cell_type": "code",
   "execution_count": 35,
   "id": "64ea672a",
   "metadata": {
    "execution": {
     "iopub.execute_input": "2024-07-12T15:38:19.972089Z",
     "iopub.status.busy": "2024-07-12T15:38:19.971736Z",
     "iopub.status.idle": "2024-07-12T15:38:20.818993Z",
     "shell.execute_reply": "2024-07-12T15:38:20.817710Z"
    },
    "papermill": {
     "duration": 0.874174,
     "end_time": "2024-07-12T15:38:20.821629",
     "exception": false,
     "start_time": "2024-07-12T15:38:19.947455",
     "status": "completed"
    },
    "tags": []
   },
   "outputs": [
    {
     "data": {
      "image/png": "[encoded data removed]",
      "text/plain": [
       "<Figure size 640x480 with 1 Axes>"
      ]
     },
     "metadata": {},
     "output_type": "display_data"
    }
   ],
   "source": [
    "sns.barplot(x='Artist', y='Total_Streams', hue='Track_Count', data=artist_most_streams)\n",
    "plt.title('Top 10 Artists Most Streams and Track Count ')\n",
    "plt.xticks(rotation=40, ha='right') \n",
    "plt.tight_layout()\n",
    "plt.show()"
   ]
  },
  {
   "cell_type": "code",
   "execution_count": 36,
   "id": "c0342190",
   "metadata": {
    "execution": {
     "iopub.execute_input": "2024-07-12T15:38:20.877390Z",
     "iopub.status.busy": "2024-07-12T15:38:20.877018Z",
     "iopub.status.idle": "2024-07-12T15:38:20.896926Z",
     "shell.execute_reply": "2024-07-12T15:38:20.896028Z"
    },
    "papermill": {
     "duration": 0.047003,
     "end_time": "2024-07-12T15:38:20.899014",
     "exception": false,
     "start_time": "2024-07-12T15:38:20.852011",
     "status": "completed"
    },
    "tags": []
   },
   "outputs": [
    {
     "data": {
      "text/html": [
       "<div>\n",
       "<style scoped>\n",
       "    .dataframe tbody tr th:only-of-type {\n",
       "        vertical-align: middle;\n",
       "    }\n",
       "\n",
       "    .dataframe tbody tr th {\n",
       "        vertical-align: top;\n",
       "    }\n",
       "\n",
       "    .dataframe thead th {\n",
       "        text-align: right;\n",
       "    }\n",
       "</style>\n",
       "<table border=\"1\" class=\"dataframe\">\n",
       "  <thead>\n",
       "    <tr style=\"text-align: right;\">\n",
       "      <th></th>\n",
       "      <th>Artist</th>\n",
       "      <th>Track</th>\n",
       "      <th>Release Date</th>\n",
       "      <th>Album Name</th>\n",
       "      <th>Spotify Playlist Count</th>\n",
       "      <th>Spotify Playlist Reach</th>\n",
       "      <th>Spotify Streams</th>\n",
       "    </tr>\n",
       "  </thead>\n",
       "  <tbody>\n",
       "    <tr>\n",
       "      <th>0</th>\n",
       "      <td>Linkin Park</td>\n",
       "      <td>In the End</td>\n",
       "      <td>4/12/2024</td>\n",
       "      <td>Papercuts</td>\n",
       "      <td>97</td>\n",
       "      <td>488602</td>\n",
       "      <td>2045512421</td>\n",
       "    </tr>\n",
       "    <tr>\n",
       "      <th>1</th>\n",
       "      <td>MUSIC LAB JPN</td>\n",
       "      <td>Danza Kuduro - Cover</td>\n",
       "      <td>5/21/2024</td>\n",
       "      <td>CLUB DE YOKUKIKU YOUGAKU MEDLEY</td>\n",
       "      <td>10</td>\n",
       "      <td>655</td>\n",
       "      <td>1655575417</td>\n",
       "    </tr>\n",
       "    <tr>\n",
       "      <th>2</th>\n",
       "      <td>MUSIC LAB JPN</td>\n",
       "      <td>Danza Kuduro - Cover</td>\n",
       "      <td>5/2/2024</td>\n",
       "      <td>GEKIATU BEST AGE SONG - CLUB SONG</td>\n",
       "      <td>9</td>\n",
       "      <td>85</td>\n",
       "      <td>1655575417</td>\n",
       "    </tr>\n",
       "    <tr>\n",
       "      <th>3</th>\n",
       "      <td>MUSIC LAB JPN</td>\n",
       "      <td>Danza Kuduro - Cover</td>\n",
       "      <td>4/29/2024</td>\n",
       "      <td>YOUGAKU MORIMORI CLUB MEDLEY</td>\n",
       "      <td>1</td>\n",
       "      <td>3</td>\n",
       "      <td>1655575417</td>\n",
       "    </tr>\n",
       "    <tr>\n",
       "      <th>4</th>\n",
       "      <td>MUSIC LAB JPN</td>\n",
       "      <td>Danza Kuduro - Cover</td>\n",
       "      <td>6/9/2024</td>\n",
       "      <td>ýýýýýýýýýýýýýýýýýýýýý - ýýýýýýýýýýýýýýýýýý -</td>\n",
       "      <td>1</td>\n",
       "      <td>15</td>\n",
       "      <td>1653018119</td>\n",
       "    </tr>\n",
       "    <tr>\n",
       "      <th>5</th>\n",
       "      <td>LOVE BGM JPN</td>\n",
       "      <td>Danza Kuduro - Cover</td>\n",
       "      <td>5/14/2024</td>\n",
       "      <td>ýýýýýýýýýýýýýýýýýýýýýýýýýýý ýýýýýýýýýýýýýýýýýý...</td>\n",
       "      <td>0</td>\n",
       "      <td>0</td>\n",
       "      <td>1645079292</td>\n",
       "    </tr>\n",
       "    <tr>\n",
       "      <th>6</th>\n",
       "      <td>DJ Laxman</td>\n",
       "      <td>Calm Down Baby</td>\n",
       "      <td>1/12/2024</td>\n",
       "      <td>Calm Down Baby - Single</td>\n",
       "      <td>1</td>\n",
       "      <td>1</td>\n",
       "      <td>1389772733</td>\n",
       "    </tr>\n",
       "    <tr>\n",
       "      <th>7</th>\n",
       "      <td>Ben King</td>\n",
       "      <td>Stand by Me</td>\n",
       "      <td>1/5/2024</td>\n",
       "      <td>Don't Play That Song</td>\n",
       "      <td>1</td>\n",
       "      <td>3</td>\n",
       "      <td>1094052047</td>\n",
       "    </tr>\n",
       "    <tr>\n",
       "      <th>8</th>\n",
       "      <td>JAY-Z</td>\n",
       "      <td>Numb / Encore</td>\n",
       "      <td>4/12/2024</td>\n",
       "      <td>Papercuts</td>\n",
       "      <td>128</td>\n",
       "      <td>485454</td>\n",
       "      <td>1003215671</td>\n",
       "    </tr>\n",
       "    <tr>\n",
       "      <th>9</th>\n",
       "      <td>ati2x06</td>\n",
       "      <td>Lalala</td>\n",
       "      <td>1/17/2024</td>\n",
       "      <td>Lalala - Single</td>\n",
       "      <td>1</td>\n",
       "      <td>124</td>\n",
       "      <td>966112900</td>\n",
       "    </tr>\n",
       "  </tbody>\n",
       "</table>\n",
       "</div>"
      ],
      "text/plain": [
       "          Artist                 Track Release Date  \\\n",
       "0    Linkin Park            In the End    4/12/2024   \n",
       "1  MUSIC LAB JPN  Danza Kuduro - Cover    5/21/2024   \n",
       "2  MUSIC LAB JPN  Danza Kuduro - Cover     5/2/2024   \n",
       "3  MUSIC LAB JPN  Danza Kuduro - Cover    4/29/2024   \n",
       "4  MUSIC LAB JPN  Danza Kuduro - Cover     6/9/2024   \n",
       "5   LOVE BGM JPN  Danza Kuduro - Cover    5/14/2024   \n",
       "6      DJ Laxman        Calm Down Baby    1/12/2024   \n",
       "7       Ben King           Stand by Me     1/5/2024   \n",
       "8          JAY-Z         Numb / Encore    4/12/2024   \n",
       "9        ati2x06                Lalala    1/17/2024   \n",
       "\n",
       "                                          Album Name  Spotify Playlist Count  \\\n",
       "0                                          Papercuts                      97   \n",
       "1                    CLUB DE YOKUKIKU YOUGAKU MEDLEY                      10   \n",
       "2                  GEKIATU BEST AGE SONG - CLUB SONG                       9   \n",
       "3                       YOUGAKU MORIMORI CLUB MEDLEY                       1   \n",
       "4       ýýýýýýýýýýýýýýýýýýýýý - ýýýýýýýýýýýýýýýýýý -                       1   \n",
       "5  ýýýýýýýýýýýýýýýýýýýýýýýýýýý ýýýýýýýýýýýýýýýýýý...                       0   \n",
       "6                            Calm Down Baby - Single                       1   \n",
       "7                               Don't Play That Song                       1   \n",
       "8                                          Papercuts                     128   \n",
       "9                                    Lalala - Single                       1   \n",
       "\n",
       "   Spotify Playlist Reach  Spotify Streams  \n",
       "0                  488602       2045512421  \n",
       "1                     655       1655575417  \n",
       "2                      85       1655575417  \n",
       "3                       3       1655575417  \n",
       "4                      15       1653018119  \n",
       "5                       0       1645079292  \n",
       "6                       1       1389772733  \n",
       "7                       3       1094052047  \n",
       "8                  485454       1003215671  \n",
       "9                     124        966112900  "
      ]
     },
     "execution_count": 36,
     "metadata": {},
     "output_type": "execute_result"
    }
   ],
   "source": [
    "track_most_streams = (spotify.groupby(['Artist', 'Track','Release Date','Album Name','Spotify Playlist Count','Spotify Playlist Reach'])['Spotify Streams'].sum().sort_values(ascending=False).reset_index().head(10) )\n",
    "track_most_streams"
   ]
  },
  {
   "cell_type": "code",
   "execution_count": 37,
   "id": "3db22d7c",
   "metadata": {
    "execution": {
     "iopub.execute_input": "2024-07-12T15:38:20.950228Z",
     "iopub.status.busy": "2024-07-12T15:38:20.949208Z",
     "iopub.status.idle": "2024-07-12T15:38:21.198079Z",
     "shell.execute_reply": "2024-07-12T15:38:21.196921Z"
    },
    "papermill": {
     "duration": 0.277506,
     "end_time": "2024-07-12T15:38:21.201137",
     "exception": false,
     "start_time": "2024-07-12T15:38:20.923631",
     "status": "completed"
    },
    "tags": []
   },
   "outputs": [
    {
     "data": {
      "image/png": "[encoded data removed]",
      "text/plain": [
       "<Figure size 800x800 with 1 Axes>"
      ]
     },
     "metadata": {},
     "output_type": "display_data"
    }
   ],
   "source": [
    "track_titles = track_most_streams['Track'] + ' - ' + track_most_streams['Artist'] \n",
    "total_streams = track_most_streams['Spotify Streams'].to_numpy()\n",
    "\n",
    "\n",
    "plt.figure(figsize=(8, 8))\n",
    "plt.pie(total_streams, labels=track_titles, autopct='%1.1f%%', startangle=90,counterclock=True) \n",
    "plt.title('Top 10 Tracks by Total Streams ')\n",
    "plt.axis('equal')  \n",
    "plt.tight_layout()\n",
    "plt.show()"
   ]
  },
  {
   "cell_type": "code",
   "execution_count": 38,
   "id": "7d7137ba",
   "metadata": {
    "execution": {
     "iopub.execute_input": "2024-07-12T15:38:21.264768Z",
     "iopub.status.busy": "2024-07-12T15:38:21.264360Z",
     "iopub.status.idle": "2024-07-12T15:38:21.271234Z",
     "shell.execute_reply": "2024-07-12T15:38:21.269991Z"
    },
    "papermill": {
     "duration": 0.037201,
     "end_time": "2024-07-12T15:38:21.273846",
     "exception": false,
     "start_time": "2024-07-12T15:38:21.236645",
     "status": "completed"
    },
    "tags": []
   },
   "outputs": [
    {
     "name": "stdout",
     "output_type": "stream",
     "text": [
      "The Track Has Most Streams In 2024 In the End for Linkin Park\n"
     ]
    }
   ],
   "source": [
    "print('The Track Has Most Streams In 2024',track_most_streams.iloc[0][1],'for',track_most_streams.iloc[0][0])"
   ]
  },
  {
   "cell_type": "code",
   "execution_count": 39,
   "id": "72aa33a2",
   "metadata": {
    "execution": {
     "iopub.execute_input": "2024-07-12T15:38:21.329606Z",
     "iopub.status.busy": "2024-07-12T15:38:21.328907Z",
     "iopub.status.idle": "2024-07-12T15:38:21.344928Z",
     "shell.execute_reply": "2024-07-12T15:38:21.344035Z"
    },
    "papermill": {
     "duration": 0.045305,
     "end_time": "2024-07-12T15:38:21.347039",
     "exception": false,
     "start_time": "2024-07-12T15:38:21.301734",
     "status": "completed"
    },
    "tags": []
   },
   "outputs": [
    {
     "name": "stdout",
     "output_type": "stream",
     "text": [
      "Months with Most Streamed Tracks:\n",
      "      Month  Track_Count  Total_Streams\n",
      "0     April          163    21520352067\n",
      "4     March          133    12636728962\n",
      "2   January           72    12244841947\n",
      "1  February          104    10230772197\n",
      "5       May          171    10053478538\n",
      "3      June           45     2711085351\n",
      "Spotify has released 688 tracks as of June 9 \n"
     ]
    }
   ],
   "source": [
    "month_most_streams = (\n",
    "    spotify.groupby('Month')\n",
    "    .agg(Track_Count=('Track', 'count'), Total_Streams=('Spotify Streams', 'sum'))\n",
    "    .reset_index()\n",
    "    .sort_values(by='Total_Streams', ascending=False)\n",
    ")\n",
    "\n",
    "print(\"Months with Most Streamed Tracks:\")\n",
    "print(month_most_streams)\n",
    "print('Spotify has released', month_most_streams.sum().iloc[1],'tracks as of June 9 ')"
   ]
  },
  {
   "cell_type": "code",
   "execution_count": 40,
   "id": "ee80d3e9",
   "metadata": {
    "execution": {
     "iopub.execute_input": "2024-07-12T15:38:21.399557Z",
     "iopub.status.busy": "2024-07-12T15:38:21.399157Z",
     "iopub.status.idle": "2024-07-12T15:38:21.967644Z",
     "shell.execute_reply": "2024-07-12T15:38:21.966714Z"
    },
    "papermill": {
     "duration": 0.597573,
     "end_time": "2024-07-12T15:38:21.970179",
     "exception": false,
     "start_time": "2024-07-12T15:38:21.372606",
     "status": "completed"
    },
    "tags": []
   },
   "outputs": [
    {
     "data": {
      "image/png": "[encoded data removed]",
      "text/plain": [
       "<Figure size 640x480 with 1 Axes>"
      ]
     },
     "metadata": {},
     "output_type": "display_data"
    }
   ],
   "source": [
    "sns.barplot(x='Month', y='Total_Streams',hue = 'Track_Count', data=month_most_streams, dodge=True)\n",
    "plt.xlabel('Month')\n",
    "plt.ylabel('Total Spotify Streams')\n",
    "plt.title('Top Months with Most Streamed Tracks')\n",
    "plt.xticks(rotation=40)  \n",
    "plt.tight_layout()\n",
    "plt.show()"
   ]
  },
  {
   "cell_type": "code",
   "execution_count": 41,
   "id": "febada44",
   "metadata": {
    "execution": {
     "iopub.execute_input": "2024-07-12T15:38:22.024331Z",
     "iopub.status.busy": "2024-07-12T15:38:22.023966Z",
     "iopub.status.idle": "2024-07-12T15:38:22.042402Z",
     "shell.execute_reply": "2024-07-12T15:38:22.041472Z"
    },
    "papermill": {
     "duration": 0.047789,
     "end_time": "2024-07-12T15:38:22.044515",
     "exception": false,
     "start_time": "2024-07-12T15:38:21.996726",
     "status": "completed"
    },
    "tags": []
   },
   "outputs": [
    {
     "data": {
      "text/html": [
       "<div>\n",
       "<style scoped>\n",
       "    .dataframe tbody tr th:only-of-type {\n",
       "        vertical-align: middle;\n",
       "    }\n",
       "\n",
       "    .dataframe tbody tr th {\n",
       "        vertical-align: top;\n",
       "    }\n",
       "\n",
       "    .dataframe thead th {\n",
       "        text-align: right;\n",
       "    }\n",
       "</style>\n",
       "<table border=\"1\" class=\"dataframe\">\n",
       "  <thead>\n",
       "    <tr style=\"text-align: right;\">\n",
       "      <th></th>\n",
       "      <th>Artist</th>\n",
       "      <th>Track</th>\n",
       "      <th>Release Date</th>\n",
       "      <th>Album Name</th>\n",
       "      <th>Spotify Streams</th>\n",
       "      <th>Spotify Playlist Count</th>\n",
       "    </tr>\n",
       "  </thead>\n",
       "  <tbody>\n",
       "    <tr>\n",
       "      <th>0</th>\n",
       "      <td>Benson Boone</td>\n",
       "      <td>Beautiful Things</td>\n",
       "      <td>1/18/2024</td>\n",
       "      <td>Beautiful Things</td>\n",
       "      <td>900158751</td>\n",
       "      <td>73118</td>\n",
       "    </tr>\n",
       "    <tr>\n",
       "      <th>1</th>\n",
       "      <td>21 Savage</td>\n",
       "      <td>redrum</td>\n",
       "      <td>1/12/2024</td>\n",
       "      <td>american dream</td>\n",
       "      <td>428233003</td>\n",
       "      <td>60125</td>\n",
       "    </tr>\n",
       "    <tr>\n",
       "      <th>2</th>\n",
       "      <td>Artemas</td>\n",
       "      <td>i like the way you kiss me</td>\n",
       "      <td>3/19/2024</td>\n",
       "      <td>I like the way you kiss me</td>\n",
       "      <td>601309283</td>\n",
       "      <td>54331</td>\n",
       "    </tr>\n",
       "    <tr>\n",
       "      <th>3</th>\n",
       "      <td>ýý$</td>\n",
       "      <td>CARNIVAL</td>\n",
       "      <td>2/8/2024</td>\n",
       "      <td>CARNIVAL</td>\n",
       "      <td>466887055</td>\n",
       "      <td>53842</td>\n",
       "    </tr>\n",
       "    <tr>\n",
       "      <th>4</th>\n",
       "      <td>Hozier</td>\n",
       "      <td>Too Sweet</td>\n",
       "      <td>3/22/2024</td>\n",
       "      <td>Unreal Unearth: Unheard</td>\n",
       "      <td>532012790</td>\n",
       "      <td>45953</td>\n",
       "    </tr>\n",
       "    <tr>\n",
       "      <th>5</th>\n",
       "      <td>Future</td>\n",
       "      <td>Like That</td>\n",
       "      <td>3/22/2024</td>\n",
       "      <td>WE DON'T TRUST YOU</td>\n",
       "      <td>355186436</td>\n",
       "      <td>43025</td>\n",
       "    </tr>\n",
       "    <tr>\n",
       "      <th>6</th>\n",
       "      <td>FloyyMenor</td>\n",
       "      <td>Gata Only</td>\n",
       "      <td>2/2/2024</td>\n",
       "      <td>Gata Only</td>\n",
       "      <td>675079153</td>\n",
       "      <td>40094</td>\n",
       "    </tr>\n",
       "    <tr>\n",
       "      <th>7</th>\n",
       "      <td>Beyoncï¿</td>\n",
       "      <td>TEXAS HOLD 'EM</td>\n",
       "      <td>2/10/2024</td>\n",
       "      <td>TEXAS HOLD 'EM</td>\n",
       "      <td>426700979</td>\n",
       "      <td>34044</td>\n",
       "    </tr>\n",
       "    <tr>\n",
       "      <th>8</th>\n",
       "      <td>21 Savage</td>\n",
       "      <td>nï¿½ï¿½e</td>\n",
       "      <td>1/10/2024</td>\n",
       "      <td>nï¿½ï¿½e</td>\n",
       "      <td>150203467</td>\n",
       "      <td>33551</td>\n",
       "    </tr>\n",
       "    <tr>\n",
       "      <th>9</th>\n",
       "      <td>Tommy Richman</td>\n",
       "      <td>MILLION DOLLAR BABY</td>\n",
       "      <td>4/26/2024</td>\n",
       "      <td>Million Dollar Baby - Single</td>\n",
       "      <td>390470936</td>\n",
       "      <td>30716</td>\n",
       "    </tr>\n",
       "  </tbody>\n",
       "</table>\n",
       "</div>"
      ],
      "text/plain": [
       "          Artist                       Track Release Date  \\\n",
       "0   Benson Boone            Beautiful Things    1/18/2024   \n",
       "1      21 Savage                      redrum    1/12/2024   \n",
       "2        Artemas  i like the way you kiss me    3/19/2024   \n",
       "3            ýý$                    CARNIVAL     2/8/2024   \n",
       "4         Hozier                   Too Sweet    3/22/2024   \n",
       "5         Future                   Like That    3/22/2024   \n",
       "6     FloyyMenor                   Gata Only     2/2/2024   \n",
       "7       Beyoncï¿              TEXAS HOLD 'EM    2/10/2024   \n",
       "8      21 Savage                    nï¿½ï¿½e    1/10/2024   \n",
       "9  Tommy Richman         MILLION DOLLAR BABY    4/26/2024   \n",
       "\n",
       "                     Album Name  Spotify Streams  Spotify Playlist Count  \n",
       "0              Beautiful Things        900158751                   73118  \n",
       "1                american dream        428233003                   60125  \n",
       "2    I like the way you kiss me        601309283                   54331  \n",
       "3                      CARNIVAL        466887055                   53842  \n",
       "4       Unreal Unearth: Unheard        532012790                   45953  \n",
       "5            WE DON'T TRUST YOU        355186436                   43025  \n",
       "6                     Gata Only        675079153                   40094  \n",
       "7                TEXAS HOLD 'EM        426700979                   34044  \n",
       "8                      nï¿½ï¿½e        150203467                   33551  \n",
       "9  Million Dollar Baby - Single        390470936                   30716  "
      ]
     },
     "execution_count": 41,
     "metadata": {},
     "output_type": "execute_result"
    }
   ],
   "source": [
    "track_most_playlist_count = (spotify.groupby(['Artist', 'Track','Release Date','Album Name','Spotify Streams'])['Spotify Playlist Count'].sum().sort_values(ascending=False).reset_index().head(10) )\n",
    "track_most_playlist_count"
   ]
  },
  {
   "cell_type": "code",
   "execution_count": 42,
   "id": "f4aa1897",
   "metadata": {
    "execution": {
     "iopub.execute_input": "2024-07-12T15:38:22.099180Z",
     "iopub.status.busy": "2024-07-12T15:38:22.098822Z",
     "iopub.status.idle": "2024-07-12T15:38:22.117943Z",
     "shell.execute_reply": "2024-07-12T15:38:22.116923Z"
    },
    "papermill": {
     "duration": 0.048943,
     "end_time": "2024-07-12T15:38:22.119926",
     "exception": false,
     "start_time": "2024-07-12T15:38:22.070983",
     "status": "completed"
    },
    "tags": []
   },
   "outputs": [
    {
     "data": {
      "text/html": [
       "<div>\n",
       "<style scoped>\n",
       "    .dataframe tbody tr th:only-of-type {\n",
       "        vertical-align: middle;\n",
       "    }\n",
       "\n",
       "    .dataframe tbody tr th {\n",
       "        vertical-align: top;\n",
       "    }\n",
       "\n",
       "    .dataframe thead th {\n",
       "        text-align: right;\n",
       "    }\n",
       "</style>\n",
       "<table border=\"1\" class=\"dataframe\">\n",
       "  <thead>\n",
       "    <tr style=\"text-align: right;\">\n",
       "      <th></th>\n",
       "      <th>Artist</th>\n",
       "      <th>Track</th>\n",
       "      <th>Release Date</th>\n",
       "      <th>Album Name</th>\n",
       "      <th>Spotify Streams</th>\n",
       "      <th>Spotify Playlist Reach</th>\n",
       "    </tr>\n",
       "  </thead>\n",
       "  <tbody>\n",
       "    <tr>\n",
       "      <th>0</th>\n",
       "      <td>Sabrina Carpenter</td>\n",
       "      <td>Espresso</td>\n",
       "      <td>4/12/2024</td>\n",
       "      <td>Espresso</td>\n",
       "      <td>547882871</td>\n",
       "      <td>262343414</td>\n",
       "    </tr>\n",
       "    <tr>\n",
       "      <th>1</th>\n",
       "      <td>Artemas</td>\n",
       "      <td>i like the way you kiss me</td>\n",
       "      <td>3/19/2024</td>\n",
       "      <td>I like the way you kiss me</td>\n",
       "      <td>601309283</td>\n",
       "      <td>211607669</td>\n",
       "    </tr>\n",
       "    <tr>\n",
       "      <th>2</th>\n",
       "      <td>FloyyMenor</td>\n",
       "      <td>Gata Only</td>\n",
       "      <td>2/2/2024</td>\n",
       "      <td>Gata Only</td>\n",
       "      <td>675079153</td>\n",
       "      <td>211236940</td>\n",
       "    </tr>\n",
       "    <tr>\n",
       "      <th>3</th>\n",
       "      <td>Billie Eilish</td>\n",
       "      <td>BIRDS OF A FEATHER</td>\n",
       "      <td>5/17/2024</td>\n",
       "      <td>HIT ME HARD AND SOFT</td>\n",
       "      <td>214237645</td>\n",
       "      <td>202626837</td>\n",
       "    </tr>\n",
       "    <tr>\n",
       "      <th>4</th>\n",
       "      <td>Benson Boone</td>\n",
       "      <td>Beautiful Things</td>\n",
       "      <td>1/18/2024</td>\n",
       "      <td>Beautiful Things</td>\n",
       "      <td>900158751</td>\n",
       "      <td>201585714</td>\n",
       "    </tr>\n",
       "    <tr>\n",
       "      <th>5</th>\n",
       "      <td>Hozier</td>\n",
       "      <td>Too Sweet</td>\n",
       "      <td>3/22/2024</td>\n",
       "      <td>Unreal Unearth: Unheard</td>\n",
       "      <td>532012790</td>\n",
       "      <td>198241377</td>\n",
       "    </tr>\n",
       "    <tr>\n",
       "      <th>6</th>\n",
       "      <td>Ariana Grande</td>\n",
       "      <td>we can't be friends (wait for your love)</td>\n",
       "      <td>3/8/2024</td>\n",
       "      <td>eternal sunshine</td>\n",
       "      <td>591068364</td>\n",
       "      <td>197494995</td>\n",
       "    </tr>\n",
       "    <tr>\n",
       "      <th>7</th>\n",
       "      <td>Billie Eilish</td>\n",
       "      <td>LUNCH</td>\n",
       "      <td>5/17/2024</td>\n",
       "      <td>HIT ME HARD AND SOFT</td>\n",
       "      <td>221636195</td>\n",
       "      <td>197280692</td>\n",
       "    </tr>\n",
       "    <tr>\n",
       "      <th>8</th>\n",
       "      <td>Tommy Richman</td>\n",
       "      <td>MILLION DOLLAR BABY</td>\n",
       "      <td>4/26/2024</td>\n",
       "      <td>Million Dollar Baby - Single</td>\n",
       "      <td>390470936</td>\n",
       "      <td>196631588</td>\n",
       "    </tr>\n",
       "    <tr>\n",
       "      <th>9</th>\n",
       "      <td>Shaboozey</td>\n",
       "      <td>A Bar Song (Tipsy)</td>\n",
       "      <td>4/12/2024</td>\n",
       "      <td>A Bar Song (Tipsy)</td>\n",
       "      <td>311928522</td>\n",
       "      <td>184685163</td>\n",
       "    </tr>\n",
       "  </tbody>\n",
       "</table>\n",
       "</div>"
      ],
      "text/plain": [
       "              Artist                                     Track Release Date  \\\n",
       "0  Sabrina Carpenter                                  Espresso    4/12/2024   \n",
       "1            Artemas                i like the way you kiss me    3/19/2024   \n",
       "2         FloyyMenor                                 Gata Only     2/2/2024   \n",
       "3      Billie Eilish                        BIRDS OF A FEATHER    5/17/2024   \n",
       "4       Benson Boone                          Beautiful Things    1/18/2024   \n",
       "5             Hozier                                 Too Sweet    3/22/2024   \n",
       "6      Ariana Grande  we can't be friends (wait for your love)     3/8/2024   \n",
       "7      Billie Eilish                                     LUNCH    5/17/2024   \n",
       "8      Tommy Richman                       MILLION DOLLAR BABY    4/26/2024   \n",
       "9          Shaboozey                        A Bar Song (Tipsy)    4/12/2024   \n",
       "\n",
       "                     Album Name  Spotify Streams  Spotify Playlist Reach  \n",
       "0                      Espresso        547882871               262343414  \n",
       "1    I like the way you kiss me        601309283               211607669  \n",
       "2                     Gata Only        675079153               211236940  \n",
       "3          HIT ME HARD AND SOFT        214237645               202626837  \n",
       "4              Beautiful Things        900158751               201585714  \n",
       "5       Unreal Unearth: Unheard        532012790               198241377  \n",
       "6              eternal sunshine        591068364               197494995  \n",
       "7          HIT ME HARD AND SOFT        221636195               197280692  \n",
       "8  Million Dollar Baby - Single        390470936               196631588  \n",
       "9            A Bar Song (Tipsy)        311928522               184685163  "
      ]
     },
     "execution_count": 42,
     "metadata": {},
     "output_type": "execute_result"
    }
   ],
   "source": [
    "track_most_playlist_reach = (spotify.groupby(['Artist', 'Track','Release Date','Album Name','Spotify Streams'])['Spotify Playlist Reach'].sum().sort_values(ascending=False).reset_index().head(10) )\n",
    "track_most_playlist_reach"
   ]
  },
  {
   "cell_type": "code",
   "execution_count": 43,
   "id": "0fcfcce4",
   "metadata": {
    "execution": {
     "iopub.execute_input": "2024-07-12T15:38:22.174879Z",
     "iopub.status.busy": "2024-07-12T15:38:22.174516Z",
     "iopub.status.idle": "2024-07-12T15:38:22.183630Z",
     "shell.execute_reply": "2024-07-12T15:38:22.182462Z"
    },
    "papermill": {
     "duration": 0.039192,
     "end_time": "2024-07-12T15:38:22.185749",
     "exception": false,
     "start_time": "2024-07-12T15:38:22.146557",
     "status": "completed"
    },
    "tags": []
   },
   "outputs": [
    {
     "name": "stdout",
     "output_type": "stream",
     "text": [
      "Variance of Spotify Streams: 4.65813842211863e+16\n",
      "Variance of Spotify Playlist Count: 50139288.49550626\n",
      "0.2203913519279487\n"
     ]
    }
   ],
   "source": [
    "correlation = spotify['Spotify Streams'].corr(spotify['Spotify Playlist Count'])\n",
    "stream_variance = spotify['Spotify Streams'].var()\n",
    "playlist_variance = spotify['Spotify Playlist Count'].var()\n",
    "print(\"Variance of Spotify Streams:\", stream_variance)\n",
    "print(\"Variance of Spotify Playlist Count:\", playlist_variance)\n",
    "print(correlation)"
   ]
  },
  {
   "cell_type": "code",
   "execution_count": 44,
   "id": "db9265f9",
   "metadata": {
    "execution": {
     "iopub.execute_input": "2024-07-12T15:38:22.241545Z",
     "iopub.status.busy": "2024-07-12T15:38:22.240806Z",
     "iopub.status.idle": "2024-07-12T15:38:22.519795Z",
     "shell.execute_reply": "2024-07-12T15:38:22.518642Z"
    },
    "papermill": {
     "duration": 0.309192,
     "end_time": "2024-07-12T15:38:22.521968",
     "exception": false,
     "start_time": "2024-07-12T15:38:22.212776",
     "status": "completed"
    },
    "tags": []
   },
   "outputs": [
    {
     "data": {
      "image/png": "[encoded data removed]",
      "text/plain": [
       "<Figure size 1200x600 with 1 Axes>"
      ]
     },
     "metadata": {},
     "output_type": "display_data"
    }
   ],
   "source": [
    "plt.figure(figsize=(12, 6))\n",
    "plt.scatter(spotify['Spotify Streams'], spotify['Spotify Playlist Count'])\n",
    "plt.xlabel('Spotify Streams')\n",
    "plt.ylabel('Spotify Playlist Count')\n",
    "plt.title('Spotify Streams vs. Spotify Playlist Count ')\n",
    "plt.tight_layout()\n",
    "plt.show()"
   ]
  },
  {
   "cell_type": "code",
   "execution_count": 45,
   "id": "58449293",
   "metadata": {
    "execution": {
     "iopub.execute_input": "2024-07-12T15:38:22.578510Z",
     "iopub.status.busy": "2024-07-12T15:38:22.578116Z",
     "iopub.status.idle": "2024-07-12T15:38:22.586507Z",
     "shell.execute_reply": "2024-07-12T15:38:22.585404Z"
    },
    "papermill": {
     "duration": 0.03894,
     "end_time": "2024-07-12T15:38:22.588556",
     "exception": false,
     "start_time": "2024-07-12T15:38:22.549616",
     "status": "completed"
    },
    "tags": []
   },
   "outputs": [
    {
     "name": "stdout",
     "output_type": "stream",
     "text": [
      "Variance of Spotify Streams: 4.65813842211863e+16\n",
      "Variance of Spotify Playlist Reach: 1531928398715780.0\n",
      "0.15614324995433213\n"
     ]
    }
   ],
   "source": [
    "correlation = spotify['Spotify Streams'].corr(spotify['Spotify Playlist Reach'])\n",
    "stream_variance = spotify['Spotify Streams'].var()\n",
    "playlist_variance = spotify['Spotify Playlist Reach'].var()\n",
    "print(\"Variance of Spotify Streams:\", stream_variance)\n",
    "print(\"Variance of Spotify Playlist Reach:\", playlist_variance)\n",
    "print(correlation)"
   ]
  },
  {
   "cell_type": "code",
   "execution_count": 46,
   "id": "75ff304c",
   "metadata": {
    "execution": {
     "iopub.execute_input": "2024-07-12T15:38:22.645687Z",
     "iopub.status.busy": "2024-07-12T15:38:22.645297Z",
     "iopub.status.idle": "2024-07-12T15:38:22.972764Z",
     "shell.execute_reply": "2024-07-12T15:38:22.971789Z"
    },
    "papermill": {
     "duration": 0.358899,
     "end_time": "2024-07-12T15:38:22.975270",
     "exception": false,
     "start_time": "2024-07-12T15:38:22.616371",
     "status": "completed"
    },
    "tags": []
   },
   "outputs": [
    {
     "data": {
      "image/png": "[encoded data removed]",
      "text/plain": [
       "<Figure size 1200x600 with 1 Axes>"
      ]
     },
     "metadata": {},
     "output_type": "display_data"
    }
   ],
   "source": [
    " plt.figure(figsize=(12, 6))\n",
    "plt.scatter(spotify['Spotify Streams'], spotify['Spotify Playlist Reach'])\n",
    "plt.xlabel('Spotify Streams')\n",
    "plt.ylabel('Spotify Playlist Reach')\n",
    "plt.title('Spotify Streams vs. Spotify Playlist Reach ')\n",
    "plt.tight_layout()\n",
    "plt.show()"
   ]
  },
  {
   "cell_type": "code",
   "execution_count": 47,
   "id": "89a1585d",
   "metadata": {
    "execution": {
     "iopub.execute_input": "2024-07-12T15:38:23.033539Z",
     "iopub.status.busy": "2024-07-12T15:38:23.033141Z",
     "iopub.status.idle": "2024-07-12T15:38:23.169359Z",
     "shell.execute_reply": "2024-07-12T15:38:23.168276Z"
    },
    "papermill": {
     "duration": 0.167923,
     "end_time": "2024-07-12T15:38:23.171544",
     "exception": false,
     "start_time": "2024-07-12T15:38:23.003621",
     "status": "completed"
    },
    "tags": []
   },
   "outputs": [
    {
     "data": {
      "text/plain": [
       "<Axes: xlabel='Spotify Streams'>"
      ]
     },
     "execution_count": 47,
     "metadata": {},
     "output_type": "execute_result"
    },
    {
     "data": {
      "image/png": "[encoded data removed]",
      "text/plain": [
       "<Figure size 640x480 with 1 Axes>"
      ]
     },
     "metadata": {},
     "output_type": "display_data"
    }
   ],
   "source": [
    "sns.boxplot(\n",
    "    x = \"Spotify Streams\",\n",
    "    showmeans=True,  # Show mean \n",
    "    data=spotify\n",
    ")\n"
   ]
  },
  {
   "cell_type": "code",
   "execution_count": 48,
   "id": "485069e2",
   "metadata": {
    "execution": {
     "iopub.execute_input": "2024-07-12T15:38:23.231918Z",
     "iopub.status.busy": "2024-07-12T15:38:23.231204Z",
     "iopub.status.idle": "2024-07-12T15:38:23.523228Z",
     "shell.execute_reply": "2024-07-12T15:38:23.522251Z"
    },
    "papermill": {
     "duration": 0.324643,
     "end_time": "2024-07-12T15:38:23.525461",
     "exception": false,
     "start_time": "2024-07-12T15:38:23.200818",
     "status": "completed"
    },
    "tags": []
   },
   "outputs": [
    {
     "data": {
      "image/png": "[encoded data removed]",
      "text/plain": [
       "<Figure size 640x480 with 1 Axes>"
      ]
     },
     "metadata": {},
     "output_type": "display_data"
    }
   ],
   "source": [
    "sns.kdeplot(spotify[\"Spotify Streams\"])\n",
    "plt.xlabel('Spotify Streams')\n",
    "plt.ylabel('Density')\n",
    "plt.title('Distribution of Spotify Streams')\n",
    "plt.show()"
   ]
  },
  {
   "cell_type": "markdown",
   "id": "14cd3150",
   "metadata": {
    "papermill": {
     "duration": 0.028991,
     "end_time": "2024-07-12T15:38:23.584044",
     "exception": false,
     "start_time": "2024-07-12T15:38:23.555053",
     "status": "completed"
    },
    "tags": []
   },
   "source": [
    " ****I hope I covered all aspects Dont forget to upvote****"
   ]
  },
  {
   "cell_type": "markdown",
   "id": "2a503232",
   "metadata": {
    "papermill": {
     "duration": 0.028846,
     "end_time": "2024-07-12T15:38:23.642071",
     "exception": false,
     "start_time": "2024-07-12T15:38:23.613225",
     "status": "completed"
    },
    "tags": []
   },
   "source": [
    "**I have analyzed 2024**"
   ]
  },
  {
   "cell_type": "markdown",
   "id": "01407421",
   "metadata": {
    "papermill": {
     "duration": 0.029014,
     "end_time": "2024-07-12T15:38:23.700475",
     "exception": false,
     "start_time": "2024-07-12T15:38:23.671461",
     "status": "completed"
    },
    "tags": []
   },
   "source": [
    "# **Some conclusions¶**"
   ]
  },
  {
   "cell_type": "markdown",
   "id": "3bbacbf8",
   "metadata": {
    "papermill": {
     "duration": 0.031,
     "end_time": "2024-07-12T15:38:23.760783",
     "exception": false,
     "start_time": "2024-07-12T15:38:23.729783",
     "status": "completed"
    },
    "tags": []
   },
   "source": [
    "**1- Spotify is the most popular platform to release songs on, as it achieves the highest listening rates**"
   ]
  },
  {
   "cell_type": "markdown",
   "id": "f1f1b766",
   "metadata": {
    "papermill": {
     "duration": 0.02952,
     "end_time": "2024-07-12T15:38:23.819893",
     "exception": false,
     "start_time": "2024-07-12T15:38:23.790373",
     "status": "completed"
    },
    "tags": []
   },
   "source": [
    "**2- Taylor Swift is the most released song on the Spotify platform in 2024, as she released two albums consisting of 24 tracks and reached more than 3 billion listeners on Spotify.**"
   ]
  },
  {
   "cell_type": "markdown",
   "id": "9f0b353c",
   "metadata": {
    "papermill": {
     "duration": 0.029553,
     "end_time": "2024-07-12T15:38:23.879440",
     "exception": false,
     "start_time": "2024-07-12T15:38:23.849887",
     "status": "completed"
    },
    "tags": []
   },
   "source": [
    "**3- The most followed album on Spotify in 2024 was Papercuts by Linkin Park, with more than 6 billion listeners.**"
   ]
  },
  {
   "cell_type": "markdown",
   "id": "84371a67",
   "metadata": {
    "papermill": {
     "duration": 0.029422,
     "end_time": "2024-07-12T15:38:23.938698",
     "exception": false,
     "start_time": "2024-07-12T15:38:23.909276",
     "status": "completed"
    },
    "tags": []
   },
   "source": [
    "**4- The most listened to track on Spotify was also by the artist Linkin Park, which is In the End, and it reached more than 2 billion listeners.**"
   ]
  },
  {
   "cell_type": "markdown",
   "id": "5a5f70fd",
   "metadata": {
    "papermill": {
     "duration": 0.029208,
     "end_time": "2024-07-12T15:38:23.997810",
     "exception": false,
     "start_time": "2024-07-12T15:38:23.968602",
     "status": "completed"
    },
    "tags": []
   },
   "source": [
    "**5- The platform is doing a wonderful job in terms of increasing the issuance of tracks, which leads to an increase in listening rates for the platform because since the beginning of January it has witnessed a 30% increase in issuance.**"
   ]
  },
  {
   "cell_type": "markdown",
   "id": "bf3eef1e",
   "metadata": {
    "papermill": {
     "duration": 0.029406,
     "end_time": "2024-07-12T15:38:24.056666",
     "exception": false,
     "start_time": "2024-07-12T15:38:24.027260",
     "status": "completed"
    },
    "tags": []
   },
   "source": [
    "**6- MUSIC LAB JPN is the most listened to single track in 2024, as he released 4 tracks, reaching 6 billion listeners, as he is the best person to cover songs and his style is trendy.**"
   ]
  },
  {
   "cell_type": "markdown",
   "id": "1b979804",
   "metadata": {
    "papermill": {
     "duration": 0.029781,
     "end_time": "2024-07-12T15:38:24.115901",
     "exception": false,
     "start_time": "2024-07-12T15:38:24.086120",
     "status": "completed"
    },
    "tags": []
   },
   "source": [
    "****What you did to modify the data****"
   ]
  },
  {
   "cell_type": "markdown",
   "id": "52cfa220",
   "metadata": {
    "papermill": {
     "duration": 0.029698,
     "end_time": "2024-07-12T15:38:24.175125",
     "exception": false,
     "start_time": "2024-07-12T15:38:24.145427",
     "status": "completed"
    },
    "tags": []
   },
   "source": [
    "**1-I knew which columns I would be working on and which had missing values ​​that would be difficult to replace and deleted it** "
   ]
  },
  {
   "cell_type": "markdown",
   "id": "db243a41",
   "metadata": {
    "papermill": {
     "duration": 0.029523,
     "end_time": "2024-07-12T15:38:24.234303",
     "exception": false,
     "start_time": "2024-07-12T15:38:24.204780",
     "status": "completed"
    },
    "tags": []
   },
   "source": [
    "**2-I collected data for the year 2024 to know how to work on it**"
   ]
  },
  {
   "cell_type": "markdown",
   "id": "c7a86b26",
   "metadata": {
    "papermill": {
     "duration": 0.029468,
     "end_time": "2024-07-12T15:38:24.293382",
     "exception": false,
     "start_time": "2024-07-12T15:38:24.263914",
     "status": "completed"
    },
    "tags": []
   },
   "source": [
    "**3- I processed the missing values ​​in Spotify Popularity by adding the value that precedes it to the missing values**"
   ]
  },
  {
   "cell_type": "markdown",
   "id": "679228bb",
   "metadata": {
    "papermill": {
     "duration": 0.029561,
     "end_time": "2024-07-12T15:38:24.352441",
     "exception": false,
     "start_time": "2024-07-12T15:38:24.322880",
     "status": "completed"
    },
    "tags": []
   },
   "source": [
    "**4- I had 5 missing values ​​for the artists and I searched for the album, so each artist has more than one album, but they are all single tracks and it is also unknown which streams they have, so I deleted them.**"
   ]
  },
  {
   "cell_type": "markdown",
   "id": "0aeb37d3",
   "metadata": {
    "papermill": {
     "duration": 0.029297,
     "end_time": "2024-07-12T15:38:24.411183",
     "exception": false,
     "start_time": "2024-07-12T15:38:24.381886",
     "status": "completed"
    },
    "tags": []
   },
   "source": [
    "**5- Then I converted three columns of Object to Float so that I could deal with the data, and I also made the Float values ​​0 to make them numbers other than Float.**"
   ]
  },
  {
   "cell_type": "markdown",
   "id": "375b663a",
   "metadata": {
    "papermill": {
     "duration": 0.029308,
     "end_time": "2024-07-12T15:38:24.469899",
     "exception": false,
     "start_time": "2024-07-12T15:38:24.440591",
     "status": "completed"
    },
    "tags": []
   },
   "source": [
    "**6-After that, I collected the data while collecting the data \n",
    "I found that any single track released by Spotify is counted as a track from an album, and this is what made 21 Savage the most album releases with 6 in number of album releases consisting of 5 tracks and 5 single tracks.**"
   ]
  }
 ],
 "metadata": {
  "kaggle": {
   "accelerator": "none",
   "dataSources": [
    {
     "datasetId": 5218014,
     "sourceId": 8700156,
     "sourceType": "datasetVersion"
    }
   ],
   "dockerImageVersionId": 30732,
   "isGpuEnabled": false,
   "isInternetEnabled": true,
   "language": "python",
   "sourceType": "notebook"
  },
  "kernelspec": {
   "display_name": "Python 3",
   "language": "python",
   "name": "python3"
  },
  "language_info": {
   "codemirror_mode": {
    "name": "ipython",
    "version": 3
   },
   "file_extension": ".py",
   "mimetype": "text/x-python",
   "name": "python",
   "nbconvert_exporter": "python",
   "pygments_lexer": "ipython3",
   "version": "3.10.13"
  },
  "papermill": {
   "default_parameters": {},
   "duration": 13.148414,
   "end_time": "2024-07-12T15:38:25.019896",
   "environment_variables": {},
   "exception": null,
   "input_path": "__notebook__.ipynb",
   "output_path": "__notebook__.ipynb",
   "parameters": {},
   "start_time": "2024-07-12T15:38:11.871482",
   "version": "2.5.0"
  }
 },
 "nbformat": 4,
 "nbformat_minor": 5
}
