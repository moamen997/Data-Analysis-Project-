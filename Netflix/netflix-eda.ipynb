{
 "cells": [
  {
   "cell_type": "code",
   "execution_count": 1,
   "id": "73a50163",
   "metadata": {
    "_cell_guid": "b1076dfc-b9ad-4769-8c92-a6c4dae69d19",
    "_uuid": "8f2839f25d086af736a60e9eeb907d3b93b6e0e5",
    "execution": {
     "iopub.execute_input": "2024-03-12T21:57:43.015015Z",
     "iopub.status.busy": "2024-03-12T21:57:43.014640Z",
     "iopub.status.idle": "2024-03-12T21:57:45.208408Z",
     "shell.execute_reply": "2024-03-12T21:57:45.207210Z"
    },
    "papermill": {
     "duration": 2.211501,
     "end_time": "2024-03-12T21:57:45.211378",
     "exception": false,
     "start_time": "2024-03-12T21:57:42.999877",
     "status": "completed"
    },
    "tags": []
   },
   "outputs": [],
   "source": [
    "import numpy as np\n",
    "import pandas as pd\n",
    "import matplotlib.pyplot as plt\n",
    "import seaborn as sns\n",
    "palette = sns.color_palette(\"Set1\")\n",
    "%matplotlib inline\n",
    "import warnings\n",
    "warnings.simplefilter(action='ignore', category=FutureWarning)"
   ]
  },
  {
   "cell_type": "markdown",
   "id": "6e18d580",
   "metadata": {
    "papermill": {
     "duration": 0.010757,
     "end_time": "2024-03-12T21:57:45.233622",
     "exception": false,
     "start_time": "2024-03-12T21:57:45.222865",
     "status": "completed"
    },
    "tags": []
   },
   "source": [
    "# **Data Exploration**"
   ]
  },
  {
   "cell_type": "code",
   "execution_count": 2,
   "id": "e14d9f75",
   "metadata": {
    "execution": {
     "iopub.execute_input": "2024-03-12T21:57:45.257978Z",
     "iopub.status.busy": "2024-03-12T21:57:45.257424Z",
     "iopub.status.idle": "2024-03-12T21:57:45.344239Z",
     "shell.execute_reply": "2024-03-12T21:57:45.343105Z"
    },
    "papermill": {
     "duration": 0.102134,
     "end_time": "2024-03-12T21:57:45.347015",
     "exception": false,
     "start_time": "2024-03-12T21:57:45.244881",
     "status": "completed"
    },
    "tags": []
   },
   "outputs": [
    {
     "data": {
      "text/html": [
       "<div>\n",
       "<style scoped>\n",
       "    .dataframe tbody tr th:only-of-type {\n",
       "        vertical-align: middle;\n",
       "    }\n",
       "\n",
       "    .dataframe tbody tr th {\n",
       "        vertical-align: top;\n",
       "    }\n",
       "\n",
       "    .dataframe thead th {\n",
       "        text-align: right;\n",
       "    }\n",
       "</style>\n",
       "<table border=\"1\" class=\"dataframe\">\n",
       "  <thead>\n",
       "    <tr style=\"text-align: right;\">\n",
       "      <th></th>\n",
       "      <th>show_id</th>\n",
       "      <th>type</th>\n",
       "      <th>title</th>\n",
       "      <th>director</th>\n",
       "      <th>country</th>\n",
       "      <th>date_added</th>\n",
       "      <th>release_year</th>\n",
       "      <th>rating</th>\n",
       "      <th>duration</th>\n",
       "      <th>listed_in</th>\n",
       "    </tr>\n",
       "  </thead>\n",
       "  <tbody>\n",
       "    <tr>\n",
       "      <th>0</th>\n",
       "      <td>s1</td>\n",
       "      <td>Movie</td>\n",
       "      <td>Dick Johnson Is Dead</td>\n",
       "      <td>Kirsten Johnson</td>\n",
       "      <td>United States</td>\n",
       "      <td>9/25/2021</td>\n",
       "      <td>2020</td>\n",
       "      <td>PG-13</td>\n",
       "      <td>90 min</td>\n",
       "      <td>Documentaries</td>\n",
       "    </tr>\n",
       "    <tr>\n",
       "      <th>1</th>\n",
       "      <td>s3</td>\n",
       "      <td>TV Show</td>\n",
       "      <td>Ganglands</td>\n",
       "      <td>Julien Leclercq</td>\n",
       "      <td>France</td>\n",
       "      <td>9/24/2021</td>\n",
       "      <td>2021</td>\n",
       "      <td>TV-MA</td>\n",
       "      <td>1 Season</td>\n",
       "      <td>Crime TV Shows, International TV Shows, TV Act...</td>\n",
       "    </tr>\n",
       "    <tr>\n",
       "      <th>2</th>\n",
       "      <td>s6</td>\n",
       "      <td>TV Show</td>\n",
       "      <td>Midnight Mass</td>\n",
       "      <td>Mike Flanagan</td>\n",
       "      <td>United States</td>\n",
       "      <td>9/24/2021</td>\n",
       "      <td>2021</td>\n",
       "      <td>TV-MA</td>\n",
       "      <td>1 Season</td>\n",
       "      <td>TV Dramas, TV Horror, TV Mysteries</td>\n",
       "    </tr>\n",
       "    <tr>\n",
       "      <th>3</th>\n",
       "      <td>s14</td>\n",
       "      <td>Movie</td>\n",
       "      <td>Confessions of an Invisible Girl</td>\n",
       "      <td>Bruno Garotti</td>\n",
       "      <td>Brazil</td>\n",
       "      <td>9/22/2021</td>\n",
       "      <td>2021</td>\n",
       "      <td>TV-PG</td>\n",
       "      <td>91 min</td>\n",
       "      <td>Children &amp; Family Movies, Comedies</td>\n",
       "    </tr>\n",
       "    <tr>\n",
       "      <th>4</th>\n",
       "      <td>s8</td>\n",
       "      <td>Movie</td>\n",
       "      <td>Sankofa</td>\n",
       "      <td>Haile Gerima</td>\n",
       "      <td>United States</td>\n",
       "      <td>9/24/2021</td>\n",
       "      <td>1993</td>\n",
       "      <td>TV-MA</td>\n",
       "      <td>125 min</td>\n",
       "      <td>Dramas, Independent Movies, International Movies</td>\n",
       "    </tr>\n",
       "  </tbody>\n",
       "</table>\n",
       "</div>"
      ],
      "text/plain": [
       "  show_id     type                             title         director  \\\n",
       "0      s1    Movie              Dick Johnson Is Dead  Kirsten Johnson   \n",
       "1      s3  TV Show                         Ganglands  Julien Leclercq   \n",
       "2      s6  TV Show                     Midnight Mass    Mike Flanagan   \n",
       "3     s14    Movie  Confessions of an Invisible Girl    Bruno Garotti   \n",
       "4      s8    Movie                           Sankofa     Haile Gerima   \n",
       "\n",
       "         country date_added  release_year rating  duration  \\\n",
       "0  United States  9/25/2021          2020  PG-13    90 min   \n",
       "1         France  9/24/2021          2021  TV-MA  1 Season   \n",
       "2  United States  9/24/2021          2021  TV-MA  1 Season   \n",
       "3         Brazil  9/22/2021          2021  TV-PG    91 min   \n",
       "4  United States  9/24/2021          1993  TV-MA   125 min   \n",
       "\n",
       "                                           listed_in  \n",
       "0                                      Documentaries  \n",
       "1  Crime TV Shows, International TV Shows, TV Act...  \n",
       "2                 TV Dramas, TV Horror, TV Mysteries  \n",
       "3                 Children & Family Movies, Comedies  \n",
       "4   Dramas, Independent Movies, International Movies  "
      ]
     },
     "execution_count": 2,
     "metadata": {},
     "output_type": "execute_result"
    }
   ],
   "source": [
    "netflix=pd.read_csv('/kaggle/input/netflix-data-cleaning-analysis-and-visualization/netflix1.csv')\n",
    "netflix.head()"
   ]
  },
  {
   "cell_type": "code",
   "execution_count": 3,
   "id": "2e98e19a",
   "metadata": {
    "execution": {
     "iopub.execute_input": "2024-03-12T21:57:45.371982Z",
     "iopub.status.busy": "2024-03-12T21:57:45.371535Z",
     "iopub.status.idle": "2024-03-12T21:57:45.403604Z",
     "shell.execute_reply": "2024-03-12T21:57:45.402466Z"
    },
    "papermill": {
     "duration": 0.047403,
     "end_time": "2024-03-12T21:57:45.406131",
     "exception": false,
     "start_time": "2024-03-12T21:57:45.358728",
     "status": "completed"
    },
    "tags": []
   },
   "outputs": [
    {
     "name": "stdout",
     "output_type": "stream",
     "text": [
      "<class 'pandas.core.frame.DataFrame'>\n",
      "RangeIndex: 8790 entries, 0 to 8789\n",
      "Data columns (total 10 columns):\n",
      " #   Column        Non-Null Count  Dtype \n",
      "---  ------        --------------  ----- \n",
      " 0   show_id       8790 non-null   object\n",
      " 1   type          8790 non-null   object\n",
      " 2   title         8790 non-null   object\n",
      " 3   director      8790 non-null   object\n",
      " 4   country       8790 non-null   object\n",
      " 5   date_added    8790 non-null   object\n",
      " 6   release_year  8790 non-null   int64 \n",
      " 7   rating        8790 non-null   object\n",
      " 8   duration      8790 non-null   object\n",
      " 9   listed_in     8790 non-null   object\n",
      "dtypes: int64(1), object(9)\n",
      "memory usage: 686.8+ KB\n"
     ]
    }
   ],
   "source": [
    "netflix.info()"
   ]
  },
  {
   "cell_type": "code",
   "execution_count": 4,
   "id": "784cadd2",
   "metadata": {
    "execution": {
     "iopub.execute_input": "2024-03-12T21:57:45.431723Z",
     "iopub.status.busy": "2024-03-12T21:57:45.431322Z",
     "iopub.status.idle": "2024-03-12T21:57:45.438138Z",
     "shell.execute_reply": "2024-03-12T21:57:45.437140Z"
    },
    "papermill": {
     "duration": 0.022669,
     "end_time": "2024-03-12T21:57:45.440552",
     "exception": false,
     "start_time": "2024-03-12T21:57:45.417883",
     "status": "completed"
    },
    "tags": []
   },
   "outputs": [
    {
     "data": {
      "text/plain": [
       "(8790, 10)"
      ]
     },
     "execution_count": 4,
     "metadata": {},
     "output_type": "execute_result"
    }
   ],
   "source": [
    "netflix.shape"
   ]
  },
  {
   "cell_type": "markdown",
   "id": "8aa25879",
   "metadata": {
    "papermill": {
     "duration": 0.011421,
     "end_time": "2024-03-12T21:57:45.464009",
     "exception": false,
     "start_time": "2024-03-12T21:57:45.452588",
     "status": "completed"
    },
    "tags": []
   },
   "source": [
    "# **Data Cleaning**"
   ]
  },
  {
   "cell_type": "code",
   "execution_count": 5,
   "id": "ff5d1f8f",
   "metadata": {
    "execution": {
     "iopub.execute_input": "2024-03-12T21:57:45.489379Z",
     "iopub.status.busy": "2024-03-12T21:57:45.489001Z",
     "iopub.status.idle": "2024-03-12T21:57:45.506632Z",
     "shell.execute_reply": "2024-03-12T21:57:45.505467Z"
    },
    "papermill": {
     "duration": 0.033426,
     "end_time": "2024-03-12T21:57:45.509298",
     "exception": false,
     "start_time": "2024-03-12T21:57:45.475872",
     "status": "completed"
    },
    "tags": []
   },
   "outputs": [
    {
     "data": {
      "text/plain": [
       "show_id         0\n",
       "type            0\n",
       "title           0\n",
       "director        0\n",
       "country         0\n",
       "date_added      0\n",
       "release_year    0\n",
       "rating          0\n",
       "duration        0\n",
       "listed_in       0\n",
       "dtype: int64"
      ]
     },
     "execution_count": 5,
     "metadata": {},
     "output_type": "execute_result"
    }
   ],
   "source": [
    "netflix.isnull().sum()"
   ]
  },
  {
   "cell_type": "code",
   "execution_count": 6,
   "id": "baf8231a",
   "metadata": {
    "execution": {
     "iopub.execute_input": "2024-03-12T21:57:45.536355Z",
     "iopub.status.busy": "2024-03-12T21:57:45.535367Z",
     "iopub.status.idle": "2024-03-12T21:57:45.555035Z",
     "shell.execute_reply": "2024-03-12T21:57:45.554204Z"
    },
    "papermill": {
     "duration": 0.035195,
     "end_time": "2024-03-12T21:57:45.557295",
     "exception": false,
     "start_time": "2024-03-12T21:57:45.522100",
     "status": "completed"
    },
    "tags": []
   },
   "outputs": [
    {
     "data": {
      "text/plain": [
       "0"
      ]
     },
     "execution_count": 6,
     "metadata": {},
     "output_type": "execute_result"
    }
   ],
   "source": [
    "netflix.duplicated().sum()"
   ]
  },
  {
   "cell_type": "code",
   "execution_count": 7,
   "id": "7088e664",
   "metadata": {
    "execution": {
     "iopub.execute_input": "2024-03-12T21:57:45.583412Z",
     "iopub.status.busy": "2024-03-12T21:57:45.583053Z",
     "iopub.status.idle": "2024-03-12T21:57:45.592343Z",
     "shell.execute_reply": "2024-03-12T21:57:45.591149Z"
    },
    "papermill": {
     "duration": 0.025162,
     "end_time": "2024-03-12T21:57:45.594737",
     "exception": false,
     "start_time": "2024-03-12T21:57:45.569575",
     "status": "completed"
    },
    "tags": []
   },
   "outputs": [],
   "source": [
    "netflix.drop(columns=\"show_id\", inplace=True )"
   ]
  },
  {
   "cell_type": "code",
   "execution_count": 8,
   "id": "3140a73f",
   "metadata": {
    "execution": {
     "iopub.execute_input": "2024-03-12T21:57:45.620714Z",
     "iopub.status.busy": "2024-03-12T21:57:45.620307Z",
     "iopub.status.idle": "2024-03-12T21:57:45.634800Z",
     "shell.execute_reply": "2024-03-12T21:57:45.633656Z"
    },
    "papermill": {
     "duration": 0.030041,
     "end_time": "2024-03-12T21:57:45.637018",
     "exception": false,
     "start_time": "2024-03-12T21:57:45.606977",
     "status": "completed"
    },
    "tags": []
   },
   "outputs": [
    {
     "data": {
      "text/html": [
       "<div>\n",
       "<style scoped>\n",
       "    .dataframe tbody tr th:only-of-type {\n",
       "        vertical-align: middle;\n",
       "    }\n",
       "\n",
       "    .dataframe tbody tr th {\n",
       "        vertical-align: top;\n",
       "    }\n",
       "\n",
       "    .dataframe thead th {\n",
       "        text-align: right;\n",
       "    }\n",
       "</style>\n",
       "<table border=\"1\" class=\"dataframe\">\n",
       "  <thead>\n",
       "    <tr style=\"text-align: right;\">\n",
       "      <th></th>\n",
       "      <th>type</th>\n",
       "      <th>title</th>\n",
       "      <th>director</th>\n",
       "      <th>country</th>\n",
       "      <th>date_added</th>\n",
       "      <th>release_year</th>\n",
       "      <th>rating</th>\n",
       "      <th>duration</th>\n",
       "      <th>listed_in</th>\n",
       "    </tr>\n",
       "  </thead>\n",
       "  <tbody>\n",
       "    <tr>\n",
       "      <th>0</th>\n",
       "      <td>Movie</td>\n",
       "      <td>Dick Johnson Is Dead</td>\n",
       "      <td>Kirsten Johnson</td>\n",
       "      <td>United States</td>\n",
       "      <td>9/25/2021</td>\n",
       "      <td>2020</td>\n",
       "      <td>PG-13</td>\n",
       "      <td>90 min</td>\n",
       "      <td>Documentaries</td>\n",
       "    </tr>\n",
       "    <tr>\n",
       "      <th>1</th>\n",
       "      <td>TV Show</td>\n",
       "      <td>Ganglands</td>\n",
       "      <td>Julien Leclercq</td>\n",
       "      <td>France</td>\n",
       "      <td>9/24/2021</td>\n",
       "      <td>2021</td>\n",
       "      <td>TV-MA</td>\n",
       "      <td>1 Season</td>\n",
       "      <td>Crime TV Shows, International TV Shows, TV Act...</td>\n",
       "    </tr>\n",
       "    <tr>\n",
       "      <th>2</th>\n",
       "      <td>TV Show</td>\n",
       "      <td>Midnight Mass</td>\n",
       "      <td>Mike Flanagan</td>\n",
       "      <td>United States</td>\n",
       "      <td>9/24/2021</td>\n",
       "      <td>2021</td>\n",
       "      <td>TV-MA</td>\n",
       "      <td>1 Season</td>\n",
       "      <td>TV Dramas, TV Horror, TV Mysteries</td>\n",
       "    </tr>\n",
       "    <tr>\n",
       "      <th>3</th>\n",
       "      <td>Movie</td>\n",
       "      <td>Confessions of an Invisible Girl</td>\n",
       "      <td>Bruno Garotti</td>\n",
       "      <td>Brazil</td>\n",
       "      <td>9/22/2021</td>\n",
       "      <td>2021</td>\n",
       "      <td>TV-PG</td>\n",
       "      <td>91 min</td>\n",
       "      <td>Children &amp; Family Movies, Comedies</td>\n",
       "    </tr>\n",
       "    <tr>\n",
       "      <th>4</th>\n",
       "      <td>Movie</td>\n",
       "      <td>Sankofa</td>\n",
       "      <td>Haile Gerima</td>\n",
       "      <td>United States</td>\n",
       "      <td>9/24/2021</td>\n",
       "      <td>1993</td>\n",
       "      <td>TV-MA</td>\n",
       "      <td>125 min</td>\n",
       "      <td>Dramas, Independent Movies, International Movies</td>\n",
       "    </tr>\n",
       "  </tbody>\n",
       "</table>\n",
       "</div>"
      ],
      "text/plain": [
       "      type                             title         director        country  \\\n",
       "0    Movie              Dick Johnson Is Dead  Kirsten Johnson  United States   \n",
       "1  TV Show                         Ganglands  Julien Leclercq         France   \n",
       "2  TV Show                     Midnight Mass    Mike Flanagan  United States   \n",
       "3    Movie  Confessions of an Invisible Girl    Bruno Garotti         Brazil   \n",
       "4    Movie                           Sankofa     Haile Gerima  United States   \n",
       "\n",
       "  date_added  release_year rating  duration  \\\n",
       "0  9/25/2021          2020  PG-13    90 min   \n",
       "1  9/24/2021          2021  TV-MA  1 Season   \n",
       "2  9/24/2021          2021  TV-MA  1 Season   \n",
       "3  9/22/2021          2021  TV-PG    91 min   \n",
       "4  9/24/2021          1993  TV-MA   125 min   \n",
       "\n",
       "                                           listed_in  \n",
       "0                                      Documentaries  \n",
       "1  Crime TV Shows, International TV Shows, TV Act...  \n",
       "2                 TV Dramas, TV Horror, TV Mysteries  \n",
       "3                 Children & Family Movies, Comedies  \n",
       "4   Dramas, Independent Movies, International Movies  "
      ]
     },
     "execution_count": 8,
     "metadata": {},
     "output_type": "execute_result"
    }
   ],
   "source": [
    "netflix.head()"
   ]
  },
  {
   "cell_type": "markdown",
   "id": "d40f678b",
   "metadata": {
    "papermill": {
     "duration": 0.012477,
     "end_time": "2024-03-12T21:57:45.661895",
     "exception": false,
     "start_time": "2024-03-12T21:57:45.649418",
     "status": "completed"
    },
    "tags": []
   },
   "source": [
    "# **Data Preprocessing** **&** **Data visualization**"
   ]
  },
  {
   "cell_type": "markdown",
   "id": "6a26c402",
   "metadata": {
    "papermill": {
     "duration": 0.01198,
     "end_time": "2024-03-12T21:57:45.686627",
     "exception": false,
     "start_time": "2024-03-12T21:57:45.674647",
     "status": "completed"
    },
    "tags": []
   },
   "source": [
    "**Type**"
   ]
  },
  {
   "cell_type": "code",
   "execution_count": 9,
   "id": "8b24934e",
   "metadata": {
    "execution": {
     "iopub.execute_input": "2024-03-12T21:57:45.713049Z",
     "iopub.status.busy": "2024-03-12T21:57:45.712625Z",
     "iopub.status.idle": "2024-03-12T21:57:45.722268Z",
     "shell.execute_reply": "2024-03-12T21:57:45.721494Z"
    },
    "papermill": {
     "duration": 0.025212,
     "end_time": "2024-03-12T21:57:45.724380",
     "exception": false,
     "start_time": "2024-03-12T21:57:45.699168",
     "status": "completed"
    },
    "tags": []
   },
   "outputs": [
    {
     "data": {
      "text/plain": [
       "type\n",
       "Movie      6126\n",
       "TV Show    2664\n",
       "Name: count, dtype: int64"
      ]
     },
     "execution_count": 9,
     "metadata": {},
     "output_type": "execute_result"
    }
   ],
   "source": [
    "type_netflix=netflix.type.value_counts()\n",
    "type_netflix"
   ]
  },
  {
   "cell_type": "code",
   "execution_count": 10,
   "id": "57383d46",
   "metadata": {
    "execution": {
     "iopub.execute_input": "2024-03-12T21:57:45.751688Z",
     "iopub.status.busy": "2024-03-12T21:57:45.751319Z",
     "iopub.status.idle": "2024-03-12T21:57:46.018971Z",
     "shell.execute_reply": "2024-03-12T21:57:46.017848Z"
    },
    "papermill": {
     "duration": 0.284137,
     "end_time": "2024-03-12T21:57:46.021442",
     "exception": false,
     "start_time": "2024-03-12T21:57:45.737305",
     "status": "completed"
    },
    "tags": []
   },
   "outputs": [
    {
     "data": {
      "image/png": "[encoded data removed]",
      "text/plain": [
       "<Figure size 640x480 with 1 Axes>"
      ]
     },
     "metadata": {},
     "output_type": "display_data"
    }
   ],
   "source": [
    "plt.bar(type_netflix.index,type_netflix)\n",
    "for i in range(len(type_netflix)):\n",
    "    plt.text(i , type_netflix[i]//2,type_netflix[i], ha='center')\n",
    "plt.title('Content provided by Netflix')\n",
    "plt.show()"
   ]
  },
  {
   "cell_type": "code",
   "execution_count": 11,
   "id": "edc346dd",
   "metadata": {
    "execution": {
     "iopub.execute_input": "2024-03-12T21:57:46.049191Z",
     "iopub.status.busy": "2024-03-12T21:57:46.048717Z",
     "iopub.status.idle": "2024-03-12T21:57:46.283064Z",
     "shell.execute_reply": "2024-03-12T21:57:46.281411Z"
    },
    "papermill": {
     "duration": 0.253015,
     "end_time": "2024-03-12T21:57:46.287426",
     "exception": false,
     "start_time": "2024-03-12T21:57:46.034411",
     "status": "completed"
    },
    "tags": []
   },
   "outputs": [
    {
     "data": {
      "image/png": "[encoded data removed]",
      "text/plain": [
       "<Figure size 640x480 with 1 Axes>"
      ]
     },
     "metadata": {},
     "output_type": "display_data"
    }
   ],
   "source": [
    "plt.pie(type_netflix,autopct='%1.1f%%',labels=type_netflix.index)\n",
    "plt.title(\"Netflix Content Type\")\n",
    "plt.show()"
   ]
  },
  {
   "cell_type": "markdown",
   "id": "d2c8cf22",
   "metadata": {
    "papermill": {
     "duration": 0.027764,
     "end_time": "2024-03-12T21:57:46.343700",
     "exception": false,
     "start_time": "2024-03-12T21:57:46.315936",
     "status": "completed"
    },
    "tags": []
   },
   "source": [
    "**Show added in year**"
   ]
  },
  {
   "cell_type": "code",
   "execution_count": 12,
   "id": "c79e2ae8",
   "metadata": {
    "execution": {
     "iopub.execute_input": "2024-03-12T21:57:46.373928Z",
     "iopub.status.busy": "2024-03-12T21:57:46.372965Z",
     "iopub.status.idle": "2024-03-12T21:57:46.383285Z",
     "shell.execute_reply": "2024-03-12T21:57:46.382479Z"
    },
    "papermill": {
     "duration": 0.02727,
     "end_time": "2024-03-12T21:57:46.385439",
     "exception": false,
     "start_time": "2024-03-12T21:57:46.358169",
     "status": "completed"
    },
    "tags": []
   },
   "outputs": [
    {
     "data": {
      "text/plain": [
       "release_year\n",
       "2011     185\n",
       "2012     236\n",
       "2013     286\n",
       "2014     352\n",
       "2015     555\n",
       "2016     901\n",
       "2017    1030\n",
       "2018    1146\n",
       "2019    1030\n",
       "2020     953\n",
       "2021     592\n",
       "Name: type, dtype: int64"
      ]
     },
     "execution_count": 12,
     "metadata": {},
     "output_type": "execute_result"
    }
   ],
   "source": [
    "release_year =netflix.groupby(['release_year'])['type'].count()\n",
    "release_year[-11:]"
   ]
  },
  {
   "cell_type": "code",
   "execution_count": 13,
   "id": "2bf95247",
   "metadata": {
    "execution": {
     "iopub.execute_input": "2024-03-12T21:57:46.415043Z",
     "iopub.status.busy": "2024-03-12T21:57:46.414333Z",
     "iopub.status.idle": "2024-03-12T21:57:46.439549Z",
     "shell.execute_reply": "2024-03-12T21:57:46.438328Z"
    },
    "papermill": {
     "duration": 0.042964,
     "end_time": "2024-03-12T21:57:46.442163",
     "exception": false,
     "start_time": "2024-03-12T21:57:46.399199",
     "status": "completed"
    },
    "tags": []
   },
   "outputs": [
    {
     "data": {
      "text/plain": [
       "0   2021-09-25\n",
       "1   2021-09-24\n",
       "2   2021-09-24\n",
       "3   2021-09-22\n",
       "4   2021-09-24\n",
       "5   2021-09-24\n",
       "6   2021-09-24\n",
       "7   2021-05-01\n",
       "8   2021-09-23\n",
       "9   2021-05-01\n",
       "Name: date_added, dtype: datetime64[ns]"
      ]
     },
     "execution_count": 13,
     "metadata": {},
     "output_type": "execute_result"
    }
   ],
   "source": [
    "netflix['date_added']=pd.to_datetime(netflix[\"date_added\"])\n",
    "netflix['date_added'].head(10)"
   ]
  },
  {
   "cell_type": "code",
   "execution_count": 14,
   "id": "98d25706",
   "metadata": {
    "execution": {
     "iopub.execute_input": "2024-03-12T21:57:46.471878Z",
     "iopub.status.busy": "2024-03-12T21:57:46.471435Z",
     "iopub.status.idle": "2024-03-12T21:57:46.482870Z",
     "shell.execute_reply": "2024-03-12T21:57:46.482064Z"
    },
    "papermill": {
     "duration": 0.029004,
     "end_time": "2024-03-12T21:57:46.485166",
     "exception": false,
     "start_time": "2024-03-12T21:57:46.456162",
     "status": "completed"
    },
    "tags": []
   },
   "outputs": [
    {
     "data": {
      "text/plain": [
       "date_added\n",
       "2008       2\n",
       "2009       2\n",
       "2010       1\n",
       "2011      13\n",
       "2012       3\n",
       "2013      11\n",
       "2014      24\n",
       "2015      82\n",
       "2016     426\n",
       "2017    1185\n",
       "2018    1648\n",
       "2019    2016\n",
       "2020    1879\n",
       "2021    1498\n",
       "Name: type, dtype: int64"
      ]
     },
     "execution_count": 14,
     "metadata": {},
     "output_type": "execute_result"
    }
   ],
   "source": [
    "date_added=netflix.groupby(netflix['date_added'].dt.year)['type'].count()\n",
    "date_added"
   ]
  },
  {
   "cell_type": "code",
   "execution_count": 15,
   "id": "7d1a6ea3",
   "metadata": {
    "execution": {
     "iopub.execute_input": "2024-03-12T21:57:46.516422Z",
     "iopub.status.busy": "2024-03-12T21:57:46.515408Z",
     "iopub.status.idle": "2024-03-12T21:57:46.832109Z",
     "shell.execute_reply": "2024-03-12T21:57:46.830952Z"
    },
    "papermill": {
     "duration": 0.334681,
     "end_time": "2024-03-12T21:57:46.834589",
     "exception": false,
     "start_time": "2024-03-12T21:57:46.499908",
     "status": "completed"
    },
    "tags": []
   },
   "outputs": [
    {
     "data": {
      "image/png": "[encoded data removed]",
      "text/plain": [
       "<Figure size 640x480 with 1 Axes>"
      ]
     },
     "metadata": {},
     "output_type": "display_data"
    }
   ],
   "source": [
    "plt.plot(date_added.index,date_added)\n",
    "plt.title('Number of Movies & Tv Released Each Year')\n",
    "plt.xlabel('Show per year')\n",
    "plt.ylabel('counts in years')\n",
    "plt.grid()\n",
    "plt.show()"
   ]
  },
  {
   "cell_type": "markdown",
   "id": "5bcc1973",
   "metadata": {
    "papermill": {
     "duration": 0.014369,
     "end_time": "2024-03-12T21:57:46.864289",
     "exception": false,
     "start_time": "2024-03-12T21:57:46.849920",
     "status": "completed"
    },
    "tags": []
   },
   "source": [
    "**Country**"
   ]
  },
  {
   "cell_type": "code",
   "execution_count": 16,
   "id": "fcd5f373",
   "metadata": {
    "execution": {
     "iopub.execute_input": "2024-03-12T21:57:46.896174Z",
     "iopub.status.busy": "2024-03-12T21:57:46.895711Z",
     "iopub.status.idle": "2024-03-12T21:57:46.906877Z",
     "shell.execute_reply": "2024-03-12T21:57:46.905255Z"
    },
    "papermill": {
     "duration": 0.030099,
     "end_time": "2024-03-12T21:57:46.909255",
     "exception": false,
     "start_time": "2024-03-12T21:57:46.879156",
     "status": "completed"
    },
    "tags": []
   },
   "outputs": [
    {
     "data": {
      "text/plain": [
       "country\n",
       "United States     3240\n",
       "India             1057\n",
       "United Kingdom     638\n",
       "Pakistan           421\n",
       "Not Given          287\n",
       "Canada             271\n",
       "Japan              259\n",
       "South Korea        214\n",
       "France             213\n",
       "Spain              182\n",
       "Mexico             138\n",
       "Name: count, dtype: int64"
      ]
     },
     "execution_count": 16,
     "metadata": {},
     "output_type": "execute_result"
    }
   ],
   "source": [
    "country=netflix['country'].value_counts()[:11]\n",
    "country"
   ]
  },
  {
   "cell_type": "code",
   "execution_count": 17,
   "id": "6023eafa",
   "metadata": {
    "execution": {
     "iopub.execute_input": "2024-03-12T21:57:46.940911Z",
     "iopub.status.busy": "2024-03-12T21:57:46.940464Z",
     "iopub.status.idle": "2024-03-12T21:57:47.338614Z",
     "shell.execute_reply": "2024-03-12T21:57:47.337589Z"
    },
    "papermill": {
     "duration": 0.417153,
     "end_time": "2024-03-12T21:57:47.341338",
     "exception": false,
     "start_time": "2024-03-12T21:57:46.924185",
     "status": "completed"
    },
    "tags": []
   },
   "outputs": [
    {
     "data": {
      "image/png": "[encoded data removed]",
      "text/plain": [
       "<Figure size 1500x800 with 1 Axes>"
      ]
     },
     "metadata": {},
     "output_type": "display_data"
    }
   ],
   "source": [
    "plt.figure(figsize=(15, 8))\n",
    "plt.bar(country.index,country, color= palette)\n",
    "for i in range(len(country)):\n",
    "    plt.text(i , country[i]//2,country[i], ha ='center')\n",
    "plt.title('Top 10 country ')\n",
    "plt.xlabel('country')\n",
    "plt.ylabel(\"Count of Movie & TV show\")\n",
    "plt.show()"
   ]
  },
  {
   "cell_type": "markdown",
   "id": "2aded1c2",
   "metadata": {
    "papermill": {
     "duration": 0.015144,
     "end_time": "2024-03-12T21:57:47.372220",
     "exception": false,
     "start_time": "2024-03-12T21:57:47.357076",
     "status": "completed"
    },
    "tags": []
   },
   "source": [
    "**Director**"
   ]
  },
  {
   "cell_type": "code",
   "execution_count": 18,
   "id": "9e250f86",
   "metadata": {
    "execution": {
     "iopub.execute_input": "2024-03-12T21:57:47.405527Z",
     "iopub.status.busy": "2024-03-12T21:57:47.405154Z",
     "iopub.status.idle": "2024-03-12T21:57:47.419061Z",
     "shell.execute_reply": "2024-03-12T21:57:47.417870Z"
    },
    "papermill": {
     "duration": 0.033615,
     "end_time": "2024-03-12T21:57:47.421458",
     "exception": false,
     "start_time": "2024-03-12T21:57:47.387843",
     "status": "completed"
    },
    "tags": []
   },
   "outputs": [
    {
     "data": {
      "text/plain": [
       "director\n",
       "Not Given                         2588\n",
       "Rajiv Chilaka                       20\n",
       "Alastair Fothergill                 18\n",
       "Raúl Campos, Jan Suter              18\n",
       "Suhas Kadav                         16\n",
       "                                  ... \n",
       "Matt D'Avella                        1\n",
       "Parthiban                            1\n",
       "Scott McAboy                         1\n",
       "Raymie Muzquiz, Stu Livingston       1\n",
       "Mozez Singh                          1\n",
       "Name: count, Length: 4528, dtype: int64"
      ]
     },
     "execution_count": 18,
     "metadata": {},
     "output_type": "execute_result"
    }
   ],
   "source": [
    "director = netflix['director'].value_counts()\n",
    "director"
   ]
  },
  {
   "cell_type": "code",
   "execution_count": 19,
   "id": "c0053a44",
   "metadata": {
    "execution": {
     "iopub.execute_input": "2024-03-12T21:57:47.455096Z",
     "iopub.status.busy": "2024-03-12T21:57:47.454679Z",
     "iopub.status.idle": "2024-03-12T21:57:47.461252Z",
     "shell.execute_reply": "2024-03-12T21:57:47.460157Z"
    },
    "papermill": {
     "duration": 0.026082,
     "end_time": "2024-03-12T21:57:47.463441",
     "exception": false,
     "start_time": "2024-03-12T21:57:47.437359",
     "status": "completed"
    },
    "tags": []
   },
   "outputs": [
    {
     "name": "stdout",
     "output_type": "stream",
     "text": [
      "Director Given Name = 6202\n",
      "We have 2588 Movie & TV show with not given name director\n"
     ]
    }
   ],
   "source": [
    "Given_director=director.sum()- director[0]\n",
    "print( f'Director Given Name = {Given_director}')\n",
    "print(f'We have {director[0]} Movie & TV show with not given name director')"
   ]
  },
  {
   "cell_type": "code",
   "execution_count": 20,
   "id": "e055beaf",
   "metadata": {
    "execution": {
     "iopub.execute_input": "2024-03-12T21:57:47.497662Z",
     "iopub.status.busy": "2024-03-12T21:57:47.496574Z",
     "iopub.status.idle": "2024-03-12T21:57:47.847103Z",
     "shell.execute_reply": "2024-03-12T21:57:47.845966Z"
    },
    "papermill": {
     "duration": 0.37108,
     "end_time": "2024-03-12T21:57:47.850475",
     "exception": false,
     "start_time": "2024-03-12T21:57:47.479395",
     "status": "completed"
    },
    "tags": []
   },
   "outputs": [
    {
     "data": {
      "image/png": "[encoded data removed]",
      "text/plain": [
       "<Figure size 640x480 with 1 Axes>"
      ]
     },
     "metadata": {},
     "output_type": "display_data"
    }
   ],
   "source": [
    "plt.barh(director[1:11].index,director[1:11],color=palette)\n",
    "plt.title('The 10 most directors on Netflix ')\n",
    "for index , value in enumerate(director[1:11]):\n",
    "    plt.text(value , index, str(value))\n",
    "plt.xlabel('Count of Movie & TV show')\n",
    "plt.ylabel('Name of Director ')\n",
    "plt.show()"
   ]
  },
  {
   "cell_type": "markdown",
   "id": "1e04604f",
   "metadata": {
    "papermill": {
     "duration": 0.016703,
     "end_time": "2024-03-12T21:57:47.883921",
     "exception": false,
     "start_time": "2024-03-12T21:57:47.867218",
     "status": "completed"
    },
    "tags": []
   },
   "source": [
    "**Rating**"
   ]
  },
  {
   "cell_type": "code",
   "execution_count": 21,
   "id": "c219177d",
   "metadata": {
    "execution": {
     "iopub.execute_input": "2024-03-12T21:57:47.919904Z",
     "iopub.status.busy": "2024-03-12T21:57:47.919519Z",
     "iopub.status.idle": "2024-03-12T21:57:47.929316Z",
     "shell.execute_reply": "2024-03-12T21:57:47.928151Z"
    },
    "papermill": {
     "duration": 0.031629,
     "end_time": "2024-03-12T21:57:47.932200",
     "exception": false,
     "start_time": "2024-03-12T21:57:47.900571",
     "status": "completed"
    },
    "tags": []
   },
   "outputs": [
    {
     "data": {
      "text/plain": [
       "rating\n",
       "TV-MA       3205\n",
       "TV-14       2157\n",
       "TV-PG        861\n",
       "R            799\n",
       "PG-13        490\n",
       "TV-Y7        333\n",
       "TV-Y         306\n",
       "PG           287\n",
       "TV-G         220\n",
       "NR            79\n",
       "G             41\n",
       "TV-Y7-FV       6\n",
       "NC-17          3\n",
       "UR             3\n",
       "Name: count, dtype: int64"
      ]
     },
     "execution_count": 21,
     "metadata": {},
     "output_type": "execute_result"
    }
   ],
   "source": [
    "rating=netflix['rating'].value_counts()\n",
    "rating"
   ]
  },
  {
   "cell_type": "code",
   "execution_count": 22,
   "id": "679eeba9",
   "metadata": {
    "execution": {
     "iopub.execute_input": "2024-03-12T21:57:47.967526Z",
     "iopub.status.busy": "2024-03-12T21:57:47.967150Z",
     "iopub.status.idle": "2024-03-12T21:57:48.343139Z",
     "shell.execute_reply": "2024-03-12T21:57:48.342006Z"
    },
    "papermill": {
     "duration": 0.397062,
     "end_time": "2024-03-12T21:57:48.346094",
     "exception": false,
     "start_time": "2024-03-12T21:57:47.949032",
     "status": "completed"
    },
    "tags": []
   },
   "outputs": [
    {
     "data": {
      "image/png": "[encoded data removed]",
      "text/plain": [
       "<Figure size 640x480 with 1 Axes>"
      ]
     },
     "metadata": {},
     "output_type": "display_data"
    }
   ],
   "source": [
    "plt.barh(rating.index,rating, color =palette)\n",
    "for index , value in enumerate(rating):\n",
    "    plt.text(value, index,str(value))\n",
    "plt.xlabel('Count of Movie & TV show')\n",
    "plt.ylabel('Rating of Netflix')\n",
    "plt.title('Rating for Movie & TV show')\n",
    "plt.show()"
   ]
  },
  {
   "cell_type": "code",
   "execution_count": 23,
   "id": "5048b44e",
   "metadata": {
    "execution": {
     "iopub.execute_input": "2024-03-12T21:57:48.387638Z",
     "iopub.status.busy": "2024-03-12T21:57:48.386448Z",
     "iopub.status.idle": "2024-03-12T21:57:48.414942Z",
     "shell.execute_reply": "2024-03-12T21:57:48.413763Z"
    },
    "papermill": {
     "duration": 0.052769,
     "end_time": "2024-03-12T21:57:48.417461",
     "exception": false,
     "start_time": "2024-03-12T21:57:48.364692",
     "status": "completed"
    },
    "tags": []
   },
   "outputs": [
    {
     "data": {
      "text/html": [
       "<div>\n",
       "<style scoped>\n",
       "    .dataframe tbody tr th:only-of-type {\n",
       "        vertical-align: middle;\n",
       "    }\n",
       "\n",
       "    .dataframe tbody tr th {\n",
       "        vertical-align: top;\n",
       "    }\n",
       "\n",
       "    .dataframe thead th {\n",
       "        text-align: right;\n",
       "    }\n",
       "</style>\n",
       "<table border=\"1\" class=\"dataframe\">\n",
       "  <thead>\n",
       "    <tr style=\"text-align: right;\">\n",
       "      <th>type</th>\n",
       "      <th>Movie</th>\n",
       "      <th>TV Show</th>\n",
       "    </tr>\n",
       "    <tr>\n",
       "      <th>rating</th>\n",
       "      <th></th>\n",
       "      <th></th>\n",
       "    </tr>\n",
       "  </thead>\n",
       "  <tbody>\n",
       "    <tr>\n",
       "      <th>G</th>\n",
       "      <td>41</td>\n",
       "      <td>0</td>\n",
       "    </tr>\n",
       "    <tr>\n",
       "      <th>NC-17</th>\n",
       "      <td>3</td>\n",
       "      <td>0</td>\n",
       "    </tr>\n",
       "    <tr>\n",
       "      <th>NR</th>\n",
       "      <td>75</td>\n",
       "      <td>4</td>\n",
       "    </tr>\n",
       "    <tr>\n",
       "      <th>PG</th>\n",
       "      <td>287</td>\n",
       "      <td>0</td>\n",
       "    </tr>\n",
       "    <tr>\n",
       "      <th>PG-13</th>\n",
       "      <td>490</td>\n",
       "      <td>0</td>\n",
       "    </tr>\n",
       "    <tr>\n",
       "      <th>R</th>\n",
       "      <td>797</td>\n",
       "      <td>2</td>\n",
       "    </tr>\n",
       "    <tr>\n",
       "      <th>TV-14</th>\n",
       "      <td>1427</td>\n",
       "      <td>730</td>\n",
       "    </tr>\n",
       "    <tr>\n",
       "      <th>TV-G</th>\n",
       "      <td>126</td>\n",
       "      <td>94</td>\n",
       "    </tr>\n",
       "    <tr>\n",
       "      <th>TV-MA</th>\n",
       "      <td>2062</td>\n",
       "      <td>1143</td>\n",
       "    </tr>\n",
       "    <tr>\n",
       "      <th>TV-PG</th>\n",
       "      <td>540</td>\n",
       "      <td>321</td>\n",
       "    </tr>\n",
       "    <tr>\n",
       "      <th>TV-Y</th>\n",
       "      <td>131</td>\n",
       "      <td>175</td>\n",
       "    </tr>\n",
       "    <tr>\n",
       "      <th>TV-Y7</th>\n",
       "      <td>139</td>\n",
       "      <td>194</td>\n",
       "    </tr>\n",
       "    <tr>\n",
       "      <th>TV-Y7-FV</th>\n",
       "      <td>5</td>\n",
       "      <td>1</td>\n",
       "    </tr>\n",
       "    <tr>\n",
       "      <th>UR</th>\n",
       "      <td>3</td>\n",
       "      <td>0</td>\n",
       "    </tr>\n",
       "  </tbody>\n",
       "</table>\n",
       "</div>"
      ],
      "text/plain": [
       "type      Movie  TV Show\n",
       "rating                  \n",
       "G            41        0\n",
       "NC-17         3        0\n",
       "NR           75        4\n",
       "PG          287        0\n",
       "PG-13       490        0\n",
       "R           797        2\n",
       "TV-14      1427      730\n",
       "TV-G        126       94\n",
       "TV-MA      2062     1143\n",
       "TV-PG       540      321\n",
       "TV-Y        131      175\n",
       "TV-Y7       139      194\n",
       "TV-Y7-FV      5        1\n",
       "UR            3        0"
      ]
     },
     "execution_count": 23,
     "metadata": {},
     "output_type": "execute_result"
    }
   ],
   "source": [
    "rating=pd.crosstab([netflix.rating],[netflix.type])\n",
    "rating"
   ]
  },
  {
   "cell_type": "markdown",
   "id": "cb9df74d",
   "metadata": {
    "papermill": {
     "duration": 0.017416,
     "end_time": "2024-03-12T21:57:48.452999",
     "exception": false,
     "start_time": "2024-03-12T21:57:48.435583",
     "status": "completed"
    },
    "tags": []
   },
   "source": [
    "# **Some conclusions**"
   ]
  },
  {
   "cell_type": "markdown",
   "id": "8ebfaa84",
   "metadata": {
    "papermill": {
     "duration": 0.017548,
     "end_time": "2024-03-12T21:57:48.488249",
     "exception": false,
     "start_time": "2024-03-12T21:57:48.470701",
     "status": "completed"
    },
    "tags": []
   },
   "source": [
    "***1-The Netflix platform is diverse in showing both Movies and TV shows***"
   ]
  },
  {
   "cell_type": "markdown",
   "id": "c4c83cf8",
   "metadata": {
    "papermill": {
     "duration": 0.017927,
     "end_time": "2024-03-12T21:57:48.523998",
     "exception": false,
     "start_time": "2024-03-12T21:57:48.506071",
     "status": "completed"
    },
    "tags": []
   },
   "source": [
    "***2-Netflix is ​​also available in many countries around the world, most notably America, India, and the United Kingdom***"
   ]
  },
  {
   "cell_type": "markdown",
   "id": "dbc27ad6",
   "metadata": {
    "papermill": {
     "duration": 0.017391,
     "end_time": "2024-03-12T21:57:48.559253",
     "exception": false,
     "start_time": "2024-03-12T21:57:48.541862",
     "status": "completed"
    },
    "tags": []
   },
   "source": [
    "***3-The platform began in 1925, and until now it continues to increase in terms of tv shows and movie***"
   ]
  },
  {
   "cell_type": "markdown",
   "id": "8fc7d87d",
   "metadata": {
    "papermill": {
     "duration": 0.017506,
     "end_time": "2024-03-12T21:57:48.594522",
     "exception": false,
     "start_time": "2024-03-12T21:57:48.577016",
     "status": "completed"
    },
    "tags": []
   },
   "source": [
    "***4-The platform witnessed a decline in production after 2019, and this was evident in the years 2020 and 2021, due to the global pandemic Covid-19.***"
   ]
  },
  {
   "cell_type": "markdown",
   "id": "f434eb1f",
   "metadata": {
    "papermill": {
     "duration": 0.017378,
     "end_time": "2024-03-12T21:57:48.629734",
     "exception": false,
     "start_time": "2024-03-12T21:57:48.612356",
     "status": "completed"
    },
    "tags": []
   },
   "source": [
    "***5-The most popular Rating reviews are: TV-MA & TV-14 ***"
   ]
  },
  {
   "cell_type": "markdown",
   "id": "aed4aa7c",
   "metadata": {
    "papermill": {
     "duration": 0.082098,
     "end_time": "2024-03-12T21:57:48.730135",
     "exception": false,
     "start_time": "2024-03-12T21:57:48.648037",
     "status": "completed"
    },
    "tags": []
   },
   "source": [
    "***6-There are many distinguished directors on the platform, the most prominent of whom are: rajiv chilaka & alastair fothergill & raul campos  ***"
   ]
  },
  {
   "cell_type": "markdown",
   "id": "ffcf7109",
   "metadata": {
    "papermill": {
     "duration": 0.017568,
     "end_time": "2024-03-12T21:57:48.765700",
     "exception": false,
     "start_time": "2024-03-12T21:57:48.748132",
     "status": "completed"
    },
    "tags": []
   },
   "source": [
    "****I hope I covered all aspects\n",
    "Dont forget to upvote ****"
   ]
  }
 ],
 "metadata": {
  "kaggle": {
   "accelerator": "none",
   "dataSources": [
    {
     "datasetId": 2437124,
     "sourceId": 4123716,
     "sourceType": "datasetVersion"
    }
   ],
   "dockerImageVersionId": 30664,
   "isGpuEnabled": false,
   "isInternetEnabled": true,
   "language": "python",
   "sourceType": "notebook"
  },
  "kernelspec": {
   "display_name": "Python 3",
   "language": "python",
   "name": "python3"
  },
  "language_info": {
   "codemirror_mode": {
    "name": "ipython",
    "version": 3
   },
   "file_extension": ".py",
   "mimetype": "text/x-python",
   "name": "python",
   "nbconvert_exporter": "python",
   "pygments_lexer": "ipython3",
   "version": "3.10.13"
  },
  "papermill": {
   "default_parameters": {},
   "duration": 9.392484,
   "end_time": "2024-03-12T21:57:49.404250",
   "environment_variables": {},
   "exception": null,
   "input_path": "__notebook__.ipynb",
   "output_path": "__notebook__.ipynb",
   "parameters": {},
   "start_time": "2024-03-12T21:57:40.011766",
   "version": "2.5.0"
  }
 },
 "nbformat": 4,
 "nbformat_minor": 5
}
